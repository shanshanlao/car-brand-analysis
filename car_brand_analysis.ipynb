{
 "cells": [
  {
   "cell_type": "code",
   "execution_count": 120,
   "metadata": {},
   "outputs": [],
   "source": [
    "import pandas as pd\n",
    "import re\n",
    "import datetime\n",
    "import itertools"
   ]
  },
  {
   "attachments": {},
   "cell_type": "markdown",
   "metadata": {},
   "source": [
    "# A. Text Cleaning"
   ]
  },
  {
   "cell_type": "code",
   "execution_count": 121,
   "metadata": {},
   "outputs": [
    {
     "data": {
      "text/html": [
       "<div>\n",
       "<style scoped>\n",
       "    .dataframe tbody tr th:only-of-type {\n",
       "        vertical-align: middle;\n",
       "    }\n",
       "\n",
       "    .dataframe tbody tr th {\n",
       "        vertical-align: top;\n",
       "    }\n",
       "\n",
       "    .dataframe thead th {\n",
       "        text-align: right;\n",
       "    }\n",
       "</style>\n",
       "<table border=\"1\" class=\"dataframe\">\n",
       "  <thead>\n",
       "    <tr style=\"text-align: right;\">\n",
       "      <th></th>\n",
       "      <th>date</th>\n",
       "      <th>user_id</th>\n",
       "      <th>message</th>\n",
       "    </tr>\n",
       "  </thead>\n",
       "  <tbody>\n",
       "    <tr>\n",
       "      <th>0</th>\n",
       "      <td>2022-01-01 03:53:00</td>\n",
       "      <td>benjaminh</td>\n",
       "      <td>\\nAlthough the acceleration times in most car ...</td>\n",
       "    </tr>\n",
       "    <tr>\n",
       "      <th>1</th>\n",
       "      <td>2022-01-01 03:57:00</td>\n",
       "      <td>tjc78</td>\n",
       "      <td>\\n\\n@stickguy said:\\nXM only comes on it if yo...</td>\n",
       "    </tr>\n",
       "    <tr>\n",
       "      <th>2</th>\n",
       "      <td>2022-01-01 04:08:00</td>\n",
       "      <td>tjc78</td>\n",
       "      <td>\\n\\n@qbrozen said:\\nI don’t have the room for ...</td>\n",
       "    </tr>\n",
       "    <tr>\n",
       "      <th>3</th>\n",
       "      <td>2022-01-01 04:48:00</td>\n",
       "      <td>graphicguy</td>\n",
       "      <td>\\nCongrats @stickguy ……very cool!</td>\n",
       "    </tr>\n",
       "    <tr>\n",
       "      <th>4</th>\n",
       "      <td>2022-01-01 06:03:00</td>\n",
       "      <td>au1994</td>\n",
       "      <td>\\nHappy New Year all!Congrats @stickguy. I rea...</td>\n",
       "    </tr>\n",
       "  </tbody>\n",
       "</table>\n",
       "</div>"
      ],
      "text/plain": [
       "                  date     user_id  \\\n",
       "0  2022-01-01 03:53:00   benjaminh   \n",
       "1  2022-01-01 03:57:00       tjc78   \n",
       "2  2022-01-01 04:08:00       tjc78   \n",
       "3  2022-01-01 04:48:00  graphicguy   \n",
       "4  2022-01-01 06:03:00      au1994   \n",
       "\n",
       "                                             message  \n",
       "0  \\nAlthough the acceleration times in most car ...  \n",
       "1  \\n\\n@stickguy said:\\nXM only comes on it if yo...  \n",
       "2  \\n\\n@qbrozen said:\\nI don’t have the room for ...  \n",
       "3                 \\nCongrats @stickguy ……very cool!   \n",
       "4  \\nHappy New Year all!Congrats @stickguy. I rea...  "
      ]
     },
     "execution_count": 121,
     "metadata": {},
     "output_type": "execute_result"
    }
   ],
   "source": [
    "comments = pd.read_csv('forum_comments_2022.csv')\n",
    "comments.head()"
   ]
  },
  {
   "cell_type": "code",
   "execution_count": 122,
   "metadata": {},
   "outputs": [
    {
     "data": {
      "text/plain": [
       "'\\nAlthough the acceleration times in most car magazines are somewhat bogus, they are still useful for comparison. Anyway, Car and Driver has just tested a Maverick 2.0 awd, and they got a 0-60 time of 5.9, which is not that far from a base BMW 330i at 5.6. Anyway, for the money the Maverick is a fast vehicle.https://www.caranddriver.com/reviews/a38516737/2022-ford-maverick-xlt-fx4-by-the-numbers/stickguy: Did you end up going for the 0% financing? If so, those payments of c. 750 a month are steep, but the equity will obviously build up very quickly. Even right now you could probably sell it for several thousand more than what you bought it for. The latest I heard on the chip shortage is that it will only slowly abate in 2022. According to one article I saw, things aren\\'t likely to truly get back to \"normal,\" whatever that is, probably until the second half of 2023. If true, this will likely mean that there won\\'t be a sudden collapse of car prices. With all the lost production and pent up demand we\\'ve got, used and new vehicle prices are likely to remain high for the first half of 2022, and then only slowly start to decline after that. And so in 6 months or so when your Maverick hybrid arrives you should still be able to pocket a handy profit on your 2.0 Maverick as you make the trade. '"
      ]
     },
     "execution_count": 122,
     "metadata": {},
     "output_type": "execute_result"
    }
   ],
   "source": [
    "comments['message'][0]"
   ]
  },
  {
   "attachments": {},
   "cell_type": "markdown",
   "metadata": {},
   "source": [
    "### Remove username in the message"
   ]
  },
  {
   "cell_type": "code",
   "execution_count": 123,
   "metadata": {},
   "outputs": [],
   "source": [
    "def remove_uid(text):\n",
    "    return re.sub(r'@\\S+', '', text)"
   ]
  },
  {
   "cell_type": "code",
   "execution_count": 124,
   "metadata": {},
   "outputs": [
    {
     "data": {
      "text/plain": [
       "'\\nAlthough the acceleration times in most car magazines are somewhat bogus, they are still useful for comparison. Anyway, Car and Driver has just tested a Maverick 2.0 awd, and they got a 0-60 time of 5.9, which is not that far from a base BMW 330i at 5.6. Anyway, for the money the Maverick is a fast vehicle.https://www.caranddriver.com/reviews/a38516737/2022-ford-maverick-xlt-fx4-by-the-numbers/stickguy: Did you end up going for the 0% financing? If so, those payments of c. 750 a month are steep, but the equity will obviously build up very quickly. Even right now you could probably sell it for several thousand more than what you bought it for. The latest I heard on the chip shortage is that it will only slowly abate in 2022. According to one article I saw, things aren\\'t likely to truly get back to \"normal,\" whatever that is, probably until the second half of 2023. If true, this will likely mean that there won\\'t be a sudden collapse of car prices. With all the lost production and pent up demand we\\'ve got, used and new vehicle prices are likely to remain high for the first half of 2022, and then only slowly start to decline after that. And so in 6 months or so when your Maverick hybrid arrives you should still be able to pocket a handy profit on your 2.0 Maverick as you make the trade. '"
      ]
     },
     "execution_count": 124,
     "metadata": {},
     "output_type": "execute_result"
    }
   ],
   "source": [
    "comments['cleaned'] = [remove_uid(w) for w in comments['message']]\n",
    "comments['cleaned'][0]"
   ]
  },
  {
   "attachments": {},
   "cell_type": "markdown",
   "metadata": {},
   "source": [
    "### Convert all text to lower case"
   ]
  },
  {
   "cell_type": "code",
   "execution_count": 125,
   "metadata": {},
   "outputs": [
    {
     "data": {
      "text/plain": [
       "'\\nalthough the acceleration times in most car magazines are somewhat bogus, they are still useful for comparison. anyway, car and driver has just tested a maverick 2.0 awd, and they got a 0-60 time of 5.9, which is not that far from a base bmw 330i at 5.6. anyway, for the money the maverick is a fast vehicle.https://www.caranddriver.com/reviews/a38516737/2022-ford-maverick-xlt-fx4-by-the-numbers/stickguy: did you end up going for the 0% financing? if so, those payments of c. 750 a month are steep, but the equity will obviously build up very quickly. even right now you could probably sell it for several thousand more than what you bought it for. the latest i heard on the chip shortage is that it will only slowly abate in 2022. according to one article i saw, things aren\\'t likely to truly get back to \"normal,\" whatever that is, probably until the second half of 2023. if true, this will likely mean that there won\\'t be a sudden collapse of car prices. with all the lost production and pent up demand we\\'ve got, used and new vehicle prices are likely to remain high for the first half of 2022, and then only slowly start to decline after that. and so in 6 months or so when your maverick hybrid arrives you should still be able to pocket a handy profit on your 2.0 maverick as you make the trade. '"
      ]
     },
     "execution_count": 125,
     "metadata": {},
     "output_type": "execute_result"
    }
   ],
   "source": [
    "comments['cleaned'] = comments['cleaned'].str.lower()\n",
    "comments['cleaned'][0]"
   ]
  },
  {
   "attachments": {},
   "cell_type": "markdown",
   "metadata": {},
   "source": [
    "### Remove Unicode Character (URL)"
   ]
  },
  {
   "cell_type": "code",
   "execution_count": 126,
   "metadata": {},
   "outputs": [],
   "source": [
    "import re\n",
    "\n",
    "def remove_url(text):\n",
    "    return re.sub(r'http\\S+', '', text)"
   ]
  },
  {
   "cell_type": "code",
   "execution_count": 127,
   "metadata": {},
   "outputs": [
    {
     "data": {
      "text/plain": [
       "'\\nalthough the acceleration times in most car magazines are somewhat bogus, they are still useful for comparison. anyway, car and driver has just tested a maverick 2.0 awd, and they got a 0-60 time of 5.9, which is not that far from a base bmw 330i at 5.6. anyway, for the money the maverick is a fast vehicle. did you end up going for the 0% financing? if so, those payments of c. 750 a month are steep, but the equity will obviously build up very quickly. even right now you could probably sell it for several thousand more than what you bought it for. the latest i heard on the chip shortage is that it will only slowly abate in 2022. according to one article i saw, things aren\\'t likely to truly get back to \"normal,\" whatever that is, probably until the second half of 2023. if true, this will likely mean that there won\\'t be a sudden collapse of car prices. with all the lost production and pent up demand we\\'ve got, used and new vehicle prices are likely to remain high for the first half of 2022, and then only slowly start to decline after that. and so in 6 months or so when your maverick hybrid arrives you should still be able to pocket a handy profit on your 2.0 maverick as you make the trade. '"
      ]
     },
     "execution_count": 127,
     "metadata": {},
     "output_type": "execute_result"
    }
   ],
   "source": [
    "comments['cleaned'] = [remove_url(w) for w in comments['cleaned']]\n",
    "comments['cleaned'][0]"
   ]
  },
  {
   "attachments": {},
   "cell_type": "markdown",
   "metadata": {},
   "source": [
    "### Remove numbers"
   ]
  },
  {
   "cell_type": "code",
   "execution_count": 128,
   "metadata": {},
   "outputs": [],
   "source": [
    "import re \n",
    "order = r'[0-9]'\n",
    "\n",
    "# text as the row\n",
    "def remove_numbers(text):\n",
    "    filtered_text = re.sub(order,'',text)\n",
    "    return filtered_text\n"
   ]
  },
  {
   "cell_type": "code",
   "execution_count": 129,
   "metadata": {},
   "outputs": [
    {
     "data": {
      "text/plain": [
       "'\\nalthough the acceleration times in most car magazines are somewhat bogus, they are still useful for comparison. anyway, car and driver has just tested a maverick . awd, and they got a - time of ., which is not that far from a base bmw i at .. anyway, for the money the maverick is a fast vehicle. did you end up going for the % financing? if so, those payments of c.  a month are steep, but the equity will obviously build up very quickly. even right now you could probably sell it for several thousand more than what you bought it for. the latest i heard on the chip shortage is that it will only slowly abate in . according to one article i saw, things aren\\'t likely to truly get back to \"normal,\" whatever that is, probably until the second half of . if true, this will likely mean that there won\\'t be a sudden collapse of car prices. with all the lost production and pent up demand we\\'ve got, used and new vehicle prices are likely to remain high for the first half of , and then only slowly start to decline after that. and so in  months or so when your maverick hybrid arrives you should still be able to pocket a handy profit on your . maverick as you make the trade. '"
      ]
     },
     "execution_count": 129,
     "metadata": {},
     "output_type": "execute_result"
    }
   ],
   "source": [
    "comments['cleaned'] = [remove_numbers(w) for w in comments['cleaned']]\n",
    "comments['cleaned'][0]"
   ]
  },
  {
   "attachments": {},
   "cell_type": "markdown",
   "metadata": {},
   "source": [
    "### Remove punctuation\n",
    "\n",
    "Replace punctuation with white space to avoid string concatenation"
   ]
  },
  {
   "cell_type": "code",
   "execution_count": 130,
   "metadata": {},
   "outputs": [],
   "source": [
    "import string\n",
    "\n",
    "def remove_punctuation(text):\n",
    "    filtered_text = text.translate(str.maketrans(string.punctuation,\" \"*len(string.punctuation)))\n",
    "    return filtered_text\n"
   ]
  },
  {
   "cell_type": "code",
   "execution_count": 131,
   "metadata": {},
   "outputs": [
    {
     "data": {
      "text/plain": [
       "'\\nalthough the acceleration times in most car magazines are somewhat bogus  they are still useful for comparison  anyway  car and driver has just tested a maverick   awd  and they got a   time of    which is not that far from a base bmw i at    anyway  for the money the maverick is a fast vehicle  did you end up going for the   financing  if so  those payments of c   a month are steep  but the equity will obviously build up very quickly  even right now you could probably sell it for several thousand more than what you bought it for  the latest i heard on the chip shortage is that it will only slowly abate in   according to one article i saw  things aren t likely to truly get back to  normal   whatever that is  probably until the second half of   if true  this will likely mean that there won t be a sudden collapse of car prices  with all the lost production and pent up demand we ve got  used and new vehicle prices are likely to remain high for the first half of   and then only slowly start to decline after that  and so in  months or so when your maverick hybrid arrives you should still be able to pocket a handy profit on your   maverick as you make the trade  '"
      ]
     },
     "execution_count": 131,
     "metadata": {},
     "output_type": "execute_result"
    }
   ],
   "source": [
    "comments['cleaned'] = [remove_punctuation(w) for w in comments['cleaned']]\n",
    "comments['cleaned'][0]"
   ]
  },
  {
   "attachments": {},
   "cell_type": "markdown",
   "metadata": {},
   "source": [
    "### Tokenize: breaking sentences into words\n",
    "\n",
    "Use TreebankWordTokenizer to not break the contradition word like \"I'm\" \"I don't\""
   ]
  },
  {
   "cell_type": "code",
   "execution_count": 132,
   "metadata": {},
   "outputs": [],
   "source": [
    "import nltk\n",
    "from nltk import word_tokenize\n",
    "from nltk.tokenize import TreebankWordTokenizer\n",
    "\n",
    "def tokenize_word(text):\n",
    "    return TreebankWordTokenizer().tokenize(text)"
   ]
  },
  {
   "cell_type": "code",
   "execution_count": 133,
   "metadata": {},
   "outputs": [
    {
     "data": {
      "text/plain": [
       "0    [although, the, acceleration, times, in, most,...\n",
       "1    [said, xm, only, comes, on, it, if, you, add, ...\n",
       "2    [said, i, don’t, have, the, room, for, it, but...\n",
       "3                             [congrats, ……very, cool]\n",
       "4    [happy, new, year, all, congrats, i, really, r...\n",
       "Name: tokenized, dtype: object"
      ]
     },
     "execution_count": 133,
     "metadata": {},
     "output_type": "execute_result"
    }
   ],
   "source": [
    "comments['tokenized'] = [tokenize_word(w) for w in comments['cleaned']]\n",
    "\n",
    "comments['tokenized'].head()"
   ]
  },
  {
   "attachments": {},
   "cell_type": "markdown",
   "metadata": {},
   "source": [
    "### Remove stop words"
   ]
  },
  {
   "cell_type": "code",
   "execution_count": 134,
   "metadata": {},
   "outputs": [],
   "source": [
    "import nltk\n",
    "from nltk.corpus import stopwords\n",
    "\n",
    "stop_words = nltk.corpus.stopwords.words('english')\n",
    "\n",
    "# Query as the row \n",
    "def remove_stopwords(query):\n",
    "    result = [word for word in query if word not in stop_words]\n",
    "    return result"
   ]
  },
  {
   "cell_type": "code",
   "execution_count": 135,
   "metadata": {},
   "outputs": [
    {
     "data": {
      "text/plain": [
       "0    [although, acceleration, times, car, magazines...\n",
       "1    [said, xm, comes, add, lariat, luxury, package...\n",
       "2    [said, don’t, room, someone, save, poor, thing...\n",
       "3                             [congrats, ……very, cool]\n",
       "4    [happy, new, year, congrats, really, really, l...\n",
       "Name: cleaned, dtype: object"
      ]
     },
     "execution_count": 135,
     "metadata": {},
     "output_type": "execute_result"
    }
   ],
   "source": [
    "comments['cleaned'] = [remove_stopwords(w) for w in comments['tokenized']]\n",
    "comments['cleaned'].head()"
   ]
  },
  {
   "attachments": {},
   "cell_type": "markdown",
   "metadata": {},
   "source": [
    "# B. Find the top-5 brands \n",
    "\n",
    "Find from the forum messages by calculating frequency counts. \n",
    "\n",
    "For each brand, the mention is counted only once per post."
   ]
  },
  {
   "cell_type": "code",
   "execution_count": 136,
   "metadata": {},
   "outputs": [
    {
     "data": {
      "text/html": [
       "<div>\n",
       "<style scoped>\n",
       "    .dataframe tbody tr th:only-of-type {\n",
       "        vertical-align: middle;\n",
       "    }\n",
       "\n",
       "    .dataframe tbody tr th {\n",
       "        vertical-align: top;\n",
       "    }\n",
       "\n",
       "    .dataframe thead th {\n",
       "        text-align: right;\n",
       "    }\n",
       "</style>\n",
       "<table border=\"1\" class=\"dataframe\">\n",
       "  <thead>\n",
       "    <tr style=\"text-align: right;\">\n",
       "      <th></th>\n",
       "      <th>Make</th>\n",
       "    </tr>\n",
       "  </thead>\n",
       "  <tbody>\n",
       "    <tr>\n",
       "      <th>0</th>\n",
       "      <td>SNVI</td>\n",
       "    </tr>\n",
       "    <tr>\n",
       "      <th>1</th>\n",
       "      <td>Zanella</td>\n",
       "    </tr>\n",
       "    <tr>\n",
       "      <th>2</th>\n",
       "      <td>Koller</td>\n",
       "    </tr>\n",
       "    <tr>\n",
       "      <th>3</th>\n",
       "      <td>Anasagasti</td>\n",
       "    </tr>\n",
       "    <tr>\n",
       "      <th>4</th>\n",
       "      <td>AutoLatina</td>\n",
       "    </tr>\n",
       "  </tbody>\n",
       "</table>\n",
       "</div>"
      ],
      "text/plain": [
       "         Make\n",
       "0        SNVI\n",
       "1     Zanella\n",
       "2      Koller\n",
       "3  Anasagasti\n",
       "4  AutoLatina"
      ]
     },
     "execution_count": 136,
     "metadata": {},
     "output_type": "execute_result"
    }
   ],
   "source": [
    "brands = pd.read_csv('car_companies.csv')\n",
    "brands.head()"
   ]
  },
  {
   "cell_type": "code",
   "execution_count": 137,
   "metadata": {},
   "outputs": [
    {
     "data": {
      "text/plain": [
       "['snvi', 'zanella', 'koller', 'anasagasti', 'autolatina']"
      ]
     },
     "execution_count": 137,
     "metadata": {},
     "output_type": "execute_result"
    }
   ],
   "source": [
    "# Extract the brand names\n",
    "brands = brands['Make'].tolist()\n",
    "\n",
    "# Convert to lowercase\n",
    "brands = list(map(str.lower,brands))\n",
    "\n",
    "brands[:5]"
   ]
  },
  {
   "cell_type": "code",
   "execution_count": 138,
   "metadata": {},
   "outputs": [],
   "source": [
    "freqDict = dict(zip(brands, [0]*len(brands)))\n",
    "\n",
    "# For each message\n",
    "for i in range(len(comments)):\n",
    "    # For every word in the message\n",
    "    text = comments['cleaned'][i]\n",
    "    for w in text:\n",
    "        if w in brands:\n",
    "            freqDict[w] += 1"
   ]
  },
  {
   "cell_type": "code",
   "execution_count": 139,
   "metadata": {},
   "outputs": [
    {
     "name": "stdout",
     "output_type": "stream",
     "text": [
      "{'holden': 1, 'steyr': 1, 'sin': 1, 'beaumont': 1, 'brooks': 6, 'dennis': 1, 'derby': 2, 'dynasty': 1, 'monarch': 1, 'passport': 5, 'russell': 10, 'aero': 5, 'alpine': 8, 'bugatti': 14, 'peugeot': 10, 'renault': 3, 'alpina': 4, 'apollo': 1, 'audi': 329, 'bitter': 5, 'bmw': 648, 'fuso': 4, 'man': 177, 'opel': 63, 'porsche': 77, 'smart': 69, 'volkswagen': 17, 'borgward': 1, 'nag': 2, 'bet': 109, 'force': 25, 'tvs': 16, 'hero': 2, 'premier': 8, 'standard': 165, 'tmc': 2, 'abarth': 1, 'cts': 7, 'ducati': 3, 'ferrari': 21, 'fiat': 49, 'iso': 3, 'lancia': 2, 'lamborghini': 11, 'maserati': 14, 'zagato': 3, 'bertone': 4, 'fca': 3, 'rapid': 4, 'acura': 245, 'daihatsu': 3, 'dome': 7, 'honda': 379, 'infiniti': 104, 'isuzu': 13, 'kawasaki': 3, 'lexus': 89, 'mazda': 107, 'nissan': 187, 'subaru': 159, 'suzuki': 26, 'toyota': 387, 'yamaha': 3, 'datsun': 6, 'eunos': 1, 'stellantis': 15, 'buddy': 55, 'think': 2478, 'delta': 25, 'star': 19, 'umm': 6, 'yugo': 4, 'genesis': 48, 'hyundai': 254, 'kia': 158, 'daewoo': 6, 'samsung': 10, 'seat': 351, 'micro': 17, 'polestar': 92, 'saab': 19, 'martini': 1, 'ac': 87, 'bentley': 14, 'jaguar': 10, 'lotus': 8, 'mclaren': 6, 'mg': 5, 'mini': 275, 'tvr': 1, 'vauxhall': 3, 'alvis': 1, 'austin': 41, 'bristol': 5, 'daimler': 3, 'marcos': 1, 'rover': 41, 'singer': 2, 'triumph': 3, 'buick': 56, 'cadillac': 96, 'chevrolet': 26, 'chrysler': 68, 'dodge': 45, 'eldorado': 3, 'fisker': 2, 'ford': 801, 'freightliner': 1, 'gm': 172, 'google': 71, 'gem': 7, 'gmc': 16, 'jeep': 484, 'karma': 1, 'lincoln': 64, 'mack': 1, 'pierce': 2, 'polaris': 1, 'ram': 111, 'rivian': 159, 'shelby': 1, 'srt': 6, 'tesla': 395, 'amc': 2, 'brush': 8, 'chandler': 3, 'columbia': 1, 'continental': 37, 'cord': 17, 'cutting': 21, 'eagle': 9, 'edsel': 5, 'essex': 1, 'gardner': 1, 'geo': 2, 'hudson': 1, 'hummer': 1, 'jackson': 7, 'kaiser': 1, 'king': 32, 'lafayette': 2, 'lexington': 2, 'local': 521, 'mercury': 4, 'mitchell': 4, 'moon': 23, 'nash': 1, 'national': 51, 'oldsmobile': 24, 'overland': 1, 'packard': 2, 'peerless': 3, 'pilot': 133, 'plymouth': 13, 'pontiac': 31, 'regal': 4, 'saturn': 42, 'stanley': 4, 'white': 399, 'willys': 10}\n"
     ]
    }
   ],
   "source": [
    "newDict = dict((k, v) for k, v in freqDict.items() if v > 0)\n",
    "print(newDict)"
   ]
  },
  {
   "cell_type": "code",
   "execution_count": 140,
   "metadata": {},
   "outputs": [
    {
     "name": "stdout",
     "output_type": "stream",
     "text": [
      "{'think': 2478, 'ford': 801, 'bmw': 648, 'local': 521, 'jeep': 484, 'white': 399, 'tesla': 395, 'toyota': 387, 'honda': 379, 'seat': 351, 'audi': 329, 'mini': 275, 'hyundai': 254, 'acura': 245, 'nissan': 187, 'man': 177, 'gm': 172, 'standard': 165, 'subaru': 159, 'rivian': 159, 'kia': 158, 'pilot': 133, 'ram': 111, 'bet': 109, 'mazda': 107, 'infiniti': 104, 'cadillac': 96, 'polestar': 92, 'lexus': 89, 'ac': 87, 'porsche': 77, 'google': 71, 'smart': 69, 'chrysler': 68, 'lincoln': 64, 'opel': 63, 'buick': 56, 'buddy': 55, 'national': 51, 'fiat': 49, 'genesis': 48, 'dodge': 45, 'saturn': 42, 'austin': 41, 'rover': 41, 'continental': 37, 'king': 32, 'pontiac': 31, 'suzuki': 26, 'chevrolet': 26, 'force': 25, 'delta': 25, 'oldsmobile': 24, 'moon': 23, 'ferrari': 21, 'cutting': 21, 'star': 19, 'saab': 19, 'volkswagen': 17, 'micro': 17, 'cord': 17, 'tvs': 16, 'gmc': 16, 'stellantis': 15, 'bugatti': 14, 'maserati': 14, 'bentley': 14, 'isuzu': 13, 'plymouth': 13, 'lamborghini': 11, 'russell': 10, 'peugeot': 10, 'samsung': 10, 'jaguar': 10, 'willys': 10, 'eagle': 9, 'alpine': 8, 'premier': 8, 'lotus': 8, 'brush': 8, 'cts': 7, 'dome': 7, 'gem': 7, 'jackson': 7, 'brooks': 6, 'datsun': 6, 'umm': 6, 'daewoo': 6, 'mclaren': 6, 'srt': 6, 'passport': 5, 'aero': 5, 'bitter': 5, 'mg': 5, 'bristol': 5, 'edsel': 5, 'alpina': 4, 'fuso': 4, 'bertone': 4, 'rapid': 4, 'yugo': 4, 'mercury': 4, 'mitchell': 4, 'regal': 4, 'stanley': 4, 'renault': 3, 'ducati': 3, 'iso': 3, 'zagato': 3, 'fca': 3, 'daihatsu': 3, 'kawasaki': 3, 'yamaha': 3, 'vauxhall': 3, 'daimler': 3, 'triumph': 3, 'eldorado': 3, 'chandler': 3, 'peerless': 3, 'derby': 2, 'nag': 2, 'hero': 2, 'tmc': 2, 'lancia': 2, 'singer': 2, 'fisker': 2, 'pierce': 2, 'amc': 2, 'geo': 2, 'lafayette': 2, 'lexington': 2, 'packard': 2, 'holden': 1, 'steyr': 1, 'sin': 1, 'beaumont': 1, 'dennis': 1, 'dynasty': 1, 'monarch': 1, 'apollo': 1, 'borgward': 1, 'abarth': 1, 'eunos': 1, 'martini': 1, 'tvr': 1, 'alvis': 1, 'marcos': 1, 'freightliner': 1, 'karma': 1, 'mack': 1, 'polaris': 1, 'shelby': 1, 'columbia': 1, 'essex': 1, 'gardner': 1, 'hudson': 1, 'hummer': 1, 'kaiser': 1, 'nash': 1, 'overland': 1}\n"
     ]
    }
   ],
   "source": [
    "sorted_brands = sorted(newDict.items(), key=lambda x:x[1], reverse=True)\n",
    "sorted_dict = dict(sorted_brands)\n",
    "\n",
    "print(sorted_dict)"
   ]
  },
  {
   "attachments": {},
   "cell_type": "markdown",
   "metadata": {},
   "source": [
    "\"THINK', 'LOCAL', and 'WHITE' are some common words that people use in their sentences, it is highly likely that they got misclassified as a car brand.\n",
    "\n",
    "Additionaly, 'TH!NK' has filed bankrupty in 2011, \"LOCAL\" also shut down their factory in the beginning of 2022, and \"WHITE\" is an old brand back in the 1980s.\n",
    "\n",
    "It is safe to say people were not referring to the brand \"TH!NK\", \"LOCAL\" or \"WHITE\" when they used these threee words."
   ]
  },
  {
   "attachments": {},
   "cell_type": "markdown",
   "metadata": {},
   "source": [
    "Remove words that are commonly used in the sentence but not refer to the brand because the manufacturers have already been defuncted."
   ]
  },
  {
   "cell_type": "code",
   "execution_count": 141,
   "metadata": {},
   "outputs": [],
   "source": [
    "unwanted = ['think','local','white','seat','mini','standard','bet','buddy','man','smart','national','cutting']\n",
    "\n",
    "for w in unwanted:\n",
    "    del sorted_dict[w]\n",
    "\n",
    "#sorted_dict"
   ]
  },
  {
   "cell_type": "code",
   "execution_count": 142,
   "metadata": {},
   "outputs": [
    {
     "data": {
      "text/html": [
       "<div>\n",
       "<style scoped>\n",
       "    .dataframe tbody tr th:only-of-type {\n",
       "        vertical-align: middle;\n",
       "    }\n",
       "\n",
       "    .dataframe tbody tr th {\n",
       "        vertical-align: top;\n",
       "    }\n",
       "\n",
       "    .dataframe thead th {\n",
       "        text-align: right;\n",
       "    }\n",
       "</style>\n",
       "<table border=\"1\" class=\"dataframe\">\n",
       "  <thead>\n",
       "    <tr style=\"text-align: right;\">\n",
       "      <th></th>\n",
       "      <th>freq</th>\n",
       "    </tr>\n",
       "    <tr>\n",
       "      <th>brand</th>\n",
       "      <th></th>\n",
       "    </tr>\n",
       "  </thead>\n",
       "  <tbody>\n",
       "    <tr>\n",
       "      <th>ford</th>\n",
       "      <td>801</td>\n",
       "    </tr>\n",
       "    <tr>\n",
       "      <th>bmw</th>\n",
       "      <td>648</td>\n",
       "    </tr>\n",
       "    <tr>\n",
       "      <th>jeep</th>\n",
       "      <td>484</td>\n",
       "    </tr>\n",
       "    <tr>\n",
       "      <th>tesla</th>\n",
       "      <td>395</td>\n",
       "    </tr>\n",
       "    <tr>\n",
       "      <th>toyota</th>\n",
       "      <td>387</td>\n",
       "    </tr>\n",
       "    <tr>\n",
       "      <th>honda</th>\n",
       "      <td>379</td>\n",
       "    </tr>\n",
       "    <tr>\n",
       "      <th>audi</th>\n",
       "      <td>329</td>\n",
       "    </tr>\n",
       "    <tr>\n",
       "      <th>hyundai</th>\n",
       "      <td>254</td>\n",
       "    </tr>\n",
       "    <tr>\n",
       "      <th>acura</th>\n",
       "      <td>245</td>\n",
       "    </tr>\n",
       "    <tr>\n",
       "      <th>nissan</th>\n",
       "      <td>187</td>\n",
       "    </tr>\n",
       "  </tbody>\n",
       "</table>\n",
       "</div>"
      ],
      "text/plain": [
       "         freq\n",
       "brand        \n",
       "ford      801\n",
       "bmw       648\n",
       "jeep      484\n",
       "tesla     395\n",
       "toyota    387\n",
       "honda     379\n",
       "audi      329\n",
       "hyundai   254\n",
       "acura     245\n",
       "nissan    187"
      ]
     },
     "execution_count": 142,
     "metadata": {},
     "output_type": "execute_result"
    }
   ],
   "source": [
    "df = pd.DataFrame.from_dict(sorted_dict, orient='index', columns=['freq'])\n",
    "df.index.name = 'brand'\n",
    "df.head(10)"
   ]
  },
  {
   "attachments": {},
   "cell_type": "markdown",
   "metadata": {},
   "source": [
    "The actual top-5 brand should be <b>Ford, BMW, Jeep, Tesla, and Toyota</b>."
   ]
  },
  {
   "cell_type": "code",
   "execution_count": 143,
   "metadata": {},
   "outputs": [],
   "source": [
    "df.to_csv('mentioned_brands.csv')"
   ]
  },
  {
   "attachments": {},
   "cell_type": "markdown",
   "metadata": {},
   "source": [
    "# C. Identify top-3 co-mentioned brands\n",
    "\n",
    "Calculate the frequency of co-mentions of brands.\n",
    "\n",
    "For example, if Honda and Toyota are mentioned in the same post, then the co-mention frequency of Honda and Toyota increases by 1."
   ]
  },
  {
   "cell_type": "code",
   "execution_count": 144,
   "metadata": {},
   "outputs": [
    {
     "data": {
      "text/html": [
       "<div>\n",
       "<style scoped>\n",
       "    .dataframe tbody tr th:only-of-type {\n",
       "        vertical-align: middle;\n",
       "    }\n",
       "\n",
       "    .dataframe tbody tr th {\n",
       "        vertical-align: top;\n",
       "    }\n",
       "\n",
       "    .dataframe thead th {\n",
       "        text-align: right;\n",
       "    }\n",
       "</style>\n",
       "<table border=\"1\" class=\"dataframe\">\n",
       "  <thead>\n",
       "    <tr style=\"text-align: right;\">\n",
       "      <th></th>\n",
       "      <th>brand</th>\n",
       "      <th>freq</th>\n",
       "    </tr>\n",
       "  </thead>\n",
       "  <tbody>\n",
       "    <tr>\n",
       "      <th>0</th>\n",
       "      <td>ford</td>\n",
       "      <td>801</td>\n",
       "    </tr>\n",
       "    <tr>\n",
       "      <th>1</th>\n",
       "      <td>bmw</td>\n",
       "      <td>648</td>\n",
       "    </tr>\n",
       "    <tr>\n",
       "      <th>2</th>\n",
       "      <td>jeep</td>\n",
       "      <td>484</td>\n",
       "    </tr>\n",
       "    <tr>\n",
       "      <th>3</th>\n",
       "      <td>tesla</td>\n",
       "      <td>395</td>\n",
       "    </tr>\n",
       "    <tr>\n",
       "      <th>4</th>\n",
       "      <td>toyota</td>\n",
       "      <td>387</td>\n",
       "    </tr>\n",
       "    <tr>\n",
       "      <th>...</th>\n",
       "      <td>...</td>\n",
       "      <td>...</td>\n",
       "    </tr>\n",
       "    <tr>\n",
       "      <th>143</th>\n",
       "      <td>hudson</td>\n",
       "      <td>1</td>\n",
       "    </tr>\n",
       "    <tr>\n",
       "      <th>144</th>\n",
       "      <td>hummer</td>\n",
       "      <td>1</td>\n",
       "    </tr>\n",
       "    <tr>\n",
       "      <th>145</th>\n",
       "      <td>kaiser</td>\n",
       "      <td>1</td>\n",
       "    </tr>\n",
       "    <tr>\n",
       "      <th>146</th>\n",
       "      <td>nash</td>\n",
       "      <td>1</td>\n",
       "    </tr>\n",
       "    <tr>\n",
       "      <th>147</th>\n",
       "      <td>overland</td>\n",
       "      <td>1</td>\n",
       "    </tr>\n",
       "  </tbody>\n",
       "</table>\n",
       "<p>148 rows × 2 columns</p>\n",
       "</div>"
      ],
      "text/plain": [
       "        brand  freq\n",
       "0        ford   801\n",
       "1         bmw   648\n",
       "2        jeep   484\n",
       "3       tesla   395\n",
       "4      toyota   387\n",
       "..        ...   ...\n",
       "143    hudson     1\n",
       "144    hummer     1\n",
       "145    kaiser     1\n",
       "146      nash     1\n",
       "147  overland     1\n",
       "\n",
       "[148 rows x 2 columns]"
      ]
     },
     "execution_count": 144,
     "metadata": {},
     "output_type": "execute_result"
    }
   ],
   "source": [
    "metioned_brands = pd.read_csv('mentioned_brands.csv')\n",
    "metioned_brands"
   ]
  },
  {
   "attachments": {},
   "cell_type": "markdown",
   "metadata": {},
   "source": [
    "For simplicity, only select brands that were mentioned over 20 times.\n",
    "\n",
    "We cannot gain much insight if the brand were only mentioned very few time."
   ]
  },
  {
   "cell_type": "code",
   "execution_count": 145,
   "metadata": {},
   "outputs": [
    {
     "data": {
      "text/plain": [
       "(44, 2)"
      ]
     },
     "execution_count": 145,
     "metadata": {},
     "output_type": "execute_result"
    }
   ],
   "source": [
    "metioned_brands = metioned_brands[metioned_brands['freq'] >= 20]\n",
    "metioned_brands.shape"
   ]
  },
  {
   "cell_type": "code",
   "execution_count": 146,
   "metadata": {},
   "outputs": [
    {
     "data": {
      "text/plain": [
       "['ford', 'bmw', 'jeep', 'tesla', 'toyota']"
      ]
     },
     "execution_count": 146,
     "metadata": {},
     "output_type": "execute_result"
    }
   ],
   "source": [
    "# Extract the metioned brand names\n",
    "brands = metioned_brands['brand'].tolist()\n",
    "brands[:5]"
   ]
  },
  {
   "cell_type": "code",
   "execution_count": 87,
   "metadata": {},
   "outputs": [
    {
     "name": "stderr",
     "output_type": "stream",
     "text": [
      "C:\\Users\\shans\\AppData\\Local\\Temp\\ipykernel_9568\\4227647362.py:3: FutureWarning: The pandas.np module is deprecated and will be removed from pandas in a future version. Import numpy directly instead.\n",
      "  comention['brands_mentioned'] = pd.np.empty((len(comention), 0)).tolist()\n"
     ]
    },
    {
     "data": {
      "text/html": [
       "<div>\n",
       "<style scoped>\n",
       "    .dataframe tbody tr th:only-of-type {\n",
       "        vertical-align: middle;\n",
       "    }\n",
       "\n",
       "    .dataframe tbody tr th {\n",
       "        vertical-align: top;\n",
       "    }\n",
       "\n",
       "    .dataframe thead th {\n",
       "        text-align: right;\n",
       "    }\n",
       "</style>\n",
       "<table border=\"1\" class=\"dataframe\">\n",
       "  <thead>\n",
       "    <tr style=\"text-align: right;\">\n",
       "      <th></th>\n",
       "      <th>brands_mentioned</th>\n",
       "    </tr>\n",
       "  </thead>\n",
       "  <tbody>\n",
       "    <tr>\n",
       "      <th>0</th>\n",
       "      <td>[]</td>\n",
       "    </tr>\n",
       "    <tr>\n",
       "      <th>1</th>\n",
       "      <td>[]</td>\n",
       "    </tr>\n",
       "    <tr>\n",
       "      <th>2</th>\n",
       "      <td>[]</td>\n",
       "    </tr>\n",
       "    <tr>\n",
       "      <th>3</th>\n",
       "      <td>[]</td>\n",
       "    </tr>\n",
       "    <tr>\n",
       "      <th>4</th>\n",
       "      <td>[]</td>\n",
       "    </tr>\n",
       "  </tbody>\n",
       "</table>\n",
       "</div>"
      ],
      "text/plain": [
       "  brands_mentioned\n",
       "0               []\n",
       "1               []\n",
       "2               []\n",
       "3               []\n",
       "4               []"
      ]
     },
     "execution_count": 87,
     "metadata": {},
     "output_type": "execute_result"
    }
   ],
   "source": [
    "# Create a dataframe of size messages to store all the brands mentioned in each message\n",
    "comention = pd.DataFrame(index=range(len(comments)),columns=['brands_mentioned'])\n",
    "comention['brands_mentioned'] = pd.np.empty((len(comention), 0)).tolist()\n",
    "comention.head()"
   ]
  },
  {
   "cell_type": "code",
   "execution_count": 147,
   "metadata": {},
   "outputs": [
    {
     "data": {
      "text/html": [
       "<div>\n",
       "<style scoped>\n",
       "    .dataframe tbody tr th:only-of-type {\n",
       "        vertical-align: middle;\n",
       "    }\n",
       "\n",
       "    .dataframe tbody tr th {\n",
       "        vertical-align: top;\n",
       "    }\n",
       "\n",
       "    .dataframe thead th {\n",
       "        text-align: right;\n",
       "    }\n",
       "</style>\n",
       "<table border=\"1\" class=\"dataframe\">\n",
       "  <thead>\n",
       "    <tr style=\"text-align: right;\">\n",
       "      <th></th>\n",
       "      <th>brands_mentioned</th>\n",
       "    </tr>\n",
       "  </thead>\n",
       "  <tbody>\n",
       "    <tr>\n",
       "      <th>0</th>\n",
       "      <td>[bmw]</td>\n",
       "    </tr>\n",
       "    <tr>\n",
       "      <th>1</th>\n",
       "      <td>[]</td>\n",
       "    </tr>\n",
       "    <tr>\n",
       "      <th>2</th>\n",
       "      <td>[]</td>\n",
       "    </tr>\n",
       "    <tr>\n",
       "      <th>3</th>\n",
       "      <td>[]</td>\n",
       "    </tr>\n",
       "    <tr>\n",
       "      <th>4</th>\n",
       "      <td>[]</td>\n",
       "    </tr>\n",
       "    <tr>\n",
       "      <th>...</th>\n",
       "      <td>...</td>\n",
       "    </tr>\n",
       "    <tr>\n",
       "      <th>13498</th>\n",
       "      <td>[]</td>\n",
       "    </tr>\n",
       "    <tr>\n",
       "      <th>13499</th>\n",
       "      <td>[mazda]</td>\n",
       "    </tr>\n",
       "    <tr>\n",
       "      <th>13500</th>\n",
       "      <td>[]</td>\n",
       "    </tr>\n",
       "    <tr>\n",
       "      <th>13501</th>\n",
       "      <td>[]</td>\n",
       "    </tr>\n",
       "    <tr>\n",
       "      <th>13502</th>\n",
       "      <td>[]</td>\n",
       "    </tr>\n",
       "  </tbody>\n",
       "</table>\n",
       "<p>13503 rows × 1 columns</p>\n",
       "</div>"
      ],
      "text/plain": [
       "      brands_mentioned\n",
       "0                [bmw]\n",
       "1                   []\n",
       "2                   []\n",
       "3                   []\n",
       "4                   []\n",
       "...                ...\n",
       "13498               []\n",
       "13499          [mazda]\n",
       "13500               []\n",
       "13501               []\n",
       "13502               []\n",
       "\n",
       "[13503 rows x 1 columns]"
      ]
     },
     "execution_count": 147,
     "metadata": {},
     "output_type": "execute_result"
    }
   ],
   "source": [
    "# For each message\n",
    "for i in range(len(comments)):\n",
    "    text = comments['cleaned'][i]\n",
    "    for w in text:\n",
    "        if w in brands and w not in comention['brands_mentioned'][i]:\n",
    "            comention['brands_mentioned'][i].append(w)\n",
    "\n",
    "comention"
   ]
  },
  {
   "cell_type": "code",
   "execution_count": 148,
   "metadata": {},
   "outputs": [
    {
     "data": {
      "text/plain": [
       "[(('acura', 'honda'), 66),\n",
       " (('honda', 'toyota'), 62),\n",
       " (('hyundai', 'kia'), 52),\n",
       " (('ford', 'toyota'), 46),\n",
       " (('bmw', 'toyota'), 43),\n",
       " (('ford', 'gm'), 41),\n",
       " (('hyundai', 'toyota'), 37),\n",
       " (('bmw', 'jeep'), 36),\n",
       " (('audi', 'bmw'), 35),\n",
       " (('bmw', 'honda'), 35)]"
      ]
     },
     "execution_count": 148,
     "metadata": {},
     "output_type": "execute_result"
    }
   ],
   "source": [
    "comention_dict = {}\n",
    "\n",
    "for i in range(len(comention)):\n",
    "    brands_in_msg = comention['brands_mentioned'][i]\n",
    "    brands_in_msg.sort()\n",
    "\n",
    "    keys = list(itertools.combinations(brands_in_msg,2))\n",
    "    for k in keys:\n",
    "        if k in comention_dict:\n",
    "            comention_dict[k] += 1\n",
    "        else:\n",
    "            comention_dict[k] = 1\n",
    "\n",
    "sorted(comention_dict.items(), key=lambda x:x[1], reverse=True)[:10]"
   ]
  },
  {
   "attachments": {},
   "cell_type": "markdown",
   "metadata": {},
   "source": [
    "The top 3 brand pairs which get mentioned together the most are:\n",
    "- Acura and Honda\n",
    "- Honda and Toyota\n",
    "- Hyundai and KIA"
   ]
  },
  {
   "attachments": {},
   "cell_type": "markdown",
   "metadata": {},
   "source": [
    "# D. Brand-Attribute Co-Frequency\n",
    "\n",
    "Find the 5 most frequently mentioned attributes of cars in the discussions.\n",
    "\n",
    "Identify which attributes are most strongly associated with the top 5 brands we found in part B. "
   ]
  },
  {
   "cell_type": "code",
   "execution_count": 149,
   "metadata": {},
   "outputs": [],
   "source": [
    "top_brands = ['ford','bmw','jeep','tesla','toyota']"
   ]
  },
  {
   "attachments": {},
   "cell_type": "markdown",
   "metadata": {},
   "source": [
    "### Extract noun and adjective"
   ]
  },
  {
   "cell_type": "code",
   "execution_count": 150,
   "metadata": {},
   "outputs": [],
   "source": [
    "import spacy\n",
    "nlp = spacy.load('en_core_web_sm')\n",
    "\n",
    "def extract_noun_adj(query):\n",
    "    result = []\n",
    "    doc = nlp(\" \".join(query))\n",
    "    \n",
    "    result = [w for w in doc if w.pos_ == \"NOUN\" or w.pos_ == \"ADJ\"]\n",
    "    return result"
   ]
  },
  {
   "cell_type": "code",
   "execution_count": 151,
   "metadata": {},
   "outputs": [
    {
     "data": {
      "text/plain": [
       "0    [acceleration, times, car, magazines, bogus, u...\n",
       "1    [package, navi, option, fine, assume, phone, a...\n",
       "2    [poor, thing, wrong, thrust, obvious, stuff, s...\n",
       "3                                     [congrats, cool]\n",
       "4                         [happy, new, year, congrats]\n",
       "Name: extracted, dtype: object"
      ]
     },
     "execution_count": 151,
     "metadata": {},
     "output_type": "execute_result"
    }
   ],
   "source": [
    "comments['extracted'] = [extract_noun_adj(w) for w in comments['cleaned']]\n",
    "comments['extracted'].head()"
   ]
  },
  {
   "attachments": {},
   "cell_type": "markdown",
   "metadata": {},
   "source": [
    "### Lemmatize all the tokens"
   ]
  },
  {
   "cell_type": "code",
   "execution_count": 152,
   "metadata": {},
   "outputs": [],
   "source": [
    "from nltk.stem import WordNetLemmatizer\n",
    "lemmatizer = WordNetLemmatizer()\n",
    "\n",
    "def lemmatize_text(query):\n",
    "    result = []\n",
    "\n",
    "    for ele in query:\n",
    "        result.append(lemmatizer.lemmatize(ele.text))\n",
    "    \n",
    "    return result"
   ]
  },
  {
   "cell_type": "code",
   "execution_count": 153,
   "metadata": {},
   "outputs": [
    {
     "data": {
      "text/plain": [
       "0    [acceleration, time, car, magazine, bogus, use...\n",
       "1    [package, navi, option, fine, assume, phone, a...\n",
       "2    [poor, thing, wrong, thrust, obvious, stuff, s...\n",
       "3                                     [congrats, cool]\n",
       "4                         [happy, new, year, congrats]\n",
       "Name: extracted, dtype: object"
      ]
     },
     "execution_count": 153,
     "metadata": {},
     "output_type": "execute_result"
    }
   ],
   "source": [
    "comments['extracted'] = [lemmatize_text(w) for w in comments['extracted']]\n",
    "comments['extracted'].head()"
   ]
  },
  {
   "attachments": {},
   "cell_type": "markdown",
   "metadata": {},
   "source": [
    "### Count term frequency"
   ]
  },
  {
   "cell_type": "code",
   "execution_count": null,
   "metadata": {},
   "outputs": [],
   "source": [
    "attribute_dict = {}\n",
    "\n",
    "for i in range(len(comments)):\n",
    "    terms_in_msg = comments['extracted'][i]\n",
    "    terms_in_msg.sort()\n",
    "\n",
    "    for k in terms_in_msg:\n",
    "        if len(k) > 1:\n",
    "            if k in attribute_dict:\n",
    "                attribute_dict[k] += 1\n",
    "            else:\n",
    "                attribute_dict[k] = 1\n",
    "    \n",
    "attribute_dict = dict(sorted(attribute_dict.items(), key=lambda x:x[1], reverse=True))"
   ]
  },
  {
   "cell_type": "code",
   "execution_count": 155,
   "metadata": {},
   "outputs": [
    {
     "data": {
      "text/html": [
       "<div>\n",
       "<style scoped>\n",
       "    .dataframe tbody tr th:only-of-type {\n",
       "        vertical-align: middle;\n",
       "    }\n",
       "\n",
       "    .dataframe tbody tr th {\n",
       "        vertical-align: top;\n",
       "    }\n",
       "\n",
       "    .dataframe thead th {\n",
       "        text-align: right;\n",
       "    }\n",
       "</style>\n",
       "<table border=\"1\" class=\"dataframe\">\n",
       "  <thead>\n",
       "    <tr style=\"text-align: right;\">\n",
       "      <th></th>\n",
       "      <th>freq</th>\n",
       "    </tr>\n",
       "    <tr>\n",
       "      <th>attributes</th>\n",
       "      <th></th>\n",
       "    </tr>\n",
       "  </thead>\n",
       "  <tbody>\n",
       "    <tr>\n",
       "      <th>car</th>\n",
       "      <td>6327</td>\n",
       "    </tr>\n",
       "    <tr>\n",
       "      <th>year</th>\n",
       "      <td>3129</td>\n",
       "    </tr>\n",
       "    <tr>\n",
       "      <th>time</th>\n",
       "      <td>2842</td>\n",
       "    </tr>\n",
       "    <tr>\n",
       "      <th>new</th>\n",
       "      <td>2614</td>\n",
       "    </tr>\n",
       "    <tr>\n",
       "      <th>good</th>\n",
       "      <td>2040</td>\n",
       "    </tr>\n",
       "    <tr>\n",
       "      <th>dealer</th>\n",
       "      <td>2009</td>\n",
       "    </tr>\n",
       "    <tr>\n",
       "      <th>mile</th>\n",
       "      <td>1902</td>\n",
       "    </tr>\n",
       "    <tr>\n",
       "      <th>day</th>\n",
       "      <td>1833</td>\n",
       "    </tr>\n",
       "    <tr>\n",
       "      <th>lot</th>\n",
       "      <td>1648</td>\n",
       "    </tr>\n",
       "    <tr>\n",
       "      <th>price</th>\n",
       "      <td>1624</td>\n",
       "    </tr>\n",
       "  </tbody>\n",
       "</table>\n",
       "</div>"
      ],
      "text/plain": [
       "            freq\n",
       "attributes      \n",
       "car         6327\n",
       "year        3129\n",
       "time        2842\n",
       "new         2614\n",
       "good        2040\n",
       "dealer      2009\n",
       "mile        1902\n",
       "day         1833\n",
       "lot         1648\n",
       "price       1624"
      ]
     },
     "execution_count": 155,
     "metadata": {},
     "output_type": "execute_result"
    }
   ],
   "source": [
    "attr_df = pd.DataFrame.from_dict(attribute_dict, orient='index', columns=['freq'])\n",
    "attr_df.index.name = 'attributes'\n",
    "attr_df.head(10)"
   ]
  },
  {
   "cell_type": "code",
   "execution_count": 157,
   "metadata": {},
   "outputs": [],
   "source": [
    "attr_df.to_csv('attr_freq.csv')"
   ]
  },
  {
   "attachments": {},
   "cell_type": "markdown",
   "metadata": {},
   "source": [
    "Given the word frequency result, I selected 40 most frequently mentioned car attributes from top-200 are:"
   ]
  },
  {
   "cell_type": "code",
   "execution_count": 175,
   "metadata": {},
   "outputs": [],
   "source": [
    "freq_car_attributes = ['mile', 'price', 'tire', 'engine', 'big', \n",
    "                       'color', 'issue','seat', 'deal', 'wheel', \n",
    "                       'door', 'problem', 'garage', 'low', 'oil','gas', \n",
    "                       'battery', 'high','interior', 'speed', 'system',\n",
    "                       'cost', 'light', 'hybrid', 'rate', 'warranty', \n",
    "                       'value', 'worth', 'cheap', 'le', 'power', \n",
    "                       'small', 'mileage', 'size', 'brake', 'winter', 'window', 'range','expensive']"
   ]
  },
  {
   "cell_type": "code",
   "execution_count": 248,
   "metadata": {},
   "outputs": [],
   "source": [
    "# Create an empty dataframe with attributes * top_brands\n",
    "brand_attr_df = pd.DataFrame(0, columns=top_brands, index=freq_car_attributes)\n",
    "brand_attr_df.head()\n",
    "\n",
    "for i in range(len(comments)):\n",
    "    msg = comments['cleaned'][i]\n",
    "\n",
    "    brands = []\n",
    "    attrs = []\n",
    "    for m in msg:\n",
    "        if m in top_brands and m not in brands:\n",
    "            brands.append(m)\n",
    "        if m in freq_car_attributes and m not in attrs:\n",
    "            attrs.append(m)\n",
    "\n",
    "    for a in attrs:\n",
    "        for b in brands:\n",
    "            brand_attr_df.loc[a][b] += 1\n"
   ]
  },
  {
   "cell_type": "code",
   "execution_count": 249,
   "metadata": {},
   "outputs": [
    {
     "data": {
      "text/html": [
       "<div>\n",
       "<style scoped>\n",
       "    .dataframe tbody tr th:only-of-type {\n",
       "        vertical-align: middle;\n",
       "    }\n",
       "\n",
       "    .dataframe tbody tr th {\n",
       "        vertical-align: top;\n",
       "    }\n",
       "\n",
       "    .dataframe thead th {\n",
       "        text-align: right;\n",
       "    }\n",
       "</style>\n",
       "<table border=\"1\" class=\"dataframe\">\n",
       "  <thead>\n",
       "    <tr style=\"text-align: right;\">\n",
       "      <th></th>\n",
       "      <th>ford</th>\n",
       "      <th>bmw</th>\n",
       "      <th>jeep</th>\n",
       "      <th>tesla</th>\n",
       "      <th>toyota</th>\n",
       "    </tr>\n",
       "  </thead>\n",
       "  <tbody>\n",
       "    <tr>\n",
       "      <th>price</th>\n",
       "      <td>64</td>\n",
       "      <td>92</td>\n",
       "      <td>27</td>\n",
       "      <td>27</td>\n",
       "      <td>41</td>\n",
       "    </tr>\n",
       "    <tr>\n",
       "      <th>big</th>\n",
       "      <td>63</td>\n",
       "      <td>31</td>\n",
       "      <td>12</td>\n",
       "      <td>30</td>\n",
       "      <td>34</td>\n",
       "    </tr>\n",
       "    <tr>\n",
       "      <th>engine</th>\n",
       "      <td>54</td>\n",
       "      <td>56</td>\n",
       "      <td>25</td>\n",
       "      <td>7</td>\n",
       "      <td>43</td>\n",
       "    </tr>\n",
       "    <tr>\n",
       "      <th>hybrid</th>\n",
       "      <td>45</td>\n",
       "      <td>21</td>\n",
       "      <td>34</td>\n",
       "      <td>19</td>\n",
       "      <td>28</td>\n",
       "    </tr>\n",
       "    <tr>\n",
       "      <th>deal</th>\n",
       "      <td>44</td>\n",
       "      <td>43</td>\n",
       "      <td>13</td>\n",
       "      <td>11</td>\n",
       "      <td>24</td>\n",
       "    </tr>\n",
       "    <tr>\n",
       "      <th>size</th>\n",
       "      <td>42</td>\n",
       "      <td>10</td>\n",
       "      <td>4</td>\n",
       "      <td>8</td>\n",
       "      <td>22</td>\n",
       "    </tr>\n",
       "    <tr>\n",
       "      <th>system</th>\n",
       "      <td>42</td>\n",
       "      <td>28</td>\n",
       "      <td>14</td>\n",
       "      <td>7</td>\n",
       "      <td>29</td>\n",
       "    </tr>\n",
       "    <tr>\n",
       "      <th>high</th>\n",
       "      <td>42</td>\n",
       "      <td>26</td>\n",
       "      <td>11</td>\n",
       "      <td>10</td>\n",
       "      <td>21</td>\n",
       "    </tr>\n",
       "    <tr>\n",
       "      <th>gas</th>\n",
       "      <td>35</td>\n",
       "      <td>6</td>\n",
       "      <td>17</td>\n",
       "      <td>20</td>\n",
       "      <td>10</td>\n",
       "    </tr>\n",
       "    <tr>\n",
       "      <th>cost</th>\n",
       "      <td>35</td>\n",
       "      <td>25</td>\n",
       "      <td>17</td>\n",
       "      <td>15</td>\n",
       "      <td>27</td>\n",
       "    </tr>\n",
       "    <tr>\n",
       "      <th>cheap</th>\n",
       "      <td>33</td>\n",
       "      <td>17</td>\n",
       "      <td>26</td>\n",
       "      <td>10</td>\n",
       "      <td>29</td>\n",
       "    </tr>\n",
       "    <tr>\n",
       "      <th>worth</th>\n",
       "      <td>31</td>\n",
       "      <td>7</td>\n",
       "      <td>8</td>\n",
       "      <td>2</td>\n",
       "      <td>9</td>\n",
       "    </tr>\n",
       "    <tr>\n",
       "      <th>mileage</th>\n",
       "      <td>29</td>\n",
       "      <td>10</td>\n",
       "      <td>23</td>\n",
       "      <td>6</td>\n",
       "      <td>16</td>\n",
       "    </tr>\n",
       "    <tr>\n",
       "      <th>expensive</th>\n",
       "      <td>28</td>\n",
       "      <td>16</td>\n",
       "      <td>9</td>\n",
       "      <td>18</td>\n",
       "      <td>10</td>\n",
       "    </tr>\n",
       "    <tr>\n",
       "      <th>door</th>\n",
       "      <td>28</td>\n",
       "      <td>7</td>\n",
       "      <td>22</td>\n",
       "      <td>4</td>\n",
       "      <td>10</td>\n",
       "    </tr>\n",
       "    <tr>\n",
       "      <th>low</th>\n",
       "      <td>27</td>\n",
       "      <td>26</td>\n",
       "      <td>9</td>\n",
       "      <td>12</td>\n",
       "      <td>16</td>\n",
       "    </tr>\n",
       "    <tr>\n",
       "      <th>value</th>\n",
       "      <td>26</td>\n",
       "      <td>23</td>\n",
       "      <td>20</td>\n",
       "      <td>7</td>\n",
       "      <td>15</td>\n",
       "    </tr>\n",
       "    <tr>\n",
       "      <th>color</th>\n",
       "      <td>26</td>\n",
       "      <td>45</td>\n",
       "      <td>10</td>\n",
       "      <td>7</td>\n",
       "      <td>27</td>\n",
       "    </tr>\n",
       "    <tr>\n",
       "      <th>oil</th>\n",
       "      <td>25</td>\n",
       "      <td>28</td>\n",
       "      <td>11</td>\n",
       "      <td>5</td>\n",
       "      <td>16</td>\n",
       "    </tr>\n",
       "    <tr>\n",
       "      <th>problem</th>\n",
       "      <td>25</td>\n",
       "      <td>29</td>\n",
       "      <td>43</td>\n",
       "      <td>11</td>\n",
       "      <td>26</td>\n",
       "    </tr>\n",
       "    <tr>\n",
       "      <th>interior</th>\n",
       "      <td>24</td>\n",
       "      <td>30</td>\n",
       "      <td>7</td>\n",
       "      <td>4</td>\n",
       "      <td>19</td>\n",
       "    </tr>\n",
       "    <tr>\n",
       "      <th>issue</th>\n",
       "      <td>22</td>\n",
       "      <td>21</td>\n",
       "      <td>13</td>\n",
       "      <td>10</td>\n",
       "      <td>12</td>\n",
       "    </tr>\n",
       "    <tr>\n",
       "      <th>power</th>\n",
       "      <td>22</td>\n",
       "      <td>18</td>\n",
       "      <td>8</td>\n",
       "      <td>18</td>\n",
       "      <td>11</td>\n",
       "    </tr>\n",
       "    <tr>\n",
       "      <th>small</th>\n",
       "      <td>21</td>\n",
       "      <td>12</td>\n",
       "      <td>15</td>\n",
       "      <td>4</td>\n",
       "      <td>13</td>\n",
       "    </tr>\n",
       "    <tr>\n",
       "      <th>mile</th>\n",
       "      <td>20</td>\n",
       "      <td>25</td>\n",
       "      <td>11</td>\n",
       "      <td>8</td>\n",
       "      <td>13</td>\n",
       "    </tr>\n",
       "    <tr>\n",
       "      <th>wheel</th>\n",
       "      <td>18</td>\n",
       "      <td>15</td>\n",
       "      <td>9</td>\n",
       "      <td>4</td>\n",
       "      <td>12</td>\n",
       "    </tr>\n",
       "    <tr>\n",
       "      <th>light</th>\n",
       "      <td>17</td>\n",
       "      <td>33</td>\n",
       "      <td>22</td>\n",
       "      <td>3</td>\n",
       "      <td>23</td>\n",
       "    </tr>\n",
       "    <tr>\n",
       "      <th>seat</th>\n",
       "      <td>15</td>\n",
       "      <td>25</td>\n",
       "      <td>18</td>\n",
       "      <td>12</td>\n",
       "      <td>7</td>\n",
       "    </tr>\n",
       "    <tr>\n",
       "      <th>battery</th>\n",
       "      <td>13</td>\n",
       "      <td>7</td>\n",
       "      <td>5</td>\n",
       "      <td>15</td>\n",
       "      <td>15</td>\n",
       "    </tr>\n",
       "    <tr>\n",
       "      <th>brake</th>\n",
       "      <td>13</td>\n",
       "      <td>4</td>\n",
       "      <td>0</td>\n",
       "      <td>4</td>\n",
       "      <td>3</td>\n",
       "    </tr>\n",
       "    <tr>\n",
       "      <th>range</th>\n",
       "      <td>13</td>\n",
       "      <td>23</td>\n",
       "      <td>12</td>\n",
       "      <td>29</td>\n",
       "      <td>11</td>\n",
       "    </tr>\n",
       "    <tr>\n",
       "      <th>speed</th>\n",
       "      <td>13</td>\n",
       "      <td>31</td>\n",
       "      <td>8</td>\n",
       "      <td>13</td>\n",
       "      <td>18</td>\n",
       "    </tr>\n",
       "    <tr>\n",
       "      <th>garage</th>\n",
       "      <td>9</td>\n",
       "      <td>24</td>\n",
       "      <td>41</td>\n",
       "      <td>11</td>\n",
       "      <td>16</td>\n",
       "    </tr>\n",
       "    <tr>\n",
       "      <th>winter</th>\n",
       "      <td>9</td>\n",
       "      <td>10</td>\n",
       "      <td>10</td>\n",
       "      <td>6</td>\n",
       "      <td>0</td>\n",
       "    </tr>\n",
       "    <tr>\n",
       "      <th>window</th>\n",
       "      <td>8</td>\n",
       "      <td>11</td>\n",
       "      <td>11</td>\n",
       "      <td>1</td>\n",
       "      <td>13</td>\n",
       "    </tr>\n",
       "    <tr>\n",
       "      <th>warranty</th>\n",
       "      <td>6</td>\n",
       "      <td>15</td>\n",
       "      <td>9</td>\n",
       "      <td>17</td>\n",
       "      <td>24</td>\n",
       "    </tr>\n",
       "    <tr>\n",
       "      <th>rate</th>\n",
       "      <td>3</td>\n",
       "      <td>3</td>\n",
       "      <td>2</td>\n",
       "      <td>2</td>\n",
       "      <td>7</td>\n",
       "    </tr>\n",
       "    <tr>\n",
       "      <th>tire</th>\n",
       "      <td>2</td>\n",
       "      <td>9</td>\n",
       "      <td>4</td>\n",
       "      <td>7</td>\n",
       "      <td>4</td>\n",
       "    </tr>\n",
       "    <tr>\n",
       "      <th>le</th>\n",
       "      <td>0</td>\n",
       "      <td>0</td>\n",
       "      <td>0</td>\n",
       "      <td>0</td>\n",
       "      <td>1</td>\n",
       "    </tr>\n",
       "  </tbody>\n",
       "</table>\n",
       "</div>"
      ],
      "text/plain": [
       "           ford  bmw  jeep  tesla  toyota\n",
       "price        64   92    27     27      41\n",
       "big          63   31    12     30      34\n",
       "engine       54   56    25      7      43\n",
       "hybrid       45   21    34     19      28\n",
       "deal         44   43    13     11      24\n",
       "size         42   10     4      8      22\n",
       "system       42   28    14      7      29\n",
       "high         42   26    11     10      21\n",
       "gas          35    6    17     20      10\n",
       "cost         35   25    17     15      27\n",
       "cheap        33   17    26     10      29\n",
       "worth        31    7     8      2       9\n",
       "mileage      29   10    23      6      16\n",
       "expensive    28   16     9     18      10\n",
       "door         28    7    22      4      10\n",
       "low          27   26     9     12      16\n",
       "value        26   23    20      7      15\n",
       "color        26   45    10      7      27\n",
       "oil          25   28    11      5      16\n",
       "problem      25   29    43     11      26\n",
       "interior     24   30     7      4      19\n",
       "issue        22   21    13     10      12\n",
       "power        22   18     8     18      11\n",
       "small        21   12    15      4      13\n",
       "mile         20   25    11      8      13\n",
       "wheel        18   15     9      4      12\n",
       "light        17   33    22      3      23\n",
       "seat         15   25    18     12       7\n",
       "battery      13    7     5     15      15\n",
       "brake        13    4     0      4       3\n",
       "range        13   23    12     29      11\n",
       "speed        13   31     8     13      18\n",
       "garage        9   24    41     11      16\n",
       "winter        9   10    10      6       0\n",
       "window        8   11    11      1      13\n",
       "warranty      6   15     9     17      24\n",
       "rate          3    3     2      2       7\n",
       "tire          2    9     4      7       4\n",
       "le            0    0     0      0       1"
      ]
     },
     "execution_count": 249,
     "metadata": {},
     "output_type": "execute_result"
    }
   ],
   "source": [
    "brand_attr_df.sort_values(by = 'ford', ascending=False)"
   ]
  },
  {
   "attachments": {},
   "cell_type": "markdown",
   "metadata": {},
   "source": [
    "# E. Identify the most aspirational brand"
   ]
  },
  {
   "attachments": {},
   "cell_type": "markdown",
   "metadata": {},
   "source": [
    "### Extract Verbs"
   ]
  },
  {
   "cell_type": "code",
   "execution_count": 250,
   "metadata": {},
   "outputs": [],
   "source": [
    "import spacy\n",
    "nlp = spacy.load('en_core_web_sm')\n",
    "\n",
    "def extract_verb(query):\n",
    "    result = []\n",
    "    doc = nlp(\" \".join(query))\n",
    "    \n",
    "    result = [w for w in doc if w.pos_ == \"VERB\"]\n",
    "    return result"
   ]
  },
  {
   "cell_type": "code",
   "execution_count": 252,
   "metadata": {},
   "outputs": [
    {
     "data": {
      "text/plain": [
       "0    [tested, got, base, end, going, build, sell, b...\n",
       "1    [said, comes, add, use, spend, playing, used, ...\n",
       "2       [said, room, save, fix, concerned, see, agree]\n",
       "3                                                   []\n",
       "4                                                   []\n",
       "Name: desired, dtype: object"
      ]
     },
     "execution_count": 252,
     "metadata": {},
     "output_type": "execute_result"
    }
   ],
   "source": [
    "comments['desired'] = [extract_verb(w) for w in comments['cleaned']]\n",
    "comments['desired'].head()"
   ]
  },
  {
   "attachments": {},
   "cell_type": "markdown",
   "metadata": {},
   "source": [
    "### Lemmatize all the tokens"
   ]
  },
  {
   "cell_type": "code",
   "execution_count": 253,
   "metadata": {},
   "outputs": [
    {
     "data": {
      "text/plain": [
       "0    [tested, got, base, end, going, build, sell, b...\n",
       "1    [said, come, add, use, spend, playing, used, f...\n",
       "2       [said, room, save, fix, concerned, see, agree]\n",
       "3                                                   []\n",
       "4                                                   []\n",
       "Name: desired, dtype: object"
      ]
     },
     "execution_count": 253,
     "metadata": {},
     "output_type": "execute_result"
    }
   ],
   "source": [
    "comments['desired'] = [lemmatize_text(w) for w in comments['desired']]\n",
    "comments['desired'].head()"
   ]
  },
  {
   "attachments": {},
   "cell_type": "markdown",
   "metadata": {},
   "source": [
    "### Count verb frequency"
   ]
  },
  {
   "cell_type": "code",
   "execution_count": 254,
   "metadata": {},
   "outputs": [],
   "source": [
    "verb_dict = {}\n",
    "\n",
    "for i in range(len(comments)):\n",
    "    terms_in_msg = comments['desired'][i]\n",
    "    terms_in_msg.sort()\n",
    "\n",
    "    for k in terms_in_msg:\n",
    "        if len(k) > 1:\n",
    "            if k in verb_dict:\n",
    "                verb_dict[k] += 1\n",
    "            else:\n",
    "                verb_dict[k] = 1\n",
    "    \n",
    "verb_dict = dict(sorted(verb_dict.items(), key=lambda x:x[1], reverse=True))"
   ]
  },
  {
   "cell_type": "code",
   "execution_count": 255,
   "metadata": {},
   "outputs": [
    {
     "data": {
      "text/html": [
       "<div>\n",
       "<style scoped>\n",
       "    .dataframe tbody tr th:only-of-type {\n",
       "        vertical-align: middle;\n",
       "    }\n",
       "\n",
       "    .dataframe tbody tr th {\n",
       "        vertical-align: top;\n",
       "    }\n",
       "\n",
       "    .dataframe thead th {\n",
       "        text-align: right;\n",
       "    }\n",
       "</style>\n",
       "<table border=\"1\" class=\"dataframe\">\n",
       "  <thead>\n",
       "    <tr style=\"text-align: right;\">\n",
       "      <th></th>\n",
       "      <th>freq</th>\n",
       "    </tr>\n",
       "    <tr>\n",
       "      <th>verbs</th>\n",
       "      <th></th>\n",
       "    </tr>\n",
       "  </thead>\n",
       "  <tbody>\n",
       "    <tr>\n",
       "      <th>said</th>\n",
       "      <td>11029</td>\n",
       "    </tr>\n",
       "    <tr>\n",
       "      <th>get</th>\n",
       "      <td>3449</td>\n",
       "    </tr>\n",
       "    <tr>\n",
       "      <th>think</th>\n",
       "      <td>2381</td>\n",
       "    </tr>\n",
       "    <tr>\n",
       "      <th>go</th>\n",
       "      <td>1888</td>\n",
       "    </tr>\n",
       "    <tr>\n",
       "      <th>got</th>\n",
       "      <td>1788</td>\n",
       "    </tr>\n",
       "    <tr>\n",
       "      <th>know</th>\n",
       "      <td>1659</td>\n",
       "    </tr>\n",
       "    <tr>\n",
       "      <th>make</th>\n",
       "      <td>1594</td>\n",
       "    </tr>\n",
       "    <tr>\n",
       "      <th>see</th>\n",
       "      <td>1547</td>\n",
       "    </tr>\n",
       "    <tr>\n",
       "      <th>going</th>\n",
       "      <td>1544</td>\n",
       "    </tr>\n",
       "    <tr>\n",
       "      <th>want</th>\n",
       "      <td>1467</td>\n",
       "    </tr>\n",
       "  </tbody>\n",
       "</table>\n",
       "</div>"
      ],
      "text/plain": [
       "        freq\n",
       "verbs       \n",
       "said   11029\n",
       "get     3449\n",
       "think   2381\n",
       "go      1888\n",
       "got     1788\n",
       "know    1659\n",
       "make    1594\n",
       "see     1547\n",
       "going   1544\n",
       "want    1467"
      ]
     },
     "execution_count": 255,
     "metadata": {},
     "output_type": "execute_result"
    }
   ],
   "source": [
    "verb_df = pd.DataFrame.from_dict(verb_dict, orient='index', columns=['freq'])\n",
    "verb_df.index.name = 'verbs'\n",
    "verb_df.head(10)"
   ]
  },
  {
   "cell_type": "code",
   "execution_count": 256,
   "metadata": {},
   "outputs": [],
   "source": [
    "verb_df.to_csv('verb_freq.csv')"
   ]
  },
  {
   "cell_type": "code",
   "execution_count": null,
   "metadata": {},
   "outputs": [],
   "source": []
  },
  {
   "cell_type": "code",
   "execution_count": null,
   "metadata": {},
   "outputs": [],
   "source": []
  },
  {
   "cell_type": "code",
   "execution_count": null,
   "metadata": {},
   "outputs": [],
   "source": []
  },
  {
   "cell_type": "code",
   "execution_count": null,
   "metadata": {},
   "outputs": [],
   "source": []
  },
  {
   "cell_type": "code",
   "execution_count": null,
   "metadata": {},
   "outputs": [],
   "source": []
  }
 ],
 "metadata": {
  "kernelspec": {
   "display_name": "Python 3",
   "language": "python",
   "name": "python3"
  },
  "language_info": {
   "codemirror_mode": {
    "name": "ipython",
    "version": 3
   },
   "file_extension": ".py",
   "mimetype": "text/x-python",
   "name": "python",
   "nbconvert_exporter": "python",
   "pygments_lexer": "ipython3",
   "version": "3.10.8"
  },
  "orig_nbformat": 4,
  "vscode": {
   "interpreter": {
    "hash": "eb8d3085d426e5e8dee3252ffbadecffc2a8c816985f9d79249a1de42c265c0a"
   }
  }
 },
 "nbformat": 4,
 "nbformat_minor": 2
}
