{
 "cells": [
  {
   "cell_type": "code",
   "execution_count": 1,
   "metadata": {},
   "outputs": [],
   "source": [
    "import pandas as pd\n",
    "import re\n",
    "import datetime\n",
    "import itertools"
   ]
  },
  {
   "attachments": {},
   "cell_type": "markdown",
   "metadata": {},
   "source": [
    "# A. Text Cleaning"
   ]
  },
  {
   "cell_type": "code",
   "execution_count": 2,
   "metadata": {},
   "outputs": [
    {
     "data": {
      "text/html": [
       "<div>\n",
       "<style scoped>\n",
       "    .dataframe tbody tr th:only-of-type {\n",
       "        vertical-align: middle;\n",
       "    }\n",
       "\n",
       "    .dataframe tbody tr th {\n",
       "        vertical-align: top;\n",
       "    }\n",
       "\n",
       "    .dataframe thead th {\n",
       "        text-align: right;\n",
       "    }\n",
       "</style>\n",
       "<table border=\"1\" class=\"dataframe\">\n",
       "  <thead>\n",
       "    <tr style=\"text-align: right;\">\n",
       "      <th></th>\n",
       "      <th>date</th>\n",
       "      <th>user_id</th>\n",
       "      <th>message</th>\n",
       "    </tr>\n",
       "  </thead>\n",
       "  <tbody>\n",
       "    <tr>\n",
       "      <th>0</th>\n",
       "      <td>2022-01-01 03:53:00</td>\n",
       "      <td>benjaminh</td>\n",
       "      <td>\\nAlthough the acceleration times in most car ...</td>\n",
       "    </tr>\n",
       "    <tr>\n",
       "      <th>1</th>\n",
       "      <td>2022-01-01 03:57:00</td>\n",
       "      <td>tjc78</td>\n",
       "      <td>\\n\\n@stickguy said:\\nXM only comes on it if yo...</td>\n",
       "    </tr>\n",
       "    <tr>\n",
       "      <th>2</th>\n",
       "      <td>2022-01-01 04:08:00</td>\n",
       "      <td>tjc78</td>\n",
       "      <td>\\n\\n@qbrozen said:\\nI don’t have the room for ...</td>\n",
       "    </tr>\n",
       "    <tr>\n",
       "      <th>3</th>\n",
       "      <td>2022-01-01 04:48:00</td>\n",
       "      <td>graphicguy</td>\n",
       "      <td>\\nCongrats @stickguy ……very cool!</td>\n",
       "    </tr>\n",
       "    <tr>\n",
       "      <th>4</th>\n",
       "      <td>2022-01-01 06:03:00</td>\n",
       "      <td>au1994</td>\n",
       "      <td>\\nHappy New Year all!Congrats @stickguy. I rea...</td>\n",
       "    </tr>\n",
       "  </tbody>\n",
       "</table>\n",
       "</div>"
      ],
      "text/plain": [
       "                  date     user_id  \\\n",
       "0  2022-01-01 03:53:00   benjaminh   \n",
       "1  2022-01-01 03:57:00       tjc78   \n",
       "2  2022-01-01 04:08:00       tjc78   \n",
       "3  2022-01-01 04:48:00  graphicguy   \n",
       "4  2022-01-01 06:03:00      au1994   \n",
       "\n",
       "                                             message  \n",
       "0  \\nAlthough the acceleration times in most car ...  \n",
       "1  \\n\\n@stickguy said:\\nXM only comes on it if yo...  \n",
       "2  \\n\\n@qbrozen said:\\nI don’t have the room for ...  \n",
       "3                 \\nCongrats @stickguy ……very cool!   \n",
       "4  \\nHappy New Year all!Congrats @stickguy. I rea...  "
      ]
     },
     "execution_count": 2,
     "metadata": {},
     "output_type": "execute_result"
    }
   ],
   "source": [
    "comments = pd.read_csv('forum_comments_2022.csv')\n",
    "comments.head()"
   ]
  },
  {
   "cell_type": "code",
   "execution_count": 3,
   "metadata": {},
   "outputs": [
    {
     "data": {
      "text/plain": [
       "'\\nAlthough the acceleration times in most car magazines are somewhat bogus, they are still useful for comparison. Anyway, Car and Driver has just tested a Maverick 2.0 awd, and they got a 0-60 time of 5.9, which is not that far from a base BMW 330i at 5.6. Anyway, for the money the Maverick is a fast vehicle.https://www.caranddriver.com/reviews/a38516737/2022-ford-maverick-xlt-fx4-by-the-numbers/stickguy: Did you end up going for the 0% financing? If so, those payments of c. 750 a month are steep, but the equity will obviously build up very quickly. Even right now you could probably sell it for several thousand more than what you bought it for. The latest I heard on the chip shortage is that it will only slowly abate in 2022. According to one article I saw, things aren\\'t likely to truly get back to \"normal,\" whatever that is, probably until the second half of 2023. If true, this will likely mean that there won\\'t be a sudden collapse of car prices. With all the lost production and pent up demand we\\'ve got, used and new vehicle prices are likely to remain high for the first half of 2022, and then only slowly start to decline after that. And so in 6 months or so when your Maverick hybrid arrives you should still be able to pocket a handy profit on your 2.0 Maverick as you make the trade. '"
      ]
     },
     "execution_count": 3,
     "metadata": {},
     "output_type": "execute_result"
    }
   ],
   "source": [
    "comments['message'][0]"
   ]
  },
  {
   "attachments": {},
   "cell_type": "markdown",
   "metadata": {},
   "source": [
    "### Remove username in the message"
   ]
  },
  {
   "cell_type": "code",
   "execution_count": 4,
   "metadata": {},
   "outputs": [],
   "source": [
    "def remove_uid(text):\n",
    "    return re.sub(r'@\\S+', '', text)"
   ]
  },
  {
   "cell_type": "code",
   "execution_count": 5,
   "metadata": {},
   "outputs": [
    {
     "data": {
      "text/plain": [
       "'\\nAlthough the acceleration times in most car magazines are somewhat bogus, they are still useful for comparison. Anyway, Car and Driver has just tested a Maverick 2.0 awd, and they got a 0-60 time of 5.9, which is not that far from a base BMW 330i at 5.6. Anyway, for the money the Maverick is a fast vehicle.https://www.caranddriver.com/reviews/a38516737/2022-ford-maverick-xlt-fx4-by-the-numbers/stickguy: Did you end up going for the 0% financing? If so, those payments of c. 750 a month are steep, but the equity will obviously build up very quickly. Even right now you could probably sell it for several thousand more than what you bought it for. The latest I heard on the chip shortage is that it will only slowly abate in 2022. According to one article I saw, things aren\\'t likely to truly get back to \"normal,\" whatever that is, probably until the second half of 2023. If true, this will likely mean that there won\\'t be a sudden collapse of car prices. With all the lost production and pent up demand we\\'ve got, used and new vehicle prices are likely to remain high for the first half of 2022, and then only slowly start to decline after that. And so in 6 months or so when your Maverick hybrid arrives you should still be able to pocket a handy profit on your 2.0 Maverick as you make the trade. '"
      ]
     },
     "execution_count": 5,
     "metadata": {},
     "output_type": "execute_result"
    }
   ],
   "source": [
    "comments['cleaned'] = [remove_uid(w) for w in comments['message']]\n",
    "comments['cleaned'][0]"
   ]
  },
  {
   "attachments": {},
   "cell_type": "markdown",
   "metadata": {},
   "source": [
    "### Convert all text to lower case"
   ]
  },
  {
   "cell_type": "code",
   "execution_count": 6,
   "metadata": {},
   "outputs": [
    {
     "data": {
      "text/plain": [
       "'\\nalthough the acceleration times in most car magazines are somewhat bogus, they are still useful for comparison. anyway, car and driver has just tested a maverick 2.0 awd, and they got a 0-60 time of 5.9, which is not that far from a base bmw 330i at 5.6. anyway, for the money the maverick is a fast vehicle.https://www.caranddriver.com/reviews/a38516737/2022-ford-maverick-xlt-fx4-by-the-numbers/stickguy: did you end up going for the 0% financing? if so, those payments of c. 750 a month are steep, but the equity will obviously build up very quickly. even right now you could probably sell it for several thousand more than what you bought it for. the latest i heard on the chip shortage is that it will only slowly abate in 2022. according to one article i saw, things aren\\'t likely to truly get back to \"normal,\" whatever that is, probably until the second half of 2023. if true, this will likely mean that there won\\'t be a sudden collapse of car prices. with all the lost production and pent up demand we\\'ve got, used and new vehicle prices are likely to remain high for the first half of 2022, and then only slowly start to decline after that. and so in 6 months or so when your maverick hybrid arrives you should still be able to pocket a handy profit on your 2.0 maverick as you make the trade. '"
      ]
     },
     "execution_count": 6,
     "metadata": {},
     "output_type": "execute_result"
    }
   ],
   "source": [
    "comments['cleaned'] = comments['cleaned'].str.lower()\n",
    "comments['cleaned'][0]"
   ]
  },
  {
   "attachments": {},
   "cell_type": "markdown",
   "metadata": {},
   "source": [
    "### Remove Unicode Character (URL)"
   ]
  },
  {
   "cell_type": "code",
   "execution_count": 7,
   "metadata": {},
   "outputs": [],
   "source": [
    "import re\n",
    "\n",
    "def remove_url(text):\n",
    "    return re.sub(r'http\\S+', '', text)"
   ]
  },
  {
   "cell_type": "code",
   "execution_count": 8,
   "metadata": {},
   "outputs": [
    {
     "data": {
      "text/plain": [
       "'\\nalthough the acceleration times in most car magazines are somewhat bogus, they are still useful for comparison. anyway, car and driver has just tested a maverick 2.0 awd, and they got a 0-60 time of 5.9, which is not that far from a base bmw 330i at 5.6. anyway, for the money the maverick is a fast vehicle. did you end up going for the 0% financing? if so, those payments of c. 750 a month are steep, but the equity will obviously build up very quickly. even right now you could probably sell it for several thousand more than what you bought it for. the latest i heard on the chip shortage is that it will only slowly abate in 2022. according to one article i saw, things aren\\'t likely to truly get back to \"normal,\" whatever that is, probably until the second half of 2023. if true, this will likely mean that there won\\'t be a sudden collapse of car prices. with all the lost production and pent up demand we\\'ve got, used and new vehicle prices are likely to remain high for the first half of 2022, and then only slowly start to decline after that. and so in 6 months or so when your maverick hybrid arrives you should still be able to pocket a handy profit on your 2.0 maverick as you make the trade. '"
      ]
     },
     "execution_count": 8,
     "metadata": {},
     "output_type": "execute_result"
    }
   ],
   "source": [
    "comments['cleaned'] = [remove_url(w) for w in comments['cleaned']]\n",
    "comments['cleaned'][0]"
   ]
  },
  {
   "attachments": {},
   "cell_type": "markdown",
   "metadata": {},
   "source": [
    "### Remove numbers"
   ]
  },
  {
   "cell_type": "code",
   "execution_count": 9,
   "metadata": {},
   "outputs": [],
   "source": [
    "import re \n",
    "order = r'[0-9]'\n",
    "\n",
    "# text as the row\n",
    "def remove_numbers(text):\n",
    "    filtered_text = re.sub(order,'',text)\n",
    "    return filtered_text\n"
   ]
  },
  {
   "cell_type": "code",
   "execution_count": 10,
   "metadata": {},
   "outputs": [
    {
     "data": {
      "text/plain": [
       "'\\nalthough the acceleration times in most car magazines are somewhat bogus, they are still useful for comparison. anyway, car and driver has just tested a maverick . awd, and they got a - time of ., which is not that far from a base bmw i at .. anyway, for the money the maverick is a fast vehicle. did you end up going for the % financing? if so, those payments of c.  a month are steep, but the equity will obviously build up very quickly. even right now you could probably sell it for several thousand more than what you bought it for. the latest i heard on the chip shortage is that it will only slowly abate in . according to one article i saw, things aren\\'t likely to truly get back to \"normal,\" whatever that is, probably until the second half of . if true, this will likely mean that there won\\'t be a sudden collapse of car prices. with all the lost production and pent up demand we\\'ve got, used and new vehicle prices are likely to remain high for the first half of , and then only slowly start to decline after that. and so in  months or so when your maverick hybrid arrives you should still be able to pocket a handy profit on your . maverick as you make the trade. '"
      ]
     },
     "execution_count": 10,
     "metadata": {},
     "output_type": "execute_result"
    }
   ],
   "source": [
    "comments['cleaned'] = [remove_numbers(w) for w in comments['cleaned']]\n",
    "comments['cleaned'][0]"
   ]
  },
  {
   "attachments": {},
   "cell_type": "markdown",
   "metadata": {},
   "source": [
    "### Remove punctuation\n",
    "\n",
    "Replace punctuation with white space to avoid string concatenation"
   ]
  },
  {
   "cell_type": "code",
   "execution_count": 11,
   "metadata": {},
   "outputs": [],
   "source": [
    "import string\n",
    "\n",
    "def remove_punctuation(text):\n",
    "    filtered_text = text.translate(str.maketrans(string.punctuation,\" \"*len(string.punctuation)))\n",
    "    return filtered_text\n"
   ]
  },
  {
   "cell_type": "code",
   "execution_count": 12,
   "metadata": {},
   "outputs": [
    {
     "data": {
      "text/plain": [
       "'\\nalthough the acceleration times in most car magazines are somewhat bogus  they are still useful for comparison  anyway  car and driver has just tested a maverick   awd  and they got a   time of    which is not that far from a base bmw i at    anyway  for the money the maverick is a fast vehicle  did you end up going for the   financing  if so  those payments of c   a month are steep  but the equity will obviously build up very quickly  even right now you could probably sell it for several thousand more than what you bought it for  the latest i heard on the chip shortage is that it will only slowly abate in   according to one article i saw  things aren t likely to truly get back to  normal   whatever that is  probably until the second half of   if true  this will likely mean that there won t be a sudden collapse of car prices  with all the lost production and pent up demand we ve got  used and new vehicle prices are likely to remain high for the first half of   and then only slowly start to decline after that  and so in  months or so when your maverick hybrid arrives you should still be able to pocket a handy profit on your   maverick as you make the trade  '"
      ]
     },
     "execution_count": 12,
     "metadata": {},
     "output_type": "execute_result"
    }
   ],
   "source": [
    "comments['cleaned'] = [remove_punctuation(w) for w in comments['cleaned']]\n",
    "comments['cleaned'][0]"
   ]
  },
  {
   "attachments": {},
   "cell_type": "markdown",
   "metadata": {},
   "source": [
    "### Tokenize: breaking sentences into words\n",
    "\n",
    "Use TreebankWordTokenizer to not break the contradition word like \"I'm\" \"I don't\""
   ]
  },
  {
   "cell_type": "code",
   "execution_count": 13,
   "metadata": {},
   "outputs": [],
   "source": [
    "import nltk\n",
    "from nltk import word_tokenize\n",
    "from nltk.tokenize import TreebankWordTokenizer\n",
    "\n",
    "def tokenize_word(text):\n",
    "    return TreebankWordTokenizer().tokenize(text)"
   ]
  },
  {
   "cell_type": "code",
   "execution_count": 14,
   "metadata": {},
   "outputs": [
    {
     "data": {
      "text/plain": [
       "0    [although, the, acceleration, times, in, most,...\n",
       "1    [said, xm, only, comes, on, it, if, you, add, ...\n",
       "2    [said, i, don’t, have, the, room, for, it, but...\n",
       "3                             [congrats, ……very, cool]\n",
       "4    [happy, new, year, all, congrats, i, really, r...\n",
       "Name: tokenized, dtype: object"
      ]
     },
     "execution_count": 14,
     "metadata": {},
     "output_type": "execute_result"
    }
   ],
   "source": [
    "comments['tokenized'] = [tokenize_word(w) for w in comments['cleaned']]\n",
    "\n",
    "comments['tokenized'].head()"
   ]
  },
  {
   "attachments": {},
   "cell_type": "markdown",
   "metadata": {},
   "source": [
    "### Remove stop words"
   ]
  },
  {
   "cell_type": "code",
   "execution_count": 15,
   "metadata": {},
   "outputs": [],
   "source": [
    "import nltk\n",
    "from nltk.corpus import stopwords\n",
    "\n",
    "stop_words = nltk.corpus.stopwords.words('english')\n",
    "\n",
    "# Query as the row \n",
    "def remove_stopwords(query):\n",
    "    result = [word for word in query if word not in stop_words]\n",
    "    return result"
   ]
  },
  {
   "cell_type": "code",
   "execution_count": 16,
   "metadata": {},
   "outputs": [
    {
     "data": {
      "text/plain": [
       "0    [although, acceleration, times, car, magazines...\n",
       "1    [said, xm, comes, add, lariat, luxury, package...\n",
       "2    [said, don’t, room, someone, save, poor, thing...\n",
       "3                             [congrats, ……very, cool]\n",
       "4    [happy, new, year, congrats, really, really, l...\n",
       "Name: cleaned, dtype: object"
      ]
     },
     "execution_count": 16,
     "metadata": {},
     "output_type": "execute_result"
    }
   ],
   "source": [
    "comments['cleaned'] = [remove_stopwords(w) for w in comments['tokenized']]\n",
    "comments['cleaned'].head()"
   ]
  },
  {
   "attachments": {},
   "cell_type": "markdown",
   "metadata": {},
   "source": [
    "# B. Find the top-5 brands \n",
    "\n",
    "Find from the forum messages by calculating frequency counts. \n",
    "\n",
    "For each brand, the mention is counted only once per post."
   ]
  },
  {
   "cell_type": "code",
   "execution_count": 17,
   "metadata": {},
   "outputs": [
    {
     "data": {
      "text/html": [
       "<div>\n",
       "<style scoped>\n",
       "    .dataframe tbody tr th:only-of-type {\n",
       "        vertical-align: middle;\n",
       "    }\n",
       "\n",
       "    .dataframe tbody tr th {\n",
       "        vertical-align: top;\n",
       "    }\n",
       "\n",
       "    .dataframe thead th {\n",
       "        text-align: right;\n",
       "    }\n",
       "</style>\n",
       "<table border=\"1\" class=\"dataframe\">\n",
       "  <thead>\n",
       "    <tr style=\"text-align: right;\">\n",
       "      <th></th>\n",
       "      <th>Make</th>\n",
       "    </tr>\n",
       "  </thead>\n",
       "  <tbody>\n",
       "    <tr>\n",
       "      <th>0</th>\n",
       "      <td>SNVI</td>\n",
       "    </tr>\n",
       "    <tr>\n",
       "      <th>1</th>\n",
       "      <td>Zanella</td>\n",
       "    </tr>\n",
       "    <tr>\n",
       "      <th>2</th>\n",
       "      <td>Koller</td>\n",
       "    </tr>\n",
       "    <tr>\n",
       "      <th>3</th>\n",
       "      <td>Anasagasti</td>\n",
       "    </tr>\n",
       "    <tr>\n",
       "      <th>4</th>\n",
       "      <td>AutoLatina</td>\n",
       "    </tr>\n",
       "  </tbody>\n",
       "</table>\n",
       "</div>"
      ],
      "text/plain": [
       "         Make\n",
       "0        SNVI\n",
       "1     Zanella\n",
       "2      Koller\n",
       "3  Anasagasti\n",
       "4  AutoLatina"
      ]
     },
     "execution_count": 17,
     "metadata": {},
     "output_type": "execute_result"
    }
   ],
   "source": [
    "brands = pd.read_csv('car_companies.csv')\n",
    "brands.head()"
   ]
  },
  {
   "cell_type": "code",
   "execution_count": 18,
   "metadata": {},
   "outputs": [
    {
     "data": {
      "text/plain": [
       "['snvi', 'zanella', 'koller', 'anasagasti', 'autolatina']"
      ]
     },
     "execution_count": 18,
     "metadata": {},
     "output_type": "execute_result"
    }
   ],
   "source": [
    "# Extract the brand names\n",
    "brands = brands['Make'].tolist()\n",
    "\n",
    "# Convert to lowercase\n",
    "brands = list(map(str.lower,brands))\n",
    "\n",
    "brands[:5]"
   ]
  },
  {
   "cell_type": "code",
   "execution_count": 19,
   "metadata": {},
   "outputs": [],
   "source": [
    "freqDict = dict(zip(brands, [0]*len(brands)))\n",
    "\n",
    "# For each message\n",
    "for i in range(len(comments)):\n",
    "    # For every word in the message\n",
    "    text = set(comments['cleaned'][i])\n",
    "    for w in text:\n",
    "        if w in brands:\n",
    "            freqDict[w] += 1"
   ]
  },
  {
   "cell_type": "code",
   "execution_count": 20,
   "metadata": {},
   "outputs": [
    {
     "name": "stdout",
     "output_type": "stream",
     "text": [
      "{'holden': 1, 'steyr': 1, 'sin': 1, 'beaumont': 1, 'brooks': 4, 'dennis': 1, 'derby': 2, 'dynasty': 1, 'monarch': 1, 'passport': 5, 'russell': 8, 'aero': 5, 'alpine': 8, 'bugatti': 14, 'peugeot': 10, 'renault': 3, 'alpina': 2, 'apollo': 1, 'audi': 260, 'bitter': 5, 'bmw': 461, 'fuso': 4, 'man': 171, 'opel': 46, 'porsche': 59, 'smart': 56, 'volkswagen': 15, 'borgward': 1, 'nag': 2, 'bet': 109, 'force': 25, 'tvs': 11, 'hero': 2, 'premier': 8, 'standard': 150, 'tmc': 2, 'abarth': 1, 'cts': 7, 'ducati': 3, 'ferrari': 18, 'fiat': 42, 'iso': 1, 'lancia': 2, 'lamborghini': 11, 'maserati': 14, 'zagato': 3, 'bertone': 4, 'fca': 3, 'rapid': 4, 'acura': 203, 'daihatsu': 3, 'dome': 7, 'honda': 271, 'infiniti': 87, 'isuzu': 12, 'kawasaki': 3, 'lexus': 84, 'mazda': 97, 'nissan': 163, 'subaru': 136, 'suzuki': 26, 'toyota': 317, 'yamaha': 3, 'datsun': 5, 'eunos': 1, 'stellantis': 12, 'buddy': 54, 'think': 2068, 'delta': 24, 'star': 19, 'umm': 6, 'yugo': 4, 'genesis': 42, 'hyundai': 195, 'kia': 126, 'daewoo': 6, 'samsung': 8, 'seat': 254, 'micro': 13, 'polestar': 60, 'saab': 16, 'martini': 1, 'ac': 63, 'bentley': 13, 'jaguar': 9, 'lotus': 8, 'mclaren': 6, 'mg': 3, 'mini': 226, 'tvr': 1, 'vauxhall': 3, 'alvis': 1, 'austin': 36, 'bristol': 5, 'daimler': 3, 'marcos': 1, 'rover': 41, 'singer': 2, 'triumph': 3, 'buick': 46, 'cadillac': 66, 'chevrolet': 20, 'chrysler': 60, 'dodge': 45, 'eldorado': 3, 'fisker': 2, 'ford': 575, 'freightliner': 1, 'gm': 116, 'google': 53, 'gem': 7, 'gmc': 14, 'jeep': 347, 'karma': 1, 'lincoln': 54, 'mack': 1, 'pierce': 2, 'polaris': 1, 'ram': 95, 'rivian': 97, 'shelby': 1, 'srt': 2, 'tesla': 215, 'amc': 2, 'brush': 7, 'chandler': 3, 'columbia': 1, 'continental': 34, 'cord': 11, 'cutting': 21, 'eagle': 9, 'edsel': 5, 'essex': 1, 'gardner': 1, 'geo': 2, 'hudson': 1, 'hummer': 1, 'jackson': 7, 'kaiser': 1, 'king': 24, 'lafayette': 2, 'lexington': 2, 'local': 481, 'mercury': 4, 'mitchell': 4, 'moon': 23, 'nash': 1, 'national': 47, 'oldsmobile': 19, 'overland': 1, 'packard': 2, 'peerless': 3, 'pilot': 102, 'plymouth': 11, 'pontiac': 24, 'regal': 4, 'saturn': 30, 'stanley': 2, 'white': 284, 'willys': 7}\n"
     ]
    }
   ],
   "source": [
    "newDict = dict((k, v) for k, v in freqDict.items() if v > 0)\n",
    "print(newDict)"
   ]
  },
  {
   "cell_type": "code",
   "execution_count": 21,
   "metadata": {},
   "outputs": [
    {
     "name": "stdout",
     "output_type": "stream",
     "text": [
      "{'think': 2068, 'ford': 575, 'local': 481, 'bmw': 461, 'jeep': 347, 'toyota': 317, 'white': 284, 'honda': 271, 'audi': 260, 'seat': 254, 'mini': 226, 'tesla': 215, 'acura': 203, 'hyundai': 195, 'man': 171, 'nissan': 163, 'standard': 150, 'subaru': 136, 'kia': 126, 'gm': 116, 'bet': 109, 'pilot': 102, 'mazda': 97, 'rivian': 97, 'ram': 95, 'infiniti': 87, 'lexus': 84, 'cadillac': 66, 'ac': 63, 'polestar': 60, 'chrysler': 60, 'porsche': 59, 'smart': 56, 'buddy': 54, 'lincoln': 54, 'google': 53, 'national': 47, 'opel': 46, 'buick': 46, 'dodge': 45, 'fiat': 42, 'genesis': 42, 'rover': 41, 'austin': 36, 'continental': 34, 'saturn': 30, 'suzuki': 26, 'force': 25, 'delta': 24, 'king': 24, 'pontiac': 24, 'moon': 23, 'cutting': 21, 'chevrolet': 20, 'star': 19, 'oldsmobile': 19, 'ferrari': 18, 'saab': 16, 'volkswagen': 15, 'bugatti': 14, 'maserati': 14, 'gmc': 14, 'micro': 13, 'bentley': 13, 'isuzu': 12, 'stellantis': 12, 'tvs': 11, 'lamborghini': 11, 'cord': 11, 'plymouth': 11, 'peugeot': 10, 'jaguar': 9, 'eagle': 9, 'russell': 8, 'alpine': 8, 'premier': 8, 'samsung': 8, 'lotus': 8, 'cts': 7, 'dome': 7, 'gem': 7, 'brush': 7, 'jackson': 7, 'willys': 7, 'umm': 6, 'daewoo': 6, 'mclaren': 6, 'passport': 5, 'aero': 5, 'bitter': 5, 'datsun': 5, 'bristol': 5, 'edsel': 5, 'brooks': 4, 'fuso': 4, 'bertone': 4, 'rapid': 4, 'yugo': 4, 'mercury': 4, 'mitchell': 4, 'regal': 4, 'renault': 3, 'ducati': 3, 'zagato': 3, 'fca': 3, 'daihatsu': 3, 'kawasaki': 3, 'yamaha': 3, 'mg': 3, 'vauxhall': 3, 'daimler': 3, 'triumph': 3, 'eldorado': 3, 'chandler': 3, 'peerless': 3, 'derby': 2, 'alpina': 2, 'nag': 2, 'hero': 2, 'tmc': 2, 'lancia': 2, 'singer': 2, 'fisker': 2, 'pierce': 2, 'srt': 2, 'amc': 2, 'geo': 2, 'lafayette': 2, 'lexington': 2, 'packard': 2, 'stanley': 2, 'holden': 1, 'steyr': 1, 'sin': 1, 'beaumont': 1, 'dennis': 1, 'dynasty': 1, 'monarch': 1, 'apollo': 1, 'borgward': 1, 'abarth': 1, 'iso': 1, 'eunos': 1, 'martini': 1, 'tvr': 1, 'alvis': 1, 'marcos': 1, 'freightliner': 1, 'karma': 1, 'mack': 1, 'polaris': 1, 'shelby': 1, 'columbia': 1, 'essex': 1, 'gardner': 1, 'hudson': 1, 'hummer': 1, 'kaiser': 1, 'nash': 1, 'overland': 1}\n"
     ]
    }
   ],
   "source": [
    "sorted_brands = sorted(newDict.items(), key=lambda x:x[1], reverse=True)\n",
    "sorted_dict = dict(sorted_brands)\n",
    "\n",
    "print(sorted_dict)"
   ]
  },
  {
   "attachments": {},
   "cell_type": "markdown",
   "metadata": {},
   "source": [
    "\"THINK', 'LOCAL', and 'WHITE' are some common words that people use in their sentences, it is highly likely that they got misclassified as a car brand.\n",
    "\n",
    "Additionaly, 'TH!NK' has filed bankrupty in 2011, \"LOCAL\" also shut down their factory in the beginning of 2022, and \"WHITE\" is an old brand back in the 1980s.\n",
    "\n",
    "It is safe to say people were not referring to the brand \"TH!NK\", \"LOCAL\" or \"WHITE\" when they used these threee words."
   ]
  },
  {
   "attachments": {},
   "cell_type": "markdown",
   "metadata": {},
   "source": [
    "Remove words that are commonly used in the sentence but not refer to the brand because the manufacturers have already been defuncted."
   ]
  },
  {
   "cell_type": "code",
   "execution_count": 22,
   "metadata": {},
   "outputs": [],
   "source": [
    "unwanted = ['think','local','white','seat','mini','standard','bet','buddy','man','smart','national','cutting']\n",
    "\n",
    "for w in unwanted:\n",
    "    del sorted_dict[w]\n",
    "\n",
    "#sorted_dict"
   ]
  },
  {
   "cell_type": "code",
   "execution_count": 23,
   "metadata": {},
   "outputs": [
    {
     "data": {
      "text/html": [
       "<div>\n",
       "<style scoped>\n",
       "    .dataframe tbody tr th:only-of-type {\n",
       "        vertical-align: middle;\n",
       "    }\n",
       "\n",
       "    .dataframe tbody tr th {\n",
       "        vertical-align: top;\n",
       "    }\n",
       "\n",
       "    .dataframe thead th {\n",
       "        text-align: right;\n",
       "    }\n",
       "</style>\n",
       "<table border=\"1\" class=\"dataframe\">\n",
       "  <thead>\n",
       "    <tr style=\"text-align: right;\">\n",
       "      <th></th>\n",
       "      <th>freq</th>\n",
       "    </tr>\n",
       "    <tr>\n",
       "      <th>brand</th>\n",
       "      <th></th>\n",
       "    </tr>\n",
       "  </thead>\n",
       "  <tbody>\n",
       "    <tr>\n",
       "      <th>ford</th>\n",
       "      <td>575</td>\n",
       "    </tr>\n",
       "    <tr>\n",
       "      <th>bmw</th>\n",
       "      <td>461</td>\n",
       "    </tr>\n",
       "    <tr>\n",
       "      <th>jeep</th>\n",
       "      <td>347</td>\n",
       "    </tr>\n",
       "    <tr>\n",
       "      <th>toyota</th>\n",
       "      <td>317</td>\n",
       "    </tr>\n",
       "    <tr>\n",
       "      <th>honda</th>\n",
       "      <td>271</td>\n",
       "    </tr>\n",
       "    <tr>\n",
       "      <th>audi</th>\n",
       "      <td>260</td>\n",
       "    </tr>\n",
       "    <tr>\n",
       "      <th>tesla</th>\n",
       "      <td>215</td>\n",
       "    </tr>\n",
       "    <tr>\n",
       "      <th>acura</th>\n",
       "      <td>203</td>\n",
       "    </tr>\n",
       "    <tr>\n",
       "      <th>hyundai</th>\n",
       "      <td>195</td>\n",
       "    </tr>\n",
       "    <tr>\n",
       "      <th>nissan</th>\n",
       "      <td>163</td>\n",
       "    </tr>\n",
       "  </tbody>\n",
       "</table>\n",
       "</div>"
      ],
      "text/plain": [
       "         freq\n",
       "brand        \n",
       "ford      575\n",
       "bmw       461\n",
       "jeep      347\n",
       "toyota    317\n",
       "honda     271\n",
       "audi      260\n",
       "tesla     215\n",
       "acura     203\n",
       "hyundai   195\n",
       "nissan    163"
      ]
     },
     "execution_count": 23,
     "metadata": {},
     "output_type": "execute_result"
    }
   ],
   "source": [
    "df = pd.DataFrame.from_dict(sorted_dict, orient='index', columns=['freq'])\n",
    "df.index.name = 'brand'\n",
    "df.head(10)"
   ]
  },
  {
   "attachments": {},
   "cell_type": "markdown",
   "metadata": {},
   "source": [
    "The actual top-5 brand should be <b>Ford, BMW, Jeep, Toyota, and Honda</b>."
   ]
  },
  {
   "cell_type": "code",
   "execution_count": 24,
   "metadata": {},
   "outputs": [],
   "source": [
    "df.to_csv('mentioned_brands.csv')"
   ]
  },
  {
   "attachments": {},
   "cell_type": "markdown",
   "metadata": {},
   "source": [
    "# C. Identify top-3 co-mentioned brands\n",
    "\n",
    "Calculate the frequency of co-mentions of brands.\n",
    "\n",
    "For example, if Honda and Toyota are mentioned in the same post, then the co-mention frequency of Honda and Toyota increases by 1."
   ]
  },
  {
   "cell_type": "code",
   "execution_count": 25,
   "metadata": {},
   "outputs": [
    {
     "data": {
      "text/html": [
       "<div>\n",
       "<style scoped>\n",
       "    .dataframe tbody tr th:only-of-type {\n",
       "        vertical-align: middle;\n",
       "    }\n",
       "\n",
       "    .dataframe tbody tr th {\n",
       "        vertical-align: top;\n",
       "    }\n",
       "\n",
       "    .dataframe thead th {\n",
       "        text-align: right;\n",
       "    }\n",
       "</style>\n",
       "<table border=\"1\" class=\"dataframe\">\n",
       "  <thead>\n",
       "    <tr style=\"text-align: right;\">\n",
       "      <th></th>\n",
       "      <th>brand</th>\n",
       "      <th>freq</th>\n",
       "    </tr>\n",
       "  </thead>\n",
       "  <tbody>\n",
       "    <tr>\n",
       "      <th>0</th>\n",
       "      <td>ford</td>\n",
       "      <td>575</td>\n",
       "    </tr>\n",
       "    <tr>\n",
       "      <th>1</th>\n",
       "      <td>bmw</td>\n",
       "      <td>461</td>\n",
       "    </tr>\n",
       "    <tr>\n",
       "      <th>2</th>\n",
       "      <td>jeep</td>\n",
       "      <td>347</td>\n",
       "    </tr>\n",
       "    <tr>\n",
       "      <th>3</th>\n",
       "      <td>toyota</td>\n",
       "      <td>317</td>\n",
       "    </tr>\n",
       "    <tr>\n",
       "      <th>4</th>\n",
       "      <td>honda</td>\n",
       "      <td>271</td>\n",
       "    </tr>\n",
       "    <tr>\n",
       "      <th>...</th>\n",
       "      <td>...</td>\n",
       "      <td>...</td>\n",
       "    </tr>\n",
       "    <tr>\n",
       "      <th>143</th>\n",
       "      <td>hudson</td>\n",
       "      <td>1</td>\n",
       "    </tr>\n",
       "    <tr>\n",
       "      <th>144</th>\n",
       "      <td>hummer</td>\n",
       "      <td>1</td>\n",
       "    </tr>\n",
       "    <tr>\n",
       "      <th>145</th>\n",
       "      <td>kaiser</td>\n",
       "      <td>1</td>\n",
       "    </tr>\n",
       "    <tr>\n",
       "      <th>146</th>\n",
       "      <td>nash</td>\n",
       "      <td>1</td>\n",
       "    </tr>\n",
       "    <tr>\n",
       "      <th>147</th>\n",
       "      <td>overland</td>\n",
       "      <td>1</td>\n",
       "    </tr>\n",
       "  </tbody>\n",
       "</table>\n",
       "<p>148 rows × 2 columns</p>\n",
       "</div>"
      ],
      "text/plain": [
       "        brand  freq\n",
       "0        ford   575\n",
       "1         bmw   461\n",
       "2        jeep   347\n",
       "3      toyota   317\n",
       "4       honda   271\n",
       "..        ...   ...\n",
       "143    hudson     1\n",
       "144    hummer     1\n",
       "145    kaiser     1\n",
       "146      nash     1\n",
       "147  overland     1\n",
       "\n",
       "[148 rows x 2 columns]"
      ]
     },
     "execution_count": 25,
     "metadata": {},
     "output_type": "execute_result"
    }
   ],
   "source": [
    "mentioned_brands = pd.read_csv('mentioned_brands.csv')\n",
    "mentioned_brands"
   ]
  },
  {
   "attachments": {},
   "cell_type": "markdown",
   "metadata": {},
   "source": [
    "For simplicity, only select brands that were mentioned over 20 times.\n",
    "\n",
    "We cannot gain much insight if the brand were only mentioned very few time."
   ]
  },
  {
   "cell_type": "code",
   "execution_count": 26,
   "metadata": {},
   "outputs": [
    {
     "data": {
      "text/plain": [
       "(42, 2)"
      ]
     },
     "execution_count": 26,
     "metadata": {},
     "output_type": "execute_result"
    }
   ],
   "source": [
    "mentioned_brands = mentioned_brands[mentioned_brands['freq'] >= 20]\n",
    "mentioned_brands.shape"
   ]
  },
  {
   "cell_type": "code",
   "execution_count": 27,
   "metadata": {},
   "outputs": [
    {
     "data": {
      "text/plain": [
       "['ford', 'bmw', 'jeep', 'toyota', 'honda']"
      ]
     },
     "execution_count": 27,
     "metadata": {},
     "output_type": "execute_result"
    }
   ],
   "source": [
    "# Extract the metioned brand names\n",
    "brands = mentioned_brands['brand'].tolist()\n",
    "brands[:5]"
   ]
  },
  {
   "cell_type": "code",
   "execution_count": 28,
   "metadata": {},
   "outputs": [
    {
     "name": "stderr",
     "output_type": "stream",
     "text": [
      "C:\\Users\\shans\\AppData\\Local\\Temp\\ipykernel_21836\\4227647362.py:3: FutureWarning: The pandas.np module is deprecated and will be removed from pandas in a future version. Import numpy directly instead.\n",
      "  comention['brands_mentioned'] = pd.np.empty((len(comention), 0)).tolist()\n"
     ]
    },
    {
     "data": {
      "text/html": [
       "<div>\n",
       "<style scoped>\n",
       "    .dataframe tbody tr th:only-of-type {\n",
       "        vertical-align: middle;\n",
       "    }\n",
       "\n",
       "    .dataframe tbody tr th {\n",
       "        vertical-align: top;\n",
       "    }\n",
       "\n",
       "    .dataframe thead th {\n",
       "        text-align: right;\n",
       "    }\n",
       "</style>\n",
       "<table border=\"1\" class=\"dataframe\">\n",
       "  <thead>\n",
       "    <tr style=\"text-align: right;\">\n",
       "      <th></th>\n",
       "      <th>brands_mentioned</th>\n",
       "    </tr>\n",
       "  </thead>\n",
       "  <tbody>\n",
       "    <tr>\n",
       "      <th>0</th>\n",
       "      <td>[]</td>\n",
       "    </tr>\n",
       "    <tr>\n",
       "      <th>1</th>\n",
       "      <td>[]</td>\n",
       "    </tr>\n",
       "    <tr>\n",
       "      <th>2</th>\n",
       "      <td>[]</td>\n",
       "    </tr>\n",
       "    <tr>\n",
       "      <th>3</th>\n",
       "      <td>[]</td>\n",
       "    </tr>\n",
       "    <tr>\n",
       "      <th>4</th>\n",
       "      <td>[]</td>\n",
       "    </tr>\n",
       "  </tbody>\n",
       "</table>\n",
       "</div>"
      ],
      "text/plain": [
       "  brands_mentioned\n",
       "0               []\n",
       "1               []\n",
       "2               []\n",
       "3               []\n",
       "4               []"
      ]
     },
     "execution_count": 28,
     "metadata": {},
     "output_type": "execute_result"
    }
   ],
   "source": [
    "# Create a dataframe of size messages to store all the brands mentioned in each message\n",
    "comention = pd.DataFrame(index=range(len(comments)),columns=['brands_mentioned'])\n",
    "comention['brands_mentioned'] = pd.np.empty((len(comention), 0)).tolist()\n",
    "comention.head()"
   ]
  },
  {
   "cell_type": "code",
   "execution_count": 29,
   "metadata": {},
   "outputs": [
    {
     "data": {
      "text/html": [
       "<div>\n",
       "<style scoped>\n",
       "    .dataframe tbody tr th:only-of-type {\n",
       "        vertical-align: middle;\n",
       "    }\n",
       "\n",
       "    .dataframe tbody tr th {\n",
       "        vertical-align: top;\n",
       "    }\n",
       "\n",
       "    .dataframe thead th {\n",
       "        text-align: right;\n",
       "    }\n",
       "</style>\n",
       "<table border=\"1\" class=\"dataframe\">\n",
       "  <thead>\n",
       "    <tr style=\"text-align: right;\">\n",
       "      <th></th>\n",
       "      <th>brands_mentioned</th>\n",
       "    </tr>\n",
       "  </thead>\n",
       "  <tbody>\n",
       "    <tr>\n",
       "      <th>0</th>\n",
       "      <td>[bmw]</td>\n",
       "    </tr>\n",
       "    <tr>\n",
       "      <th>1</th>\n",
       "      <td>[]</td>\n",
       "    </tr>\n",
       "    <tr>\n",
       "      <th>2</th>\n",
       "      <td>[]</td>\n",
       "    </tr>\n",
       "    <tr>\n",
       "      <th>3</th>\n",
       "      <td>[]</td>\n",
       "    </tr>\n",
       "    <tr>\n",
       "      <th>4</th>\n",
       "      <td>[]</td>\n",
       "    </tr>\n",
       "    <tr>\n",
       "      <th>...</th>\n",
       "      <td>...</td>\n",
       "    </tr>\n",
       "    <tr>\n",
       "      <th>13498</th>\n",
       "      <td>[]</td>\n",
       "    </tr>\n",
       "    <tr>\n",
       "      <th>13499</th>\n",
       "      <td>[mazda]</td>\n",
       "    </tr>\n",
       "    <tr>\n",
       "      <th>13500</th>\n",
       "      <td>[]</td>\n",
       "    </tr>\n",
       "    <tr>\n",
       "      <th>13501</th>\n",
       "      <td>[]</td>\n",
       "    </tr>\n",
       "    <tr>\n",
       "      <th>13502</th>\n",
       "      <td>[]</td>\n",
       "    </tr>\n",
       "  </tbody>\n",
       "</table>\n",
       "<p>13503 rows × 1 columns</p>\n",
       "</div>"
      ],
      "text/plain": [
       "      brands_mentioned\n",
       "0                [bmw]\n",
       "1                   []\n",
       "2                   []\n",
       "3                   []\n",
       "4                   []\n",
       "...                ...\n",
       "13498               []\n",
       "13499          [mazda]\n",
       "13500               []\n",
       "13501               []\n",
       "13502               []\n",
       "\n",
       "[13503 rows x 1 columns]"
      ]
     },
     "execution_count": 29,
     "metadata": {},
     "output_type": "execute_result"
    }
   ],
   "source": [
    "# For each message\n",
    "for i in range(len(comments)):\n",
    "    text = comments['cleaned'][i]\n",
    "    for w in text:\n",
    "        if w in brands and w not in comention['brands_mentioned'][i]:\n",
    "            comention['brands_mentioned'][i].append(w)\n",
    "\n",
    "comention"
   ]
  },
  {
   "cell_type": "code",
   "execution_count": 60,
   "metadata": {},
   "outputs": [],
   "source": [
    "comention_dict = {}\n",
    "\n",
    "for i in range(len(comention)):\n",
    "    brands_in_msg = comention['brands_mentioned'][i]\n",
    "    brands_in_msg.sort()\n",
    "\n",
    "    keys = list(itertools.combinations(brands_in_msg,2))\n",
    "    for k in keys:\n",
    "        if k in comention_dict:\n",
    "            comention_dict[k] += 1\n",
    "        else:\n",
    "            comention_dict[k] = 1\n",
    "\n",
    "sorted_comention = dict(sorted(comention_dict.items(), key=lambda x:x[1], reverse=True))"
   ]
  },
  {
   "cell_type": "code",
   "execution_count": 61,
   "metadata": {},
   "outputs": [
    {
     "data": {
      "text/html": [
       "<div>\n",
       "<style scoped>\n",
       "    .dataframe tbody tr th:only-of-type {\n",
       "        vertical-align: middle;\n",
       "    }\n",
       "\n",
       "    .dataframe tbody tr th {\n",
       "        vertical-align: top;\n",
       "    }\n",
       "\n",
       "    .dataframe thead th {\n",
       "        text-align: right;\n",
       "    }\n",
       "</style>\n",
       "<table border=\"1\" class=\"dataframe\">\n",
       "  <thead>\n",
       "    <tr style=\"text-align: right;\">\n",
       "      <th></th>\n",
       "      <th>freq</th>\n",
       "    </tr>\n",
       "  </thead>\n",
       "  <tbody>\n",
       "    <tr>\n",
       "      <th>(acura, honda)</th>\n",
       "      <td>66</td>\n",
       "    </tr>\n",
       "    <tr>\n",
       "      <th>(honda, toyota)</th>\n",
       "      <td>62</td>\n",
       "    </tr>\n",
       "    <tr>\n",
       "      <th>(hyundai, kia)</th>\n",
       "      <td>52</td>\n",
       "    </tr>\n",
       "  </tbody>\n",
       "</table>\n",
       "</div>"
      ],
      "text/plain": [
       "                 freq\n",
       "(acura, honda)     66\n",
       "(honda, toyota)    62\n",
       "(hyundai, kia)     52"
      ]
     },
     "execution_count": 61,
     "metadata": {},
     "output_type": "execute_result"
    }
   ],
   "source": [
    "comention_df = pd.DataFrame.from_dict(sorted_comention, orient='index', columns=['freq'])\n",
    "comention_df.head(3)"
   ]
  },
  {
   "attachments": {},
   "cell_type": "markdown",
   "metadata": {},
   "source": [
    "The top 3 brand pairs which get mentioned together the most are:\n",
    "- Acura and Honda\n",
    "- Honda and Toyota\n",
    "- Hyundai and KIA"
   ]
  },
  {
   "attachments": {},
   "cell_type": "markdown",
   "metadata": {},
   "source": [
    "# D. Brand-Attribute Co-Frequency\n",
    "\n",
    "Find the 5 most frequently mentioned attributes of cars in the discussions.\n",
    "\n",
    "Identify which attributes are most strongly associated with the top 5 brands we found in part B. "
   ]
  },
  {
   "cell_type": "code",
   "execution_count": 34,
   "metadata": {},
   "outputs": [],
   "source": [
    "top_brands = ['ford', 'bmw', 'jeep', 'toyota', 'honda']"
   ]
  },
  {
   "attachments": {},
   "cell_type": "markdown",
   "metadata": {},
   "source": [
    "### Extract noun and adjective"
   ]
  },
  {
   "cell_type": "code",
   "execution_count": 35,
   "metadata": {},
   "outputs": [],
   "source": [
    "import spacy\n",
    "nlp = spacy.load('en_core_web_sm')\n",
    "\n",
    "def extract_noun_adj(query):\n",
    "    result = []\n",
    "    doc = nlp(\" \".join(query))\n",
    "    \n",
    "    result = [w for w in doc if w.pos_ == \"NOUN\" or w.pos_ == \"ADJ\"]\n",
    "    return result"
   ]
  },
  {
   "cell_type": "code",
   "execution_count": 36,
   "metadata": {},
   "outputs": [
    {
     "data": {
      "text/plain": [
       "0    [acceleration, times, car, magazines, bogus, u...\n",
       "1    [package, navi, option, fine, assume, phone, a...\n",
       "2    [poor, thing, wrong, thrust, obvious, stuff, s...\n",
       "3                                     [congrats, cool]\n",
       "4                         [happy, new, year, congrats]\n",
       "Name: extracted, dtype: object"
      ]
     },
     "execution_count": 36,
     "metadata": {},
     "output_type": "execute_result"
    }
   ],
   "source": [
    "comments['extracted'] = [extract_noun_adj(w) for w in comments['cleaned']]\n",
    "comments['extracted'].head()"
   ]
  },
  {
   "attachments": {},
   "cell_type": "markdown",
   "metadata": {},
   "source": [
    "### Lemmatize all the tokens"
   ]
  },
  {
   "cell_type": "code",
   "execution_count": 37,
   "metadata": {},
   "outputs": [],
   "source": [
    "from nltk.stem import WordNetLemmatizer\n",
    "lemmatizer = WordNetLemmatizer()\n",
    "\n",
    "def lemmatize_text(query):\n",
    "    result = []\n",
    "\n",
    "    for ele in query:\n",
    "        result.append(lemmatizer.lemmatize(ele.text))\n",
    "    \n",
    "    return result"
   ]
  },
  {
   "cell_type": "code",
   "execution_count": 38,
   "metadata": {},
   "outputs": [
    {
     "data": {
      "text/plain": [
       "0    [acceleration, time, car, magazine, bogus, use...\n",
       "1    [package, navi, option, fine, assume, phone, a...\n",
       "2    [poor, thing, wrong, thrust, obvious, stuff, s...\n",
       "3                                     [congrats, cool]\n",
       "4                         [happy, new, year, congrats]\n",
       "Name: extracted, dtype: object"
      ]
     },
     "execution_count": 38,
     "metadata": {},
     "output_type": "execute_result"
    }
   ],
   "source": [
    "comments['extracted'] = [lemmatize_text(w) for w in comments['extracted']]\n",
    "comments['extracted'].head()"
   ]
  },
  {
   "attachments": {},
   "cell_type": "markdown",
   "metadata": {},
   "source": [
    "### Count term frequency"
   ]
  },
  {
   "cell_type": "code",
   "execution_count": 39,
   "metadata": {},
   "outputs": [],
   "source": [
    "attribute_dict = {}\n",
    "\n",
    "for i in range(len(comments)):\n",
    "    terms_in_msg = comments['extracted'][i]\n",
    "    terms_in_msg.sort()\n",
    "\n",
    "    for k in terms_in_msg:\n",
    "        if len(k) > 1:\n",
    "            if k in attribute_dict:\n",
    "                attribute_dict[k] += 1\n",
    "            else:\n",
    "                attribute_dict[k] = 1\n",
    "    \n",
    "attribute_dict = dict(sorted(attribute_dict.items(), key=lambda x:x[1], reverse=True))"
   ]
  },
  {
   "cell_type": "code",
   "execution_count": 40,
   "metadata": {},
   "outputs": [
    {
     "data": {
      "text/html": [
       "<div>\n",
       "<style scoped>\n",
       "    .dataframe tbody tr th:only-of-type {\n",
       "        vertical-align: middle;\n",
       "    }\n",
       "\n",
       "    .dataframe tbody tr th {\n",
       "        vertical-align: top;\n",
       "    }\n",
       "\n",
       "    .dataframe thead th {\n",
       "        text-align: right;\n",
       "    }\n",
       "</style>\n",
       "<table border=\"1\" class=\"dataframe\">\n",
       "  <thead>\n",
       "    <tr style=\"text-align: right;\">\n",
       "      <th></th>\n",
       "      <th>freq</th>\n",
       "    </tr>\n",
       "    <tr>\n",
       "      <th>attributes</th>\n",
       "      <th></th>\n",
       "    </tr>\n",
       "  </thead>\n",
       "  <tbody>\n",
       "    <tr>\n",
       "      <th>car</th>\n",
       "      <td>6327</td>\n",
       "    </tr>\n",
       "    <tr>\n",
       "      <th>year</th>\n",
       "      <td>3129</td>\n",
       "    </tr>\n",
       "    <tr>\n",
       "      <th>time</th>\n",
       "      <td>2842</td>\n",
       "    </tr>\n",
       "    <tr>\n",
       "      <th>new</th>\n",
       "      <td>2614</td>\n",
       "    </tr>\n",
       "    <tr>\n",
       "      <th>good</th>\n",
       "      <td>2040</td>\n",
       "    </tr>\n",
       "    <tr>\n",
       "      <th>dealer</th>\n",
       "      <td>2009</td>\n",
       "    </tr>\n",
       "    <tr>\n",
       "      <th>mile</th>\n",
       "      <td>1902</td>\n",
       "    </tr>\n",
       "    <tr>\n",
       "      <th>day</th>\n",
       "      <td>1833</td>\n",
       "    </tr>\n",
       "    <tr>\n",
       "      <th>lot</th>\n",
       "      <td>1648</td>\n",
       "    </tr>\n",
       "    <tr>\n",
       "      <th>price</th>\n",
       "      <td>1624</td>\n",
       "    </tr>\n",
       "    <tr>\n",
       "      <th>vehicle</th>\n",
       "      <td>1602</td>\n",
       "    </tr>\n",
       "    <tr>\n",
       "      <th>thing</th>\n",
       "      <td>1470</td>\n",
       "    </tr>\n",
       "    <tr>\n",
       "      <th>week</th>\n",
       "      <td>1333</td>\n",
       "    </tr>\n",
       "    <tr>\n",
       "      <th>wife</th>\n",
       "      <td>1308</td>\n",
       "    </tr>\n",
       "    <tr>\n",
       "      <th>way</th>\n",
       "      <td>1302</td>\n",
       "    </tr>\n",
       "    <tr>\n",
       "      <th>old</th>\n",
       "      <td>1298</td>\n",
       "    </tr>\n",
       "    <tr>\n",
       "      <th>month</th>\n",
       "      <td>1285</td>\n",
       "    </tr>\n",
       "    <tr>\n",
       "      <th>last</th>\n",
       "      <td>1285</td>\n",
       "    </tr>\n",
       "    <tr>\n",
       "      <th>nice</th>\n",
       "      <td>1258</td>\n",
       "    </tr>\n",
       "    <tr>\n",
       "      <th>work</th>\n",
       "      <td>1068</td>\n",
       "    </tr>\n",
       "    <tr>\n",
       "      <th>much</th>\n",
       "      <td>984</td>\n",
       "    </tr>\n",
       "    <tr>\n",
       "      <th>model</th>\n",
       "      <td>958</td>\n",
       "    </tr>\n",
       "    <tr>\n",
       "      <th>today</th>\n",
       "      <td>942</td>\n",
       "    </tr>\n",
       "    <tr>\n",
       "      <th>order</th>\n",
       "      <td>925</td>\n",
       "    </tr>\n",
       "    <tr>\n",
       "      <th>tire</th>\n",
       "      <td>900</td>\n",
       "    </tr>\n",
       "    <tr>\n",
       "      <th>drive</th>\n",
       "      <td>895</td>\n",
       "    </tr>\n",
       "    <tr>\n",
       "      <th>many</th>\n",
       "      <td>876</td>\n",
       "    </tr>\n",
       "    <tr>\n",
       "      <th>engine</th>\n",
       "      <td>857</td>\n",
       "    </tr>\n",
       "    <tr>\n",
       "      <th>truck</th>\n",
       "      <td>856</td>\n",
       "    </tr>\n",
       "    <tr>\n",
       "      <th>sure</th>\n",
       "      <td>823</td>\n",
       "    </tr>\n",
       "    <tr>\n",
       "      <th>sale</th>\n",
       "      <td>813</td>\n",
       "    </tr>\n",
       "    <tr>\n",
       "      <th>people</th>\n",
       "      <td>808</td>\n",
       "    </tr>\n",
       "    <tr>\n",
       "      <th>big</th>\n",
       "      <td>790</td>\n",
       "    </tr>\n",
       "    <tr>\n",
       "      <th>first</th>\n",
       "      <td>777</td>\n",
       "    </tr>\n",
       "    <tr>\n",
       "      <th>couple</th>\n",
       "      <td>772</td>\n",
       "    </tr>\n",
       "    <tr>\n",
       "      <th>market</th>\n",
       "      <td>768</td>\n",
       "    </tr>\n",
       "    <tr>\n",
       "      <th>color</th>\n",
       "      <td>759</td>\n",
       "    </tr>\n",
       "    <tr>\n",
       "      <th>issue</th>\n",
       "      <td>755</td>\n",
       "    </tr>\n",
       "    <tr>\n",
       "      <th>great</th>\n",
       "      <td>744</td>\n",
       "    </tr>\n",
       "    <tr>\n",
       "      <th>seat</th>\n",
       "      <td>736</td>\n",
       "    </tr>\n",
       "    <tr>\n",
       "      <th>next</th>\n",
       "      <td>721</td>\n",
       "    </tr>\n",
       "    <tr>\n",
       "      <th>guy</th>\n",
       "      <td>720</td>\n",
       "    </tr>\n",
       "    <tr>\n",
       "      <th>part</th>\n",
       "      <td>711</td>\n",
       "    </tr>\n",
       "    <tr>\n",
       "      <th>lease</th>\n",
       "      <td>709</td>\n",
       "    </tr>\n",
       "    <tr>\n",
       "      <th>point</th>\n",
       "      <td>707</td>\n",
       "    </tr>\n",
       "    <tr>\n",
       "      <th>tax</th>\n",
       "      <td>706</td>\n",
       "    </tr>\n",
       "    <tr>\n",
       "      <th>deal</th>\n",
       "      <td>700</td>\n",
       "    </tr>\n",
       "    <tr>\n",
       "      <th>little</th>\n",
       "      <td>697</td>\n",
       "    </tr>\n",
       "    <tr>\n",
       "      <th>road</th>\n",
       "      <td>690</td>\n",
       "    </tr>\n",
       "    <tr>\n",
       "      <th>right</th>\n",
       "      <td>690</td>\n",
       "    </tr>\n",
       "  </tbody>\n",
       "</table>\n",
       "</div>"
      ],
      "text/plain": [
       "            freq\n",
       "attributes      \n",
       "car         6327\n",
       "year        3129\n",
       "time        2842\n",
       "new         2614\n",
       "good        2040\n",
       "dealer      2009\n",
       "mile        1902\n",
       "day         1833\n",
       "lot         1648\n",
       "price       1624\n",
       "vehicle     1602\n",
       "thing       1470\n",
       "week        1333\n",
       "wife        1308\n",
       "way         1302\n",
       "old         1298\n",
       "month       1285\n",
       "last        1285\n",
       "nice        1258\n",
       "work        1068\n",
       "much         984\n",
       "model        958\n",
       "today        942\n",
       "order        925\n",
       "tire         900\n",
       "drive        895\n",
       "many         876\n",
       "engine       857\n",
       "truck        856\n",
       "sure         823\n",
       "sale         813\n",
       "people       808\n",
       "big          790\n",
       "first        777\n",
       "couple       772\n",
       "market       768\n",
       "color        759\n",
       "issue        755\n",
       "great        744\n",
       "seat         736\n",
       "next         721\n",
       "guy          720\n",
       "part         711\n",
       "lease        709\n",
       "point        707\n",
       "tax          706\n",
       "deal         700\n",
       "little       697\n",
       "road         690\n",
       "right        690"
      ]
     },
     "execution_count": 40,
     "metadata": {},
     "output_type": "execute_result"
    }
   ],
   "source": [
    "attr_df = pd.DataFrame.from_dict(attribute_dict, orient='index', columns=['freq'])\n",
    "attr_df.index.name = 'attributes'\n",
    "attr_df.head(50)"
   ]
  },
  {
   "cell_type": "code",
   "execution_count": 41,
   "metadata": {},
   "outputs": [],
   "source": [
    "attr_df.to_csv('attr_freq.csv')"
   ]
  },
  {
   "attachments": {},
   "cell_type": "markdown",
   "metadata": {},
   "source": [
    "Given the word frequency ranking result, these five terms are the most frequently mentioned car attributes:\n",
    "\n",
    "- mile, price, tire, engine, big"
   ]
  },
  {
   "cell_type": "code",
   "execution_count": 42,
   "metadata": {},
   "outputs": [],
   "source": [
    "freq_car_attributes = ['mile', 'price', 'tire', 'engine', 'big']"
   ]
  },
  {
   "attachments": {},
   "cell_type": "markdown",
   "metadata": {},
   "source": [
    "### Count brand-attribute co-occurrence frequency"
   ]
  },
  {
   "cell_type": "code",
   "execution_count": 43,
   "metadata": {},
   "outputs": [],
   "source": [
    "# Create an empty dataframe with attributes * top_brands\n",
    "brand_attr_df = pd.DataFrame(0, columns=top_brands, index=freq_car_attributes)\n",
    "brand_attr_df.head()\n",
    "\n",
    "for i in range(len(comments)):\n",
    "    msg = comments['cleaned'][i]\n",
    "\n",
    "    brands = []\n",
    "    attrs = []\n",
    "    for m in msg:\n",
    "        if m in top_brands and m not in brands:\n",
    "            brands.append(m)\n",
    "        if m in freq_car_attributes and m not in attrs:\n",
    "            attrs.append(m)\n",
    "\n",
    "    for a in attrs:\n",
    "        for b in brands:\n",
    "            brand_attr_df.loc[a][b] += 1\n"
   ]
  },
  {
   "cell_type": "code",
   "execution_count": 44,
   "metadata": {},
   "outputs": [
    {
     "data": {
      "text/html": [
       "<div>\n",
       "<style scoped>\n",
       "    .dataframe tbody tr th:only-of-type {\n",
       "        vertical-align: middle;\n",
       "    }\n",
       "\n",
       "    .dataframe tbody tr th {\n",
       "        vertical-align: top;\n",
       "    }\n",
       "\n",
       "    .dataframe thead th {\n",
       "        text-align: right;\n",
       "    }\n",
       "</style>\n",
       "<table border=\"1\" class=\"dataframe\">\n",
       "  <thead>\n",
       "    <tr style=\"text-align: right;\">\n",
       "      <th></th>\n",
       "      <th>ford</th>\n",
       "      <th>bmw</th>\n",
       "      <th>jeep</th>\n",
       "      <th>toyota</th>\n",
       "      <th>honda</th>\n",
       "      <th>sum</th>\n",
       "    </tr>\n",
       "  </thead>\n",
       "  <tbody>\n",
       "    <tr>\n",
       "      <th>price</th>\n",
       "      <td>64</td>\n",
       "      <td>92</td>\n",
       "      <td>27</td>\n",
       "      <td>41</td>\n",
       "      <td>53</td>\n",
       "      <td>277</td>\n",
       "    </tr>\n",
       "    <tr>\n",
       "      <th>engine</th>\n",
       "      <td>54</td>\n",
       "      <td>56</td>\n",
       "      <td>25</td>\n",
       "      <td>43</td>\n",
       "      <td>22</td>\n",
       "      <td>200</td>\n",
       "    </tr>\n",
       "    <tr>\n",
       "      <th>big</th>\n",
       "      <td>63</td>\n",
       "      <td>31</td>\n",
       "      <td>12</td>\n",
       "      <td>34</td>\n",
       "      <td>28</td>\n",
       "      <td>168</td>\n",
       "    </tr>\n",
       "    <tr>\n",
       "      <th>mile</th>\n",
       "      <td>20</td>\n",
       "      <td>25</td>\n",
       "      <td>11</td>\n",
       "      <td>13</td>\n",
       "      <td>18</td>\n",
       "      <td>87</td>\n",
       "    </tr>\n",
       "    <tr>\n",
       "      <th>tire</th>\n",
       "      <td>2</td>\n",
       "      <td>9</td>\n",
       "      <td>4</td>\n",
       "      <td>4</td>\n",
       "      <td>14</td>\n",
       "      <td>33</td>\n",
       "    </tr>\n",
       "  </tbody>\n",
       "</table>\n",
       "</div>"
      ],
      "text/plain": [
       "        ford  bmw  jeep  toyota  honda  sum\n",
       "price     64   92    27      41     53  277\n",
       "engine    54   56    25      43     22  200\n",
       "big       63   31    12      34     28  168\n",
       "mile      20   25    11      13     18   87\n",
       "tire       2    9     4       4     14   33"
      ]
     },
     "execution_count": 44,
     "metadata": {},
     "output_type": "execute_result"
    }
   ],
   "source": [
    "brand_attr_df['sum'] = brand_attr_df.sum(axis=1)\n",
    "brand_attr_df.sort_values(by='sum', ascending=False)"
   ]
  },
  {
   "attachments": {},
   "cell_type": "markdown",
   "metadata": {},
   "source": [
    "The attribute that is most strongly associated with the five brands is 'price'. It is the most strongly associated attribute for brand Ford, BMW, and JEEP.\n",
    "\n",
    "Tesla is often mentioned with 'big', while Toyota is most frequently mentioned with 'engine'."
   ]
  },
  {
   "attachments": {},
   "cell_type": "markdown",
   "metadata": {},
   "source": [
    "# E. Identify the most aspirational brand\n",
    "\n",
    "To identify which brands are the most aspirational, I first extracted all the verbs, lemmatized them to present tense, and calculte the frequency counts for each verb.\n",
    "\n",
    "From the top-200 most frequently used verbs, I selected 10+ that people usually use for express their desire on buying/owning a car. "
   ]
  },
  {
   "attachments": {},
   "cell_type": "markdown",
   "metadata": {},
   "source": [
    "### Extract Verbs"
   ]
  },
  {
   "cell_type": "code",
   "execution_count": 45,
   "metadata": {},
   "outputs": [],
   "source": [
    "import spacy\n",
    "nlp = spacy.load('en_core_web_sm')\n",
    "\n",
    "def extract_verb(query):\n",
    "    result = []\n",
    "    doc = nlp(\" \".join(query))\n",
    "    \n",
    "    result = [w for w in doc if w.pos_ == \"VERB\"]\n",
    "    return result"
   ]
  },
  {
   "cell_type": "code",
   "execution_count": 46,
   "metadata": {},
   "outputs": [
    {
     "data": {
      "text/plain": [
       "0    [tested, got, base, end, going, build, sell, b...\n",
       "1    [said, comes, add, use, spend, playing, used, ...\n",
       "2       [said, room, save, fix, concerned, see, agree]\n",
       "3                                                   []\n",
       "4                                                   []\n",
       "Name: aspired, dtype: object"
      ]
     },
     "execution_count": 46,
     "metadata": {},
     "output_type": "execute_result"
    }
   ],
   "source": [
    "comments['aspired'] = [extract_verb(w) for w in comments['cleaned']]\n",
    "comments['aspired'].head()"
   ]
  },
  {
   "attachments": {},
   "cell_type": "markdown",
   "metadata": {},
   "source": [
    "### Lemmatize all the verbs to present tense"
   ]
  },
  {
   "cell_type": "code",
   "execution_count": 47,
   "metadata": {},
   "outputs": [],
   "source": [
    "from nltk.stem import WordNetLemmatizer\n",
    "lemmatizer = WordNetLemmatizer()\n",
    "\n",
    "def lemmatize_verb(query):\n",
    "    result = []\n",
    "\n",
    "    for ele in query:\n",
    "        result.append(lemmatizer.lemmatize(ele.text,'v'))\n",
    "    \n",
    "    return result"
   ]
  },
  {
   "cell_type": "code",
   "execution_count": 48,
   "metadata": {},
   "outputs": [
    {
     "data": {
      "text/plain": [
       "0    [test, get, base, end, go, build, sell, buy, h...\n",
       "1    [say, come, add, use, spend, play, use, figure...\n",
       "2          [say, room, save, fix, concern, see, agree]\n",
       "3                                                   []\n",
       "4                                                   []\n",
       "Name: aspired, dtype: object"
      ]
     },
     "execution_count": 48,
     "metadata": {},
     "output_type": "execute_result"
    }
   ],
   "source": [
    "comments['aspired'] = [lemmatize_verb(w) for w in comments['aspired']]\n",
    "comments['aspired'].head()"
   ]
  },
  {
   "attachments": {},
   "cell_type": "markdown",
   "metadata": {},
   "source": [
    "### Count verb frequency"
   ]
  },
  {
   "cell_type": "code",
   "execution_count": 49,
   "metadata": {},
   "outputs": [],
   "source": [
    "verb_dict = {}\n",
    "\n",
    "for i in range(len(comments)):\n",
    "    terms_in_msg = comments['aspired'][i]\n",
    "    terms_in_msg.sort()\n",
    "\n",
    "    for k in terms_in_msg:\n",
    "        if len(k) > 1:\n",
    "            if k in verb_dict:\n",
    "                verb_dict[k] += 1\n",
    "            else:\n",
    "                verb_dict[k] = 1\n",
    "    \n",
    "verb_dict = dict(sorted(verb_dict.items(), key=lambda x:x[1], reverse=True))"
   ]
  },
  {
   "cell_type": "code",
   "execution_count": 50,
   "metadata": {},
   "outputs": [
    {
     "data": {
      "text/html": [
       "<div>\n",
       "<style scoped>\n",
       "    .dataframe tbody tr th:only-of-type {\n",
       "        vertical-align: middle;\n",
       "    }\n",
       "\n",
       "    .dataframe tbody tr th {\n",
       "        vertical-align: top;\n",
       "    }\n",
       "\n",
       "    .dataframe thead th {\n",
       "        text-align: right;\n",
       "    }\n",
       "</style>\n",
       "<table border=\"1\" class=\"dataframe\">\n",
       "  <thead>\n",
       "    <tr style=\"text-align: right;\">\n",
       "      <th></th>\n",
       "      <th>freq</th>\n",
       "    </tr>\n",
       "    <tr>\n",
       "      <th>verbs</th>\n",
       "      <th></th>\n",
       "    </tr>\n",
       "  </thead>\n",
       "  <tbody>\n",
       "    <tr>\n",
       "      <th>say</th>\n",
       "      <td>12305</td>\n",
       "    </tr>\n",
       "    <tr>\n",
       "      <th>get</th>\n",
       "      <td>6129</td>\n",
       "    </tr>\n",
       "    <tr>\n",
       "      <th>go</th>\n",
       "      <td>4409</td>\n",
       "    </tr>\n",
       "    <tr>\n",
       "      <th>think</th>\n",
       "      <td>3203</td>\n",
       "    </tr>\n",
       "    <tr>\n",
       "      <th>look</th>\n",
       "      <td>2658</td>\n",
       "    </tr>\n",
       "    <tr>\n",
       "      <th>make</th>\n",
       "      <td>2586</td>\n",
       "    </tr>\n",
       "    <tr>\n",
       "      <th>take</th>\n",
       "      <td>2345</td>\n",
       "    </tr>\n",
       "    <tr>\n",
       "      <th>drive</th>\n",
       "      <td>2188</td>\n",
       "    </tr>\n",
       "    <tr>\n",
       "      <th>see</th>\n",
       "      <td>2081</td>\n",
       "    </tr>\n",
       "    <tr>\n",
       "      <th>know</th>\n",
       "      <td>2042</td>\n",
       "    </tr>\n",
       "  </tbody>\n",
       "</table>\n",
       "</div>"
      ],
      "text/plain": [
       "        freq\n",
       "verbs       \n",
       "say    12305\n",
       "get     6129\n",
       "go      4409\n",
       "think   3203\n",
       "look    2658\n",
       "make    2586\n",
       "take    2345\n",
       "drive   2188\n",
       "see     2081\n",
       "know    2042"
      ]
     },
     "execution_count": 50,
     "metadata": {},
     "output_type": "execute_result"
    }
   ],
   "source": [
    "verb_df = pd.DataFrame.from_dict(verb_dict, orient='index', columns=['freq'])\n",
    "verb_df.index.name = 'verbs'\n",
    "verb_df.head(10)"
   ]
  },
  {
   "cell_type": "code",
   "execution_count": 51,
   "metadata": {},
   "outputs": [],
   "source": [
    "verb_df.to_csv('verb_freq.csv')"
   ]
  },
  {
   "attachments": {},
   "cell_type": "markdown",
   "metadata": {},
   "source": [
    "From the top-200 verbs with highest frequency, I selected 10 common verbs that might express people's desire on buying or owning the car."
   ]
  },
  {
   "cell_type": "code",
   "execution_count": 52,
   "metadata": {},
   "outputs": [],
   "source": [
    "aspirational = ['want','buy','need','pay','pick',\n",
    "                'like','love','own','enjoy','prefer']\n"
   ]
  },
  {
   "attachments": {},
   "cell_type": "markdown",
   "metadata": {},
   "source": [
    "### Count brand-desire co-occurrence frequency"
   ]
  },
  {
   "cell_type": "code",
   "execution_count": 53,
   "metadata": {},
   "outputs": [],
   "source": [
    "# Select only top brands\n",
    "mentioned_brands = pd.read_csv(\"mentioned_brands.csv\")\n",
    "\n",
    "most_mentioned_brands = mentioned_brands[mentioned_brands['freq'] >= 100]\n",
    "most_mentioned_brands.shape\n",
    "\n",
    "most_mentioned_brands = most_mentioned_brands['brand'].tolist()"
   ]
  },
  {
   "cell_type": "code",
   "execution_count": 54,
   "metadata": {},
   "outputs": [],
   "source": [
    "# Create an empty dataframe with desire-verb * brands\n",
    "brand_desire_df = pd.DataFrame(0, columns=most_mentioned_brands, index=aspirational)\n",
    "brand_desire_df.head()\n",
    "\n",
    "for i in range(len(comments)):\n",
    "    msg = comments['cleaned'][i]\n",
    "    verbs = comments['aspired'][i]\n",
    "\n",
    "    brands = []\n",
    "    desires = []\n",
    "    for m in msg:\n",
    "        if m in most_mentioned_brands and m not in brands:\n",
    "            brands.append(m)\n",
    "    for v in verbs:\n",
    "        if v in aspirational and v not in desires:\n",
    "            desires.append(v)\n",
    "\n",
    "    for a in desires:\n",
    "        for b in brands:\n",
    "            brand_desire_df.loc[a][b] += 1\n"
   ]
  },
  {
   "cell_type": "code",
   "execution_count": 55,
   "metadata": {},
   "outputs": [
    {
     "data": {
      "text/html": [
       "<div>\n",
       "<style scoped>\n",
       "    .dataframe tbody tr th:only-of-type {\n",
       "        vertical-align: middle;\n",
       "    }\n",
       "\n",
       "    .dataframe tbody tr th {\n",
       "        vertical-align: top;\n",
       "    }\n",
       "\n",
       "    .dataframe thead th {\n",
       "        text-align: right;\n",
       "    }\n",
       "</style>\n",
       "<table border=\"1\" class=\"dataframe\">\n",
       "  <thead>\n",
       "    <tr style=\"text-align: right;\">\n",
       "      <th></th>\n",
       "      <th>ford</th>\n",
       "      <th>bmw</th>\n",
       "      <th>jeep</th>\n",
       "      <th>toyota</th>\n",
       "      <th>honda</th>\n",
       "      <th>audi</th>\n",
       "      <th>tesla</th>\n",
       "      <th>acura</th>\n",
       "      <th>hyundai</th>\n",
       "      <th>nissan</th>\n",
       "      <th>subaru</th>\n",
       "      <th>kia</th>\n",
       "      <th>gm</th>\n",
       "      <th>pilot</th>\n",
       "    </tr>\n",
       "  </thead>\n",
       "  <tbody>\n",
       "    <tr>\n",
       "      <th>want</th>\n",
       "      <td>115</td>\n",
       "      <td>87</td>\n",
       "      <td>48</td>\n",
       "      <td>68</td>\n",
       "      <td>52</td>\n",
       "      <td>61</td>\n",
       "      <td>29</td>\n",
       "      <td>27</td>\n",
       "      <td>64</td>\n",
       "      <td>26</td>\n",
       "      <td>35</td>\n",
       "      <td>30</td>\n",
       "      <td>22</td>\n",
       "      <td>19</td>\n",
       "    </tr>\n",
       "    <tr>\n",
       "      <th>buy</th>\n",
       "      <td>128</td>\n",
       "      <td>90</td>\n",
       "      <td>33</td>\n",
       "      <td>50</td>\n",
       "      <td>45</td>\n",
       "      <td>63</td>\n",
       "      <td>21</td>\n",
       "      <td>28</td>\n",
       "      <td>49</td>\n",
       "      <td>42</td>\n",
       "      <td>24</td>\n",
       "      <td>43</td>\n",
       "      <td>34</td>\n",
       "      <td>20</td>\n",
       "    </tr>\n",
       "    <tr>\n",
       "      <th>need</th>\n",
       "      <td>80</td>\n",
       "      <td>56</td>\n",
       "      <td>66</td>\n",
       "      <td>48</td>\n",
       "      <td>31</td>\n",
       "      <td>60</td>\n",
       "      <td>31</td>\n",
       "      <td>12</td>\n",
       "      <td>29</td>\n",
       "      <td>24</td>\n",
       "      <td>14</td>\n",
       "      <td>20</td>\n",
       "      <td>21</td>\n",
       "      <td>14</td>\n",
       "    </tr>\n",
       "    <tr>\n",
       "      <th>pay</th>\n",
       "      <td>35</td>\n",
       "      <td>35</td>\n",
       "      <td>33</td>\n",
       "      <td>29</td>\n",
       "      <td>19</td>\n",
       "      <td>16</td>\n",
       "      <td>16</td>\n",
       "      <td>10</td>\n",
       "      <td>22</td>\n",
       "      <td>20</td>\n",
       "      <td>11</td>\n",
       "      <td>12</td>\n",
       "      <td>12</td>\n",
       "      <td>13</td>\n",
       "    </tr>\n",
       "    <tr>\n",
       "      <th>pick</th>\n",
       "      <td>30</td>\n",
       "      <td>30</td>\n",
       "      <td>22</td>\n",
       "      <td>29</td>\n",
       "      <td>10</td>\n",
       "      <td>13</td>\n",
       "      <td>7</td>\n",
       "      <td>11</td>\n",
       "      <td>15</td>\n",
       "      <td>5</td>\n",
       "      <td>6</td>\n",
       "      <td>8</td>\n",
       "      <td>9</td>\n",
       "      <td>10</td>\n",
       "    </tr>\n",
       "    <tr>\n",
       "      <th>like</th>\n",
       "      <td>29</td>\n",
       "      <td>35</td>\n",
       "      <td>19</td>\n",
       "      <td>24</td>\n",
       "      <td>15</td>\n",
       "      <td>20</td>\n",
       "      <td>8</td>\n",
       "      <td>13</td>\n",
       "      <td>21</td>\n",
       "      <td>10</td>\n",
       "      <td>8</td>\n",
       "      <td>8</td>\n",
       "      <td>7</td>\n",
       "      <td>12</td>\n",
       "    </tr>\n",
       "    <tr>\n",
       "      <th>love</th>\n",
       "      <td>23</td>\n",
       "      <td>26</td>\n",
       "      <td>12</td>\n",
       "      <td>9</td>\n",
       "      <td>8</td>\n",
       "      <td>12</td>\n",
       "      <td>10</td>\n",
       "      <td>5</td>\n",
       "      <td>26</td>\n",
       "      <td>14</td>\n",
       "      <td>8</td>\n",
       "      <td>8</td>\n",
       "      <td>4</td>\n",
       "      <td>1</td>\n",
       "    </tr>\n",
       "    <tr>\n",
       "      <th>own</th>\n",
       "      <td>15</td>\n",
       "      <td>37</td>\n",
       "      <td>20</td>\n",
       "      <td>16</td>\n",
       "      <td>14</td>\n",
       "      <td>19</td>\n",
       "      <td>16</td>\n",
       "      <td>5</td>\n",
       "      <td>10</td>\n",
       "      <td>7</td>\n",
       "      <td>7</td>\n",
       "      <td>3</td>\n",
       "      <td>5</td>\n",
       "      <td>1</td>\n",
       "    </tr>\n",
       "    <tr>\n",
       "      <th>enjoy</th>\n",
       "      <td>6</td>\n",
       "      <td>13</td>\n",
       "      <td>6</td>\n",
       "      <td>7</td>\n",
       "      <td>10</td>\n",
       "      <td>5</td>\n",
       "      <td>3</td>\n",
       "      <td>1</td>\n",
       "      <td>12</td>\n",
       "      <td>1</td>\n",
       "      <td>2</td>\n",
       "      <td>7</td>\n",
       "      <td>1</td>\n",
       "      <td>2</td>\n",
       "    </tr>\n",
       "    <tr>\n",
       "      <th>prefer</th>\n",
       "      <td>5</td>\n",
       "      <td>17</td>\n",
       "      <td>4</td>\n",
       "      <td>7</td>\n",
       "      <td>10</td>\n",
       "      <td>14</td>\n",
       "      <td>2</td>\n",
       "      <td>8</td>\n",
       "      <td>12</td>\n",
       "      <td>5</td>\n",
       "      <td>2</td>\n",
       "      <td>2</td>\n",
       "      <td>1</td>\n",
       "      <td>1</td>\n",
       "    </tr>\n",
       "  </tbody>\n",
       "</table>\n",
       "</div>"
      ],
      "text/plain": [
       "        ford  bmw  jeep  toyota  honda  audi  tesla  acura  hyundai  nissan  \\\n",
       "want     115   87    48      68     52    61     29     27       64      26   \n",
       "buy      128   90    33      50     45    63     21     28       49      42   \n",
       "need      80   56    66      48     31    60     31     12       29      24   \n",
       "pay       35   35    33      29     19    16     16     10       22      20   \n",
       "pick      30   30    22      29     10    13      7     11       15       5   \n",
       "like      29   35    19      24     15    20      8     13       21      10   \n",
       "love      23   26    12       9      8    12     10      5       26      14   \n",
       "own       15   37    20      16     14    19     16      5       10       7   \n",
       "enjoy      6   13     6       7     10     5      3      1       12       1   \n",
       "prefer     5   17     4       7     10    14      2      8       12       5   \n",
       "\n",
       "        subaru  kia  gm  pilot  \n",
       "want        35   30  22     19  \n",
       "buy         24   43  34     20  \n",
       "need        14   20  21     14  \n",
       "pay         11   12  12     13  \n",
       "pick         6    8   9     10  \n",
       "like         8    8   7     12  \n",
       "love         8    8   4      1  \n",
       "own          7    3   5      1  \n",
       "enjoy        2    7   1      2  \n",
       "prefer       2    2   1      1  "
      ]
     },
     "execution_count": 55,
     "metadata": {},
     "output_type": "execute_result"
    }
   ],
   "source": [
    "brand_desire_df"
   ]
  },
  {
   "attachments": {},
   "cell_type": "markdown",
   "metadata": {},
   "source": [
    "Based on the count frequency, in the year of 2022, Ford appears to be the most aspirational car brand in chronic buyers' selection."
   ]
  },
  {
   "attachments": {},
   "cell_type": "markdown",
   "metadata": {},
   "source": [
    "Another way to interpret the result is to normalize it by dividing the count of co-occurrence by the brand occurrence frequency, which eliminates the impact of popularity on certain brands, but focus more on the porportion of the people that are interested in buying the car (when they talk about it)"
   ]
  },
  {
   "cell_type": "code",
   "execution_count": 56,
   "metadata": {},
   "outputs": [
    {
     "data": {
      "text/html": [
       "<div>\n",
       "<style scoped>\n",
       "    .dataframe tbody tr th:only-of-type {\n",
       "        vertical-align: middle;\n",
       "    }\n",
       "\n",
       "    .dataframe tbody tr th {\n",
       "        vertical-align: top;\n",
       "    }\n",
       "\n",
       "    .dataframe thead th {\n",
       "        text-align: right;\n",
       "    }\n",
       "</style>\n",
       "<table border=\"1\" class=\"dataframe\">\n",
       "  <thead>\n",
       "    <tr style=\"text-align: right;\">\n",
       "      <th></th>\n",
       "      <th>ford</th>\n",
       "      <th>bmw</th>\n",
       "      <th>jeep</th>\n",
       "      <th>toyota</th>\n",
       "      <th>honda</th>\n",
       "      <th>audi</th>\n",
       "      <th>tesla</th>\n",
       "      <th>acura</th>\n",
       "      <th>hyundai</th>\n",
       "      <th>nissan</th>\n",
       "      <th>subaru</th>\n",
       "      <th>kia</th>\n",
       "      <th>gm</th>\n",
       "      <th>pilot</th>\n",
       "    </tr>\n",
       "  </thead>\n",
       "  <tbody>\n",
       "    <tr>\n",
       "      <th>want</th>\n",
       "      <td>0.200</td>\n",
       "      <td>0.189</td>\n",
       "      <td>0.138</td>\n",
       "      <td>0.215</td>\n",
       "      <td>0.192</td>\n",
       "      <td>0.235</td>\n",
       "      <td>0.135</td>\n",
       "      <td>0.133</td>\n",
       "      <td>0.328</td>\n",
       "      <td>0.160</td>\n",
       "      <td>0.257</td>\n",
       "      <td>0.238</td>\n",
       "      <td>0.190</td>\n",
       "      <td>0.186</td>\n",
       "    </tr>\n",
       "    <tr>\n",
       "      <th>buy</th>\n",
       "      <td>0.223</td>\n",
       "      <td>0.195</td>\n",
       "      <td>0.095</td>\n",
       "      <td>0.158</td>\n",
       "      <td>0.166</td>\n",
       "      <td>0.242</td>\n",
       "      <td>0.098</td>\n",
       "      <td>0.138</td>\n",
       "      <td>0.251</td>\n",
       "      <td>0.258</td>\n",
       "      <td>0.176</td>\n",
       "      <td>0.341</td>\n",
       "      <td>0.293</td>\n",
       "      <td>0.196</td>\n",
       "    </tr>\n",
       "    <tr>\n",
       "      <th>need</th>\n",
       "      <td>0.139</td>\n",
       "      <td>0.121</td>\n",
       "      <td>0.190</td>\n",
       "      <td>0.151</td>\n",
       "      <td>0.114</td>\n",
       "      <td>0.231</td>\n",
       "      <td>0.144</td>\n",
       "      <td>0.059</td>\n",
       "      <td>0.149</td>\n",
       "      <td>0.147</td>\n",
       "      <td>0.103</td>\n",
       "      <td>0.159</td>\n",
       "      <td>0.181</td>\n",
       "      <td>0.137</td>\n",
       "    </tr>\n",
       "    <tr>\n",
       "      <th>pay</th>\n",
       "      <td>0.061</td>\n",
       "      <td>0.076</td>\n",
       "      <td>0.095</td>\n",
       "      <td>0.091</td>\n",
       "      <td>0.070</td>\n",
       "      <td>0.062</td>\n",
       "      <td>0.074</td>\n",
       "      <td>0.049</td>\n",
       "      <td>0.113</td>\n",
       "      <td>0.123</td>\n",
       "      <td>0.081</td>\n",
       "      <td>0.095</td>\n",
       "      <td>0.103</td>\n",
       "      <td>0.127</td>\n",
       "    </tr>\n",
       "    <tr>\n",
       "      <th>pick</th>\n",
       "      <td>0.052</td>\n",
       "      <td>0.065</td>\n",
       "      <td>0.063</td>\n",
       "      <td>0.091</td>\n",
       "      <td>0.037</td>\n",
       "      <td>0.050</td>\n",
       "      <td>0.033</td>\n",
       "      <td>0.054</td>\n",
       "      <td>0.077</td>\n",
       "      <td>0.031</td>\n",
       "      <td>0.044</td>\n",
       "      <td>0.063</td>\n",
       "      <td>0.078</td>\n",
       "      <td>0.098</td>\n",
       "    </tr>\n",
       "    <tr>\n",
       "      <th>like</th>\n",
       "      <td>0.050</td>\n",
       "      <td>0.076</td>\n",
       "      <td>0.055</td>\n",
       "      <td>0.076</td>\n",
       "      <td>0.055</td>\n",
       "      <td>0.077</td>\n",
       "      <td>0.037</td>\n",
       "      <td>0.064</td>\n",
       "      <td>0.108</td>\n",
       "      <td>0.061</td>\n",
       "      <td>0.059</td>\n",
       "      <td>0.063</td>\n",
       "      <td>0.060</td>\n",
       "      <td>0.118</td>\n",
       "    </tr>\n",
       "    <tr>\n",
       "      <th>love</th>\n",
       "      <td>0.040</td>\n",
       "      <td>0.056</td>\n",
       "      <td>0.035</td>\n",
       "      <td>0.028</td>\n",
       "      <td>0.030</td>\n",
       "      <td>0.046</td>\n",
       "      <td>0.047</td>\n",
       "      <td>0.025</td>\n",
       "      <td>0.133</td>\n",
       "      <td>0.086</td>\n",
       "      <td>0.059</td>\n",
       "      <td>0.063</td>\n",
       "      <td>0.034</td>\n",
       "      <td>0.010</td>\n",
       "    </tr>\n",
       "    <tr>\n",
       "      <th>own</th>\n",
       "      <td>0.026</td>\n",
       "      <td>0.080</td>\n",
       "      <td>0.058</td>\n",
       "      <td>0.050</td>\n",
       "      <td>0.052</td>\n",
       "      <td>0.073</td>\n",
       "      <td>0.074</td>\n",
       "      <td>0.025</td>\n",
       "      <td>0.051</td>\n",
       "      <td>0.043</td>\n",
       "      <td>0.051</td>\n",
       "      <td>0.024</td>\n",
       "      <td>0.043</td>\n",
       "      <td>0.010</td>\n",
       "    </tr>\n",
       "    <tr>\n",
       "      <th>enjoy</th>\n",
       "      <td>0.010</td>\n",
       "      <td>0.028</td>\n",
       "      <td>0.017</td>\n",
       "      <td>0.022</td>\n",
       "      <td>0.037</td>\n",
       "      <td>0.019</td>\n",
       "      <td>0.014</td>\n",
       "      <td>0.005</td>\n",
       "      <td>0.062</td>\n",
       "      <td>0.006</td>\n",
       "      <td>0.015</td>\n",
       "      <td>0.056</td>\n",
       "      <td>0.009</td>\n",
       "      <td>0.020</td>\n",
       "    </tr>\n",
       "    <tr>\n",
       "      <th>prefer</th>\n",
       "      <td>0.009</td>\n",
       "      <td>0.037</td>\n",
       "      <td>0.012</td>\n",
       "      <td>0.022</td>\n",
       "      <td>0.037</td>\n",
       "      <td>0.054</td>\n",
       "      <td>0.009</td>\n",
       "      <td>0.039</td>\n",
       "      <td>0.062</td>\n",
       "      <td>0.031</td>\n",
       "      <td>0.015</td>\n",
       "      <td>0.016</td>\n",
       "      <td>0.009</td>\n",
       "      <td>0.010</td>\n",
       "    </tr>\n",
       "  </tbody>\n",
       "</table>\n",
       "</div>"
      ],
      "text/plain": [
       "         ford    bmw   jeep  toyota  honda   audi  tesla  acura  hyundai  \\\n",
       "want    0.200  0.189  0.138   0.215  0.192  0.235  0.135  0.133    0.328   \n",
       "buy     0.223  0.195  0.095   0.158  0.166  0.242  0.098  0.138    0.251   \n",
       "need    0.139  0.121  0.190   0.151  0.114  0.231  0.144  0.059    0.149   \n",
       "pay     0.061  0.076  0.095   0.091  0.070  0.062  0.074  0.049    0.113   \n",
       "pick    0.052  0.065  0.063   0.091  0.037  0.050  0.033  0.054    0.077   \n",
       "like    0.050  0.076  0.055   0.076  0.055  0.077  0.037  0.064    0.108   \n",
       "love    0.040  0.056  0.035   0.028  0.030  0.046  0.047  0.025    0.133   \n",
       "own     0.026  0.080  0.058   0.050  0.052  0.073  0.074  0.025    0.051   \n",
       "enjoy   0.010  0.028  0.017   0.022  0.037  0.019  0.014  0.005    0.062   \n",
       "prefer  0.009  0.037  0.012   0.022  0.037  0.054  0.009  0.039    0.062   \n",
       "\n",
       "        nissan  subaru    kia     gm  pilot  \n",
       "want     0.160   0.257  0.238  0.190  0.186  \n",
       "buy      0.258   0.176  0.341  0.293  0.196  \n",
       "need     0.147   0.103  0.159  0.181  0.137  \n",
       "pay      0.123   0.081  0.095  0.103  0.127  \n",
       "pick     0.031   0.044  0.063  0.078  0.098  \n",
       "like     0.061   0.059  0.063  0.060  0.118  \n",
       "love     0.086   0.059  0.063  0.034  0.010  \n",
       "own      0.043   0.051  0.024  0.043  0.010  \n",
       "enjoy    0.006   0.015  0.056  0.009  0.020  \n",
       "prefer   0.031   0.015  0.016  0.009  0.010  "
      ]
     },
     "execution_count": 56,
     "metadata": {},
     "output_type": "execute_result"
    }
   ],
   "source": [
    "# Normalize the count\n",
    "for brand in most_mentioned_brands:\n",
    "    freq = mentioned_brands['freq'][mentioned_brands['brand'] == brand]\n",
    "    brand_desire_df[brand] = round(brand_desire_df[brand]/ int(freq),3)\n",
    "\n",
    "brand_desire_df"
   ]
  },
  {
   "attachments": {},
   "cell_type": "markdown",
   "metadata": {},
   "source": [
    "# Conclusion\n",
    "\n",
    "In 2022, Ford, BMW, Jeep, Toyota, and Honda were the most common brands people talked about. \n",
    "\n",
    "Acura and Honda have the highest co-mentioned count of 66. Resource shows that Honda is actually the parent company of Acura. While Honda and Toyota have been well-known competitors in the automobile industry for years, and they both come from Japan. Hyundai and KIA, as the third pair, also come from the same country, which in some way explains why people always discuss them together.\n",
    "\n",
    "In terms of attributes, price is the most important factor that people care about, followed by \"engine\" and if the car is \"big\" or not. \n",
    "\n",
    "Last, among all the manufacturers, Ford appeared to be the most popular brand in 2022. The different analyzing method shows that people also have a solid aspiration to buy Hyundai, KIA, and Audi."
   ]
  }
 ],
 "metadata": {
  "kernelspec": {
   "display_name": "Python 3",
   "language": "python",
   "name": "python3"
  },
  "language_info": {
   "codemirror_mode": {
    "name": "ipython",
    "version": 3
   },
   "file_extension": ".py",
   "mimetype": "text/x-python",
   "name": "python",
   "nbconvert_exporter": "python",
   "pygments_lexer": "ipython3",
   "version": "3.10.8"
  },
  "orig_nbformat": 4,
  "vscode": {
   "interpreter": {
    "hash": "eb8d3085d426e5e8dee3252ffbadecffc2a8c816985f9d79249a1de42c265c0a"
   }
  }
 },
 "nbformat": 4,
 "nbformat_minor": 2
}
