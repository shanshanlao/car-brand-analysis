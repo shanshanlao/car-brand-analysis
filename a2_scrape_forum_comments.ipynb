{
 "cells": [
  {
   "attachments": {},
   "cell_type": "markdown",
   "metadata": {},
   "source": [
    "### Script Purpose\n",
    "\n",
    "- Collect ~5000 or more messages posted in Edmunds.com discussion forums on cars.\n",
    "- Present the results in a clean .csv file with three columns: date, userid and message. \n",
    "\n",
    "https://forums.edmunds.com/discussion/4011/general/x/chronic-car-buyers-anonymous"
   ]
  },
  {
   "cell_type": "code",
   "execution_count": 1,
   "metadata": {},
   "outputs": [],
   "source": [
    "import requests\n",
    "import time\n",
    "from bs4 import BeautifulSoup\n",
    "\n",
    "import pandas as pd"
   ]
  },
  {
   "cell_type": "code",
   "execution_count": 2,
   "metadata": {},
   "outputs": [],
   "source": [
    "# User-defined function for Scraping the data\n",
    "\n",
    "def getData(url):\n",
    "    page = requests.get(url, headers = {'My-Header':'value'})\n",
    "    return page.text"
   ]
  },
  {
   "cell_type": "code",
   "execution_count": 3,
   "metadata": {},
   "outputs": [
    {
     "data": {
      "text/html": [
       "<div>\n",
       "<style scoped>\n",
       "    .dataframe tbody tr th:only-of-type {\n",
       "        vertical-align: middle;\n",
       "    }\n",
       "\n",
       "    .dataframe tbody tr th {\n",
       "        vertical-align: top;\n",
       "    }\n",
       "\n",
       "    .dataframe thead th {\n",
       "        text-align: right;\n",
       "    }\n",
       "</style>\n",
       "<table border=\"1\" class=\"dataframe\">\n",
       "  <thead>\n",
       "    <tr style=\"text-align: right;\">\n",
       "      <th></th>\n",
       "      <th>date</th>\n",
       "      <th>user_id</th>\n",
       "      <th>message</th>\n",
       "    </tr>\n",
       "  </thead>\n",
       "  <tbody>\n",
       "    <tr>\n",
       "      <th>0</th>\n",
       "      <td>November 30, 2021 10:59AM</td>\n",
       "      <td>stickguy</td>\n",
       "      <td>\\nJust watched this. Seems like GTI is better ...</td>\n",
       "    </tr>\n",
       "    <tr>\n",
       "      <th>1</th>\n",
       "      <td>November 30, 2021 11:09AM</td>\n",
       "      <td>explorerx4</td>\n",
       "      <td>\\nStickguy,Did you see the video of TFL testin...</td>\n",
       "    </tr>\n",
       "    <tr>\n",
       "      <th>2</th>\n",
       "      <td>November 30, 2021 11:14AM</td>\n",
       "      <td>oldfarmer50</td>\n",
       "      <td>\\nqbrozen said: kyfdx said: qbrozen said:wonde...</td>\n",
       "    </tr>\n",
       "    <tr>\n",
       "      <th>3</th>\n",
       "      <td>November 30, 2021 11:16AM</td>\n",
       "      <td>tjc78</td>\n",
       "      <td>\\nLooking at the Lexus deal, I wonder it I wou...</td>\n",
       "    </tr>\n",
       "    <tr>\n",
       "      <th>4</th>\n",
       "      <td>November 30, 2021 11:17AM</td>\n",
       "      <td>oldfarmer50</td>\n",
       "      <td>\\nstickguy said:Beautiful example of one of th...</td>\n",
       "    </tr>\n",
       "  </tbody>\n",
       "</table>\n",
       "</div>"
      ],
      "text/plain": [
       "                        date      user_id  \\\n",
       "0  November 30, 2021 10:59AM     stickguy   \n",
       "1  November 30, 2021 11:09AM   explorerx4   \n",
       "2  November 30, 2021 11:14AM  oldfarmer50   \n",
       "3  November 30, 2021 11:16AM        tjc78   \n",
       "4  November 30, 2021 11:17AM  oldfarmer50   \n",
       "\n",
       "                                             message  \n",
       "0  \\nJust watched this. Seems like GTI is better ...  \n",
       "1  \\nStickguy,Did you see the video of TFL testin...  \n",
       "2  \\nqbrozen said: kyfdx said: qbrozen said:wonde...  \n",
       "3  \\nLooking at the Lexus deal, I wonder it I wou...  \n",
       "4  \\nstickguy said:Beautiful example of one of th...  "
      ]
     },
     "execution_count": 3,
     "metadata": {},
     "output_type": "execute_result"
    }
   ],
   "source": [
    "# Scrape all the pages\n",
    "\n",
    "url = \"https://forums.edmunds.com/discussion/4011/general/x/chronic-car-buyers-anonymous/p\"\n",
    "\n",
    "authors = []\n",
    "messages = []\n",
    "dates = []\n",
    "\n",
    "# Extract recent comments\n",
    "for page in range(2560,2860): \n",
    "\n",
    "    # First extract the page\n",
    "    page_url = url + str(page)\n",
    "    soup = BeautifulSoup(getData(page_url), 'html.parser')\n",
    "\n",
    "    # In each page, scrape the comments\n",
    "    # Each comment: <div class=\"Comment\">\n",
    "        # Author: <span class=\"Author\"> <a title=\"userid\">\n",
    "        # Date: <span class=\"MItem DateCreated\"> <time title= >\n",
    "        # Message: <div class=\"Message userContent\">\n",
    "\n",
    "    comments = soup.find_all('div',class_ = 'Comment')\n",
    "\n",
    "    for comment in comments:\n",
    "        a_tag = comment.find(\"a\", class_=\"Username js-userCard\")\n",
    "        if a_tag:\n",
    "            authors.append(a_tag.text)\n",
    "\n",
    "        t_tag = comment.find(\"time\")\n",
    "        if t_tag:\n",
    "            dates.append(t_tag['title'])\n",
    "\n",
    "        m_tag = comment.find('div', class_=\"Message userContent\")\n",
    "        if m_tag:\n",
    "            messages.append(m_tag.text)\n",
    "    \n",
    "comments = pd.DataFrame(list(zip(dates,authors,messages)), columns = ['date','user_id','message'])\n",
    "comments.head()\n"
   ]
  },
  {
   "cell_type": "code",
   "execution_count": 4,
   "metadata": {},
   "outputs": [
    {
     "data": {
      "text/html": [
       "<div>\n",
       "<style scoped>\n",
       "    .dataframe tbody tr th:only-of-type {\n",
       "        vertical-align: middle;\n",
       "    }\n",
       "\n",
       "    .dataframe tbody tr th {\n",
       "        vertical-align: top;\n",
       "    }\n",
       "\n",
       "    .dataframe thead th {\n",
       "        text-align: right;\n",
       "    }\n",
       "</style>\n",
       "<table border=\"1\" class=\"dataframe\">\n",
       "  <thead>\n",
       "    <tr style=\"text-align: right;\">\n",
       "      <th></th>\n",
       "      <th>date</th>\n",
       "      <th>user_id</th>\n",
       "      <th>message</th>\n",
       "    </tr>\n",
       "  </thead>\n",
       "  <tbody>\n",
       "    <tr>\n",
       "      <th>0</th>\n",
       "      <td>November 30, 2021 10:59AM</td>\n",
       "      <td>stickguy</td>\n",
       "      <td>\\nJust watched this. Seems like GTI is better ...</td>\n",
       "    </tr>\n",
       "    <tr>\n",
       "      <th>1</th>\n",
       "      <td>November 30, 2021 11:09AM</td>\n",
       "      <td>explorerx4</td>\n",
       "      <td>\\nStickguy,Did you see the video of TFL testin...</td>\n",
       "    </tr>\n",
       "    <tr>\n",
       "      <th>2</th>\n",
       "      <td>November 30, 2021 11:14AM</td>\n",
       "      <td>oldfarmer50</td>\n",
       "      <td>\\nqbrozen said: kyfdx said: qbrozen said:wonde...</td>\n",
       "    </tr>\n",
       "    <tr>\n",
       "      <th>3</th>\n",
       "      <td>November 30, 2021 11:16AM</td>\n",
       "      <td>tjc78</td>\n",
       "      <td>\\nLooking at the Lexus deal, I wonder it I wou...</td>\n",
       "    </tr>\n",
       "    <tr>\n",
       "      <th>4</th>\n",
       "      <td>November 30, 2021 11:17AM</td>\n",
       "      <td>oldfarmer50</td>\n",
       "      <td>\\nstickguy said:Beautiful example of one of th...</td>\n",
       "    </tr>\n",
       "  </tbody>\n",
       "</table>\n",
       "</div>"
      ],
      "text/plain": [
       "                        date      user_id  \\\n",
       "0  November 30, 2021 10:59AM     stickguy   \n",
       "1  November 30, 2021 11:09AM   explorerx4   \n",
       "2  November 30, 2021 11:14AM  oldfarmer50   \n",
       "3  November 30, 2021 11:16AM        tjc78   \n",
       "4  November 30, 2021 11:17AM  oldfarmer50   \n",
       "\n",
       "                                             message  \n",
       "0  \\nJust watched this. Seems like GTI is better ...  \n",
       "1  \\nStickguy,Did you see the video of TFL testin...  \n",
       "2  \\nqbrozen said: kyfdx said: qbrozen said:wonde...  \n",
       "3  \\nLooking at the Lexus deal, I wonder it I wou...  \n",
       "4  \\nstickguy said:Beautiful example of one of th...  "
      ]
     },
     "execution_count": 4,
     "metadata": {},
     "output_type": "execute_result"
    }
   ],
   "source": [
    "comments = pd.DataFrame(list(zip(dates,authors,messages)), columns = ['date','user_id','message'])\n",
    "comments.head()"
   ]
  },
  {
   "cell_type": "code",
   "execution_count": 5,
   "metadata": {},
   "outputs": [
    {
     "data": {
      "text/html": [
       "<div>\n",
       "<style scoped>\n",
       "    .dataframe tbody tr th:only-of-type {\n",
       "        vertical-align: middle;\n",
       "    }\n",
       "\n",
       "    .dataframe tbody tr th {\n",
       "        vertical-align: top;\n",
       "    }\n",
       "\n",
       "    .dataframe thead th {\n",
       "        text-align: right;\n",
       "    }\n",
       "</style>\n",
       "<table border=\"1\" class=\"dataframe\">\n",
       "  <thead>\n",
       "    <tr style=\"text-align: right;\">\n",
       "      <th></th>\n",
       "      <th>date</th>\n",
       "      <th>user_id</th>\n",
       "      <th>message</th>\n",
       "    </tr>\n",
       "  </thead>\n",
       "  <tbody>\n",
       "    <tr>\n",
       "      <th>1380</th>\n",
       "      <td>2022-01-01 03:53:00</td>\n",
       "      <td>benjaminh</td>\n",
       "      <td>\\nAlthough the acceleration times in most car ...</td>\n",
       "    </tr>\n",
       "    <tr>\n",
       "      <th>1381</th>\n",
       "      <td>2022-01-01 03:57:00</td>\n",
       "      <td>tjc78</td>\n",
       "      <td>\\n\\n@stickguy said:\\nXM only comes on it if yo...</td>\n",
       "    </tr>\n",
       "    <tr>\n",
       "      <th>1382</th>\n",
       "      <td>2022-01-01 04:08:00</td>\n",
       "      <td>tjc78</td>\n",
       "      <td>\\n\\n@qbrozen said:\\nI don’t have the room for ...</td>\n",
       "    </tr>\n",
       "    <tr>\n",
       "      <th>1383</th>\n",
       "      <td>2022-01-01 04:48:00</td>\n",
       "      <td>graphicguy</td>\n",
       "      <td>\\nCongrats @stickguy ……very cool!</td>\n",
       "    </tr>\n",
       "    <tr>\n",
       "      <th>1384</th>\n",
       "      <td>2022-01-01 06:03:00</td>\n",
       "      <td>au1994</td>\n",
       "      <td>\\nHappy New Year all!Congrats @stickguy. I rea...</td>\n",
       "    </tr>\n",
       "  </tbody>\n",
       "</table>\n",
       "</div>"
      ],
      "text/plain": [
       "                    date     user_id  \\\n",
       "1380 2022-01-01 03:53:00   benjaminh   \n",
       "1381 2022-01-01 03:57:00       tjc78   \n",
       "1382 2022-01-01 04:08:00       tjc78   \n",
       "1383 2022-01-01 04:48:00  graphicguy   \n",
       "1384 2022-01-01 06:03:00      au1994   \n",
       "\n",
       "                                                message  \n",
       "1380  \\nAlthough the acceleration times in most car ...  \n",
       "1381  \\n\\n@stickguy said:\\nXM only comes on it if yo...  \n",
       "1382  \\n\\n@qbrozen said:\\nI don’t have the room for ...  \n",
       "1383                 \\nCongrats @stickguy ……very cool!   \n",
       "1384  \\nHappy New Year all!Congrats @stickguy. I rea...  "
      ]
     },
     "execution_count": 5,
     "metadata": {},
     "output_type": "execute_result"
    }
   ],
   "source": [
    "# Extract only 2022 data\n",
    "comments['date'] = pd.to_datetime(comments['date']) \n",
    "\n",
    "comments = comments[ (comments['date'] >= pd.Timestamp(2022,1,1)) & (comments['date'] < pd.Timestamp(2023,1,1))]\n",
    "\n",
    "comments.head()"
   ]
  },
  {
   "cell_type": "code",
   "execution_count": 6,
   "metadata": {},
   "outputs": [
    {
     "data": {
      "text/plain": [
       "(13503, 3)"
      ]
     },
     "execution_count": 6,
     "metadata": {},
     "output_type": "execute_result"
    }
   ],
   "source": [
    "comments.shape"
   ]
  },
  {
   "cell_type": "code",
   "execution_count": 7,
   "metadata": {},
   "outputs": [],
   "source": [
    "comments.to_csv('forum_comments_2022.csv', index=False)\n"
   ]
  }
 ],
 "metadata": {
  "kernelspec": {
   "display_name": "Python 3",
   "language": "python",
   "name": "python3"
  },
  "language_info": {
   "codemirror_mode": {
    "name": "ipython",
    "version": 3
   },
   "file_extension": ".py",
   "mimetype": "text/x-python",
   "name": "python",
   "nbconvert_exporter": "python",
   "pygments_lexer": "ipython3",
   "version": "3.10.8"
  },
  "orig_nbformat": 4,
  "vscode": {
   "interpreter": {
    "hash": "eb8d3085d426e5e8dee3252ffbadecffc2a8c816985f9d79249a1de42c265c0a"
   }
  }
 },
 "nbformat": 4,
 "nbformat_minor": 2
}
