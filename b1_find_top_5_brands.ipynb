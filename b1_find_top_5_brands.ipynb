{
 "cells": [
  {
   "attachments": {},
   "cell_type": "markdown",
   "metadata": {},
   "source": [
    "### Script Purpose\n",
    "\n",
    "Find the top-5 brands from the forum messages by calculating frequency counts. \n",
    "\n",
    "For each brand, the mention is counted only once per post."
   ]
  },
  {
   "cell_type": "code",
   "execution_count": 1,
   "metadata": {},
   "outputs": [],
   "source": [
    "import pandas as pd\n",
    "import datetime"
   ]
  },
  {
   "cell_type": "code",
   "execution_count": 2,
   "metadata": {},
   "outputs": [
    {
     "data": {
      "text/html": [
       "<div>\n",
       "<style scoped>\n",
       "    .dataframe tbody tr th:only-of-type {\n",
       "        vertical-align: middle;\n",
       "    }\n",
       "\n",
       "    .dataframe tbody tr th {\n",
       "        vertical-align: top;\n",
       "    }\n",
       "\n",
       "    .dataframe thead th {\n",
       "        text-align: right;\n",
       "    }\n",
       "</style>\n",
       "<table border=\"1\" class=\"dataframe\">\n",
       "  <thead>\n",
       "    <tr style=\"text-align: right;\">\n",
       "      <th></th>\n",
       "      <th>date</th>\n",
       "      <th>user_id</th>\n",
       "      <th>message</th>\n",
       "    </tr>\n",
       "  </thead>\n",
       "  <tbody>\n",
       "    <tr>\n",
       "      <th>0</th>\n",
       "      <td>November 30, 2021 10:59AM</td>\n",
       "      <td>stickguy</td>\n",
       "      <td>\\nJust watched this. Seems like GTI is better ...</td>\n",
       "    </tr>\n",
       "    <tr>\n",
       "      <th>1</th>\n",
       "      <td>November 30, 2021 11:09AM</td>\n",
       "      <td>explorerx4</td>\n",
       "      <td>\\nStickguy,Did you see the video of TFL testin...</td>\n",
       "    </tr>\n",
       "    <tr>\n",
       "      <th>2</th>\n",
       "      <td>November 30, 2021 11:14AM</td>\n",
       "      <td>oldfarmer50</td>\n",
       "      <td>\\nqbrozen said: kyfdx said: qbrozen said:wonde...</td>\n",
       "    </tr>\n",
       "    <tr>\n",
       "      <th>3</th>\n",
       "      <td>November 30, 2021 11:16AM</td>\n",
       "      <td>tjc78</td>\n",
       "      <td>\\nLooking at the Lexus deal, I wonder it I wou...</td>\n",
       "    </tr>\n",
       "    <tr>\n",
       "      <th>4</th>\n",
       "      <td>November 30, 2021 11:17AM</td>\n",
       "      <td>oldfarmer50</td>\n",
       "      <td>\\nstickguy said:Beautiful example of one of th...</td>\n",
       "    </tr>\n",
       "  </tbody>\n",
       "</table>\n",
       "</div>"
      ],
      "text/plain": [
       "                        date      user_id  \\\n",
       "0  November 30, 2021 10:59AM     stickguy   \n",
       "1  November 30, 2021 11:09AM   explorerx4   \n",
       "2  November 30, 2021 11:14AM  oldfarmer50   \n",
       "3  November 30, 2021 11:16AM        tjc78   \n",
       "4  November 30, 2021 11:17AM  oldfarmer50   \n",
       "\n",
       "                                             message  \n",
       "0  \\nJust watched this. Seems like GTI is better ...  \n",
       "1  \\nStickguy,Did you see the video of TFL testin...  \n",
       "2  \\nqbrozen said: kyfdx said: qbrozen said:wonde...  \n",
       "3  \\nLooking at the Lexus deal, I wonder it I wou...  \n",
       "4  \\nstickguy said:Beautiful example of one of th...  "
      ]
     },
     "execution_count": 2,
     "metadata": {},
     "output_type": "execute_result"
    }
   ],
   "source": [
    "comments = pd.read_csv('forum_comments_2022.csv')\n",
    "comments.head()"
   ]
  },
  {
   "cell_type": "code",
   "execution_count": 79,
   "metadata": {},
   "outputs": [
    {
     "data": {
      "text/html": [
       "<div>\n",
       "<style scoped>\n",
       "    .dataframe tbody tr th:only-of-type {\n",
       "        vertical-align: middle;\n",
       "    }\n",
       "\n",
       "    .dataframe tbody tr th {\n",
       "        vertical-align: top;\n",
       "    }\n",
       "\n",
       "    .dataframe thead th {\n",
       "        text-align: right;\n",
       "    }\n",
       "</style>\n",
       "<table border=\"1\" class=\"dataframe\">\n",
       "  <thead>\n",
       "    <tr style=\"text-align: right;\">\n",
       "      <th></th>\n",
       "      <th>date</th>\n",
       "      <th>user_id</th>\n",
       "      <th>message</th>\n",
       "    </tr>\n",
       "  </thead>\n",
       "  <tbody>\n",
       "    <tr>\n",
       "      <th>1380</th>\n",
       "      <td>2022-01-01 03:53:00</td>\n",
       "      <td>benjaminh</td>\n",
       "      <td>\\nAlthough the acceleration times in most car ...</td>\n",
       "    </tr>\n",
       "    <tr>\n",
       "      <th>1381</th>\n",
       "      <td>2022-01-01 03:57:00</td>\n",
       "      <td>tjc78</td>\n",
       "      <td>\\n\\n@stickguy said:\\nXM only comes on it if yo...</td>\n",
       "    </tr>\n",
       "    <tr>\n",
       "      <th>1382</th>\n",
       "      <td>2022-01-01 04:08:00</td>\n",
       "      <td>tjc78</td>\n",
       "      <td>\\n\\n@qbrozen said:\\nI don’t have the room for ...</td>\n",
       "    </tr>\n",
       "    <tr>\n",
       "      <th>1383</th>\n",
       "      <td>2022-01-01 04:48:00</td>\n",
       "      <td>graphicguy</td>\n",
       "      <td>\\nCongrats @stickguy ……very cool!</td>\n",
       "    </tr>\n",
       "    <tr>\n",
       "      <th>1384</th>\n",
       "      <td>2022-01-01 06:03:00</td>\n",
       "      <td>au1994</td>\n",
       "      <td>\\nHappy New Year all!Congrats @stickguy. I rea...</td>\n",
       "    </tr>\n",
       "  </tbody>\n",
       "</table>\n",
       "</div>"
      ],
      "text/plain": [
       "                    date     user_id  \\\n",
       "1380 2022-01-01 03:53:00   benjaminh   \n",
       "1381 2022-01-01 03:57:00       tjc78   \n",
       "1382 2022-01-01 04:08:00       tjc78   \n",
       "1383 2022-01-01 04:48:00  graphicguy   \n",
       "1384 2022-01-01 06:03:00      au1994   \n",
       "\n",
       "                                                message  \n",
       "1380  \\nAlthough the acceleration times in most car ...  \n",
       "1381  \\n\\n@stickguy said:\\nXM only comes on it if yo...  \n",
       "1382  \\n\\n@qbrozen said:\\nI don’t have the room for ...  \n",
       "1383                 \\nCongrats @stickguy ……very cool!   \n",
       "1384  \\nHappy New Year all!Congrats @stickguy. I rea...  "
      ]
     },
     "execution_count": 79,
     "metadata": {},
     "output_type": "execute_result"
    }
   ],
   "source": [
    "# Extract only 2022 data\n",
    "comments['date'] = pd.to_datetime(comments['date']) \n",
    "\n",
    "comments = comments[ (comments['date'] >= pd.Timestamp(2022,1,1)) & (comments['date'] < pd.Timestamp(2023,1,1))]\n",
    "\n",
    "comments.head()"
   ]
  },
  {
   "cell_type": "code",
   "execution_count": 84,
   "metadata": {},
   "outputs": [
    {
     "data": {
      "text/plain": [
       "13503"
      ]
     },
     "execution_count": 84,
     "metadata": {},
     "output_type": "execute_result"
    }
   ],
   "source": [
    "len(comments)"
   ]
  },
  {
   "cell_type": "code",
   "execution_count": 80,
   "metadata": {},
   "outputs": [
    {
     "data": {
      "text/plain": [
       "['\\nAlthough the acceleration times in most car magazines are somewhat bogus, they are still useful for comparison. Anyway, Car and Driver has just tested a Maverick 2.0 awd, and they got a 0-60 time of 5.9, which is not that far from a base BMW 330i at 5.6. Anyway, for the money the Maverick is a fast vehicle.https://www.caranddriver.com/reviews/a38516737/2022-ford-maverick-xlt-fx4-by-the-numbers/stickguy: Did you end up going for the 0% financing? If so, those payments of c. 750 a month are steep, but the equity will obviously build up very quickly. Even right now you could probably sell it for several thousand more than what you bought it for. The latest I heard on the chip shortage is that it will only slowly abate in 2022. According to one article I saw, things aren\\'t likely to truly get back to \"normal,\" whatever that is, probably until the second half of 2023. If true, this will likely mean that there won\\'t be a sudden collapse of car prices. With all the lost production and pent up demand we\\'ve got, used and new vehicle prices are likely to remain high for the first half of 2022, and then only slowly start to decline after that. And so in 6 months or so when your Maverick hybrid arrives you should still be able to pocket a handy profit on your 2.0 Maverick as you make the trade. ',\n",
       " '\\n\\n@stickguy said:\\nXM only comes on it if you add the Lariat Luxury package. No navi option at all, which is fine by me. They assume you will use your phone, which I do. Same I assume for the music. That I need to spend some time playing with. I have the XM app but never used it so I might figure that out tomorrow.\\n\\nWith Apple Car Play the XM app is pretty much the same as built in XM.\\nHappy New Year everyone!\\n',\n",
       " '\\n\\n@qbrozen said:\\nI don’t have the room for it but someone should save this poor thing and fix all the wrong that has been thrust upon it. It isn’t too much, really. https://bringatrailer.com/listing/1974-plymouth-barracuda-2/\\n\\nThe obvious stuff isn’t too scary. I’d be concerned about what you can’t see. I agree it has potential.\\n',\n",
       " '\\nCongrats @stickguy ……very cool! ',\n",
       " '\\nHappy New Year all!Congrats @stickguy. I really, really like that! ']"
      ]
     },
     "execution_count": 80,
     "metadata": {},
     "output_type": "execute_result"
    }
   ],
   "source": [
    "# Extract the message column\n",
    "messages = comments['message'].tolist()\n",
    "messages[:5]"
   ]
  },
  {
   "cell_type": "code",
   "execution_count": 3,
   "metadata": {},
   "outputs": [
    {
     "data": {
      "text/html": [
       "<div>\n",
       "<style scoped>\n",
       "    .dataframe tbody tr th:only-of-type {\n",
       "        vertical-align: middle;\n",
       "    }\n",
       "\n",
       "    .dataframe tbody tr th {\n",
       "        vertical-align: top;\n",
       "    }\n",
       "\n",
       "    .dataframe thead th {\n",
       "        text-align: right;\n",
       "    }\n",
       "</style>\n",
       "<table border=\"1\" class=\"dataframe\">\n",
       "  <thead>\n",
       "    <tr style=\"text-align: right;\">\n",
       "      <th></th>\n",
       "      <th>Make</th>\n",
       "    </tr>\n",
       "  </thead>\n",
       "  <tbody>\n",
       "    <tr>\n",
       "      <th>0</th>\n",
       "      <td>SNVI</td>\n",
       "    </tr>\n",
       "    <tr>\n",
       "      <th>1</th>\n",
       "      <td>Zanella</td>\n",
       "    </tr>\n",
       "    <tr>\n",
       "      <th>2</th>\n",
       "      <td>Koller</td>\n",
       "    </tr>\n",
       "    <tr>\n",
       "      <th>3</th>\n",
       "      <td>Anasagasti</td>\n",
       "    </tr>\n",
       "    <tr>\n",
       "      <th>4</th>\n",
       "      <td>AutoLatina</td>\n",
       "    </tr>\n",
       "  </tbody>\n",
       "</table>\n",
       "</div>"
      ],
      "text/plain": [
       "         Make\n",
       "0        SNVI\n",
       "1     Zanella\n",
       "2      Koller\n",
       "3  Anasagasti\n",
       "4  AutoLatina"
      ]
     },
     "execution_count": 3,
     "metadata": {},
     "output_type": "execute_result"
    }
   ],
   "source": [
    "brands = pd.read_csv('car_companies.csv')\n",
    "brands.head()"
   ]
  },
  {
   "cell_type": "code",
   "execution_count": 43,
   "metadata": {},
   "outputs": [
    {
     "data": {
      "text/plain": [
       "['snvi', 'zanella', 'koller', 'anasagasti', 'autolatina']"
      ]
     },
     "execution_count": 43,
     "metadata": {},
     "output_type": "execute_result"
    }
   ],
   "source": [
    "# Extract the brand names\n",
    "brands = brands['Make'].tolist()\n",
    "\n",
    "# Convert to lowercase\n",
    "brands = list(map(str.lower,brands))\n",
    "\n",
    "brands[:5]"
   ]
  },
  {
   "cell_type": "code",
   "execution_count": null,
   "metadata": {},
   "outputs": [],
   "source": [
    "freqDict = dict(zip(brands, [0]*len(brands)))\n",
    "\n",
    "# For each message\n",
    "for i in range(len(messages)):\n",
    "    # For every word in the message\n",
    "    text = set(messages[i].lower().replace('\\n','').split(\" \"))\n",
    "    for w in text:\n",
    "        if w in brands:\n",
    "            freqDict[w] += 1"
   ]
  },
  {
   "cell_type": "code",
   "execution_count": 82,
   "metadata": {},
   "outputs": [
    {
     "name": "stdout",
     "output_type": "stream",
     "text": [
      "{'steyr': 1, 'brooks': 3, 'dennis': 1, 'dynasty': 1, 'passport': 2, 'russell': 8, 'aero': 5, 'alpine': 6, 'bugatti': 3, 'peugeot': 8, 'renault': 1, 'alpina': 1, 'apollo': 1, 'audi': 190, 'bitter': 5, 'bmw': 369, 'fuso': 4, 'man': 64, 'mercedes-benz': 4, 'opel': 33, 'porsche': 33, 'smart': 50, 'volkswagen': 6, 'nag': 2, 'bet': 97, 'force': 17, 'tvs': 7, 'premier': 8, 'standard': 120, 'cts': 4, 'ducati': 3, 'ferrari': 11, 'fiat': 34, 'iso': 1, 'lamborghini': 1, 'maserati': 8, 'zagato': 3, 'bertone': 4, 'fca': 2, 'rapid': 3, 'acura': 156, 'daihatsu': 1, 'dome': 3, 'honda': 240, 'infiniti': 64, 'isuzu': 8, 'lexus': 69, 'mazda': 76, 'nissan': 131, 'subaru': 107, 'suzuki': 12, 'toyota': 279, 'datsun': 2, 'eunos': 1, 'stellantis': 11, 'buddy': 46, 'think': 1927, 'delta': 20, 'star': 16, 'yugo': 4, 'genesis': 27, 'hyundai': 134, 'kia': 81, 'daewoo': 3, 'samsung': 7, 'seat': 199, 'micro': 10, 'polestar': 46, 'saab': 12, 'martini': 1, 'ac': 43, 'bentley': 8, 'jaguar': 3, 'lotus': 4, 'mclaren': 2, 'mg': 3, 'mini': 159, 'rolls-royce': 1, 'tvr': 1, 'vauxhall': 1, 'alvis': 1, 'austin': 29, 'bristol': 2, 'rover': 11, 'triumph': 3, 'buick': 35, 'cadillac': 44, 'chevrolet': 13, 'chrysler': 55, 'dodge': 36, 'eldorado': 3, 'fisker': 2, 'ford': 472, 'gm': 79, 'google': 44, 'gem': 4, 'gmc': 7, 'jeep': 274, 'karma': 1, 'lincoln': 39, 'mack': 1, 'pierce': 1, 'polaris': 1, 'ram': 78, 'rivian': 83, 'srt': 2, 'tesla': 169, 'amc': 2, 'brush': 7, 'chandler': 3, 'columbia': 1, 'continental': 33, 'cord': 10, 'cutting': 20, 'eagle': 4, 'edsel': 3, 'gardner': 1, 'geo': 2, 'hudson': 1, 'hummer': 1, 'jackson': 3, 'kaiser': 1, 'king': 14, 'local': 443, 'mercury': 4, 'mitchell': 4, 'moon': 17, 'nash': 1, 'national': 45, 'oldsmobile': 13, 'overland': 1, 'packard': 2, 'peerless': 3, 'pilot': 78, 'plymouth': 7, 'pontiac': 19, 'regal': 4, 'saturn': 25, 'stanley': 2, 'white': 243, 'willys': 4}\n"
     ]
    }
   ],
   "source": [
    "newDict = dict((k, v) for k, v in freqDict.items() if v > 0)\n",
    "print(newDict)"
   ]
  },
  {
   "cell_type": "code",
   "execution_count": 85,
   "metadata": {},
   "outputs": [
    {
     "name": "stdout",
     "output_type": "stream",
     "text": [
      "{'think': 1927, 'ford': 472, 'local': 443, 'bmw': 369, 'toyota': 279, 'jeep': 274, 'white': 243, 'honda': 240, 'seat': 199, 'audi': 190, 'tesla': 169, 'mini': 159, 'acura': 156, 'hyundai': 134, 'nissan': 131, 'standard': 120, 'subaru': 107, 'bet': 97, 'rivian': 83, 'kia': 81, 'gm': 79, 'ram': 78, 'pilot': 78, 'mazda': 76, 'lexus': 69, 'man': 64, 'infiniti': 64, 'chrysler': 55, 'smart': 50, 'buddy': 46, 'polestar': 46, 'national': 45, 'cadillac': 44, 'google': 44, 'ac': 43, 'lincoln': 39, 'dodge': 36, 'buick': 35, 'fiat': 34, 'opel': 33, 'porsche': 33, 'continental': 33, 'austin': 29, 'genesis': 27, 'saturn': 25, 'delta': 20, 'cutting': 20, 'pontiac': 19, 'force': 17, 'moon': 17, 'star': 16, 'king': 14, 'chevrolet': 13, 'oldsmobile': 13, 'suzuki': 12, 'saab': 12, 'ferrari': 11, 'stellantis': 11, 'rover': 11, 'micro': 10, 'cord': 10, 'russell': 8, 'peugeot': 8, 'premier': 8, 'maserati': 8, 'isuzu': 8, 'bentley': 8, 'tvs': 7, 'samsung': 7, 'gmc': 7, 'brush': 7, 'plymouth': 7, 'alpine': 6, 'volkswagen': 6, 'aero': 5, 'bitter': 5, 'fuso': 4, 'mercedes-benz': 4, 'cts': 4, 'bertone': 4, 'yugo': 4, 'lotus': 4, 'gem': 4, 'eagle': 4, 'mercury': 4, 'mitchell': 4, 'regal': 4, 'willys': 4, 'brooks': 3, 'bugatti': 3, 'ducati': 3, 'zagato': 3, 'rapid': 3, 'dome': 3, 'daewoo': 3, 'jaguar': 3, 'mg': 3, 'triumph': 3, 'eldorado': 3, 'chandler': 3, 'edsel': 3, 'jackson': 3, 'peerless': 3, 'passport': 2, 'nag': 2, 'fca': 2, 'datsun': 2, 'mclaren': 2, 'bristol': 2, 'fisker': 2, 'srt': 2, 'amc': 2, 'geo': 2, 'packard': 2, 'stanley': 2, 'steyr': 1, 'dennis': 1, 'dynasty': 1, 'renault': 1, 'alpina': 1, 'apollo': 1, 'iso': 1, 'lamborghini': 1, 'daihatsu': 1, 'eunos': 1, 'martini': 1, 'rolls-royce': 1, 'tvr': 1, 'vauxhall': 1, 'alvis': 1, 'karma': 1, 'mack': 1, 'pierce': 1, 'polaris': 1, 'columbia': 1, 'gardner': 1, 'hudson': 1, 'hummer': 1, 'kaiser': 1, 'nash': 1, 'overland': 1}\n"
     ]
    }
   ],
   "source": [
    "sorted_brands = sorted(newDict.items(), key=lambda x:x[1], reverse=True)\n",
    "sorted_dict = dict(sorted_brands)\n",
    "\n",
    "print(sorted_dict)"
   ]
  },
  {
   "attachments": {},
   "cell_type": "markdown",
   "metadata": {},
   "source": [
    "\"THINK', 'LOCAL', and 'WHITE' are some common words that people use in their sentences, it is highly likely that they got misclassified as a car brand.\n",
    "\n",
    "Additionaly, 'TH!NK' has filed bankrupty in 2011, \"LOCAL\" also shut down their factory in the beginning of 2022, and \"WHITE\" is an old brand back in the 1980s.\n",
    "\n",
    "It is safe to say people were not referring to the brand \"TH!NK\", \"LOCAL\" or \"WHITE\" when they used these threee words.\n",
    "\n",
    "So the actual top-5 brand should be <b>Ford, BMW, Toyota, Jeep, and Honda</b>."
   ]
  }
 ],
 "metadata": {
  "kernelspec": {
   "display_name": "Python 3",
   "language": "python",
   "name": "python3"
  },
  "language_info": {
   "codemirror_mode": {
    "name": "ipython",
    "version": 3
   },
   "file_extension": ".py",
   "mimetype": "text/x-python",
   "name": "python",
   "nbconvert_exporter": "python",
   "pygments_lexer": "ipython3",
   "version": "3.10.8"
  },
  "orig_nbformat": 4,
  "vscode": {
   "interpreter": {
    "hash": "eb8d3085d426e5e8dee3252ffbadecffc2a8c816985f9d79249a1de42c265c0a"
   }
  }
 },
 "nbformat": 4,
 "nbformat_minor": 2
}
