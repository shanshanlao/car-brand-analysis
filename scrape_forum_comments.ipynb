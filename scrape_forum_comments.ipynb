{
 "cells": [
  {
   "attachments": {},
   "cell_type": "markdown",
   "metadata": {},
   "source": [
    "### Script Purpose\n",
    "\n",
    "- Collect ~5000 or more messages posted in Edmunds.com discussion forums on cars.\n",
    "- Present the results in a clean .csv file with three columns: date, userid and message. \n",
    "\n",
    "https://forums.edmunds.com/discussion/4011/general/x/chronic-car-buyers-anonymous"
   ]
  },
  {
   "cell_type": "code",
   "execution_count": 14,
   "metadata": {},
   "outputs": [],
   "source": [
    "import requests\n",
    "import time\n",
    "from bs4 import BeautifulSoup\n",
    "\n",
    "import pandas as pd"
   ]
  },
  {
   "cell_type": "code",
   "execution_count": 15,
   "metadata": {},
   "outputs": [],
   "source": [
    "# User-defined function for Scraping the data\n",
    "\n",
    "def getData(url):\n",
    "    page = requests.get(url, headers = {'My-Header':'value'})\n",
    "    return page.text"
   ]
  },
  {
   "cell_type": "code",
   "execution_count": 16,
   "metadata": {},
   "outputs": [
    {
     "data": {
      "text/html": [
       "<div>\n",
       "<style scoped>\n",
       "    .dataframe tbody tr th:only-of-type {\n",
       "        vertical-align: middle;\n",
       "    }\n",
       "\n",
       "    .dataframe tbody tr th {\n",
       "        vertical-align: top;\n",
       "    }\n",
       "\n",
       "    .dataframe thead th {\n",
       "        text-align: right;\n",
       "    }\n",
       "</style>\n",
       "<table border=\"1\" class=\"dataframe\">\n",
       "  <thead>\n",
       "    <tr style=\"text-align: right;\">\n",
       "      <th></th>\n",
       "      <th>date</th>\n",
       "      <th>user_id</th>\n",
       "      <th>message</th>\n",
       "    </tr>\n",
       "  </thead>\n",
       "  <tbody>\n",
       "    <tr>\n",
       "      <th>0</th>\n",
       "      <td>September 7, 2005 11:51AM</td>\n",
       "      <td>zodiac2004</td>\n",
       "      <td>\\nAm I the only one who thinks the 6-speed wou...</td>\n",
       "    </tr>\n",
       "    <tr>\n",
       "      <th>1</th>\n",
       "      <td>September 7, 2005 12:39PM</td>\n",
       "      <td>andre1969</td>\n",
       "      <td>\\nlike it would be overkill. Usually it's smal...</td>\n",
       "    </tr>\n",
       "    <tr>\n",
       "      <th>2</th>\n",
       "      <td>September 7, 2005 12:42PM</td>\n",
       "      <td>ghulet</td>\n",
       "      <td>\\n...for the Accord EX V6 6MT is the same as t...</td>\n",
       "    </tr>\n",
       "    <tr>\n",
       "      <th>3</th>\n",
       "      <td>September 7, 2005 12:47PM</td>\n",
       "      <td>andre1969</td>\n",
       "      <td>\\nfor a new car, I'm actually thinking of a fa...</td>\n",
       "    </tr>\n",
       "    <tr>\n",
       "      <th>4</th>\n",
       "      <td>September 7, 2005 12:47PM</td>\n",
       "      <td>durability05</td>\n",
       "      <td>\\nI forgot one too, a used 1987 BMW 325 bought...</td>\n",
       "    </tr>\n",
       "  </tbody>\n",
       "</table>\n",
       "</div>"
      ],
      "text/plain": [
       "                        date       user_id  \\\n",
       "0  September 7, 2005 11:51AM    zodiac2004   \n",
       "1  September 7, 2005 12:39PM     andre1969   \n",
       "2  September 7, 2005 12:42PM        ghulet   \n",
       "3  September 7, 2005 12:47PM     andre1969   \n",
       "4  September 7, 2005 12:47PM  durability05   \n",
       "\n",
       "                                             message  \n",
       "0  \\nAm I the only one who thinks the 6-speed wou...  \n",
       "1  \\nlike it would be overkill. Usually it's smal...  \n",
       "2  \\n...for the Accord EX V6 6MT is the same as t...  \n",
       "3  \\nfor a new car, I'm actually thinking of a fa...  \n",
       "4  \\nI forgot one too, a used 1987 BMW 325 bought...  "
      ]
     },
     "execution_count": 16,
     "metadata": {},
     "output_type": "execute_result"
    }
   ],
   "source": [
    "# Scrape all the pages\n",
    "\n",
    "url = \"https://forums.edmunds.com/discussion/4011/general/x/chronic-car-buyers-anonymous/p\"\n",
    "\n",
    "authors = []\n",
    "messages = []\n",
    "dates = []\n",
    "\n",
    "for page in range(1,201): \n",
    "\n",
    "    # First extract the page\n",
    "    page_url = url + str(page)\n",
    "    soup = BeautifulSoup(getData(page_url), 'html.parser')\n",
    "\n",
    "    # In each page, scrape the comments\n",
    "    # Each comment: <div class=\"Comment\">\n",
    "        # Author: <span class=\"Author\"> <a title=\"userid\">\n",
    "        # Date: <span class=\"MItem DateCreated\"> <time title= >\n",
    "        # Message: <div class=\"Message userContent\">\n",
    "\n",
    "    comments = soup.find_all('div',class_ = 'Comment')\n",
    "\n",
    "    for comment in comments:\n",
    "        a_tag = comment.find(\"a\", class_=\"Username js-userCard\")\n",
    "        if a_tag:\n",
    "            authors.append(a_tag.text)\n",
    "\n",
    "        t_tag = comment.find(\"time\")\n",
    "        if t_tag:\n",
    "            dates.append(t_tag['title'])\n",
    "\n",
    "        m_tag = comment.find('div', class_=\"Message userContent\")\n",
    "        if m_tag:\n",
    "            messages.append(m_tag.text)\n",
    "    \n",
    "comments = pd.DataFrame(list(zip(dates,authors,messages)), columns = ['date','user_id','message'])\n",
    "comments.head()\n"
   ]
  },
  {
   "cell_type": "code",
   "execution_count": 17,
   "metadata": {},
   "outputs": [
    {
     "data": {
      "text/html": [
       "<div>\n",
       "<style scoped>\n",
       "    .dataframe tbody tr th:only-of-type {\n",
       "        vertical-align: middle;\n",
       "    }\n",
       "\n",
       "    .dataframe tbody tr th {\n",
       "        vertical-align: top;\n",
       "    }\n",
       "\n",
       "    .dataframe thead th {\n",
       "        text-align: right;\n",
       "    }\n",
       "</style>\n",
       "<table border=\"1\" class=\"dataframe\">\n",
       "  <thead>\n",
       "    <tr style=\"text-align: right;\">\n",
       "      <th></th>\n",
       "      <th>date</th>\n",
       "      <th>user_id</th>\n",
       "      <th>message</th>\n",
       "    </tr>\n",
       "  </thead>\n",
       "  <tbody>\n",
       "    <tr>\n",
       "      <th>0</th>\n",
       "      <td>September 7, 2005 11:51AM</td>\n",
       "      <td>zodiac2004</td>\n",
       "      <td>\\nAm I the only one who thinks the 6-speed wou...</td>\n",
       "    </tr>\n",
       "    <tr>\n",
       "      <th>1</th>\n",
       "      <td>September 7, 2005 12:39PM</td>\n",
       "      <td>andre1969</td>\n",
       "      <td>\\nlike it would be overkill. Usually it's smal...</td>\n",
       "    </tr>\n",
       "    <tr>\n",
       "      <th>2</th>\n",
       "      <td>September 7, 2005 12:42PM</td>\n",
       "      <td>ghulet</td>\n",
       "      <td>\\n...for the Accord EX V6 6MT is the same as t...</td>\n",
       "    </tr>\n",
       "    <tr>\n",
       "      <th>3</th>\n",
       "      <td>September 7, 2005 12:47PM</td>\n",
       "      <td>andre1969</td>\n",
       "      <td>\\nfor a new car, I'm actually thinking of a fa...</td>\n",
       "    </tr>\n",
       "    <tr>\n",
       "      <th>4</th>\n",
       "      <td>September 7, 2005 12:47PM</td>\n",
       "      <td>durability05</td>\n",
       "      <td>\\nI forgot one too, a used 1987 BMW 325 bought...</td>\n",
       "    </tr>\n",
       "  </tbody>\n",
       "</table>\n",
       "</div>"
      ],
      "text/plain": [
       "                        date       user_id  \\\n",
       "0  September 7, 2005 11:51AM    zodiac2004   \n",
       "1  September 7, 2005 12:39PM     andre1969   \n",
       "2  September 7, 2005 12:42PM        ghulet   \n",
       "3  September 7, 2005 12:47PM     andre1969   \n",
       "4  September 7, 2005 12:47PM  durability05   \n",
       "\n",
       "                                             message  \n",
       "0  \\nAm I the only one who thinks the 6-speed wou...  \n",
       "1  \\nlike it would be overkill. Usually it's smal...  \n",
       "2  \\n...for the Accord EX V6 6MT is the same as t...  \n",
       "3  \\nfor a new car, I'm actually thinking of a fa...  \n",
       "4  \\nI forgot one too, a used 1987 BMW 325 bought...  "
      ]
     },
     "execution_count": 17,
     "metadata": {},
     "output_type": "execute_result"
    }
   ],
   "source": [
    "comments = pd.DataFrame(list(zip(dates,authors,messages)), columns = ['date','user_id','message'])\n",
    "comments.head()"
   ]
  },
  {
   "cell_type": "code",
   "execution_count": 18,
   "metadata": {},
   "outputs": [
    {
     "data": {
      "text/plain": [
       "(10000, 3)"
      ]
     },
     "execution_count": 18,
     "metadata": {},
     "output_type": "execute_result"
    }
   ],
   "source": [
    "comments.shape"
   ]
  },
  {
   "cell_type": "code",
   "execution_count": 19,
   "metadata": {},
   "outputs": [],
   "source": [
    "comments.to_csv('forum_comments.csv')"
   ]
  }
 ],
 "metadata": {
  "kernelspec": {
   "display_name": "Python 3",
   "language": "python",
   "name": "python3"
  },
  "language_info": {
   "codemirror_mode": {
    "name": "ipython",
    "version": 3
   },
   "file_extension": ".py",
   "mimetype": "text/x-python",
   "name": "python",
   "nbconvert_exporter": "python",
   "pygments_lexer": "ipython3",
   "version": "3.10.8"
  },
  "orig_nbformat": 4,
  "vscode": {
   "interpreter": {
    "hash": "eb8d3085d426e5e8dee3252ffbadecffc2a8c816985f9d79249a1de42c265c0a"
   }
  }
 },
 "nbformat": 4,
 "nbformat_minor": 2
}
